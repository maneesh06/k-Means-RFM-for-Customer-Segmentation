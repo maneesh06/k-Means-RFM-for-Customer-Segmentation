{
  "nbformat": 4,
  "nbformat_minor": 0,
  "metadata": {
    "colab": {
      "name": "Retail Pulse: DS Assignment_EDA.ipynb",
      "provenance": [],
      "collapsed_sections": []
    },
    "kernelspec": {
      "name": "python3",
      "display_name": "Python 3"
    },
    "language_info": {
      "name": "python"
    }
  },
  "cells": [
    {
      "cell_type": "markdown",
      "metadata": {
        "id": "29KV9jEhipj5"
      },
      "source": [
        "### Import Libraries"
      ]
    },
    {
      "cell_type": "code",
      "metadata": {
        "id": "JIWNI9fFd3KK"
      },
      "source": [
        "# for Data manipulation and analysis\n",
        "import pandas as pd\n",
        "import numpy as np\n",
        "\n",
        "# for plotting\n",
        "import seaborn as sns\n",
        "import matplotlib.pyplot as plt\n",
        "from mpl_toolkits import mplot3d\n",
        "sns.set_style('darkgrid')\n",
        "\n",
        "# Silhouette analysis\n",
        "from sklearn.metrics import silhouette_score\n",
        "\n",
        "# To perform KMeans clustering \n",
        "from sklearn.cluster import KMeans\n",
        "\n",
        "# for scaling\n",
        "from sklearn.preprocessing import StandardScaler\n",
        "\n",
        "import warnings\n",
        "warnings.filterwarnings('ignore')"
      ],
      "execution_count": 1,
      "outputs": []
    },
    {
      "cell_type": "code",
      "metadata": {
        "colab": {
          "base_uri": "https://localhost:8080/"
        },
        "id": "Zv7GPlByiYuT",
        "outputId": "8e186a8f-85d5-4249-b7d9-d6d46a5ff4ba"
      },
      "source": [
        "!pip install openpyxl"
      ],
      "execution_count": 2,
      "outputs": [
        {
          "output_type": "stream",
          "name": "stdout",
          "text": [
            "Requirement already satisfied: openpyxl in /usr/local/lib/python3.7/dist-packages (2.5.9)\n",
            "Requirement already satisfied: jdcal in /usr/local/lib/python3.7/dist-packages (from openpyxl) (1.4.1)\n",
            "Requirement already satisfied: et-xmlfile in /usr/local/lib/python3.7/dist-packages (from openpyxl) (1.1.0)\n"
          ]
        }
      ]
    },
    {
      "cell_type": "code",
      "metadata": {
        "colab": {
          "base_uri": "https://localhost:8080/"
        },
        "id": "-crfVAVMiXRM",
        "outputId": "bb02217a-02c0-4851-a8a9-69d0e516f66e"
      },
      "source": [
        "!pip install xlrd"
      ],
      "execution_count": 3,
      "outputs": [
        {
          "output_type": "stream",
          "name": "stdout",
          "text": [
            "Requirement already satisfied: xlrd in /usr/local/lib/python3.7/dist-packages (1.1.0)\n"
          ]
        }
      ]
    },
    {
      "cell_type": "code",
      "metadata": {
        "id": "yvmsZ8J1e5R2"
      },
      "source": [
        "## load the DataSet\n",
        "df = pd.read_excel('RetailPulseAssignmentData.xlsx')"
      ],
      "execution_count": 4,
      "outputs": []
    },
    {
      "cell_type": "code",
      "metadata": {
        "colab": {
          "base_uri": "https://localhost:8080/",
          "height": 206
        },
        "id": "RPQQ8nkZfBkz",
        "outputId": "c5d2656b-c950-42ab-f073-b6c382f98190"
      },
      "source": [
        "## random 5 values\n",
        "df.sample(5)"
      ],
      "execution_count": 5,
      "outputs": [
        {
          "output_type": "execute_result",
          "data": {
            "text/html": [
              "<div>\n",
              "<style scoped>\n",
              "    .dataframe tbody tr th:only-of-type {\n",
              "        vertical-align: middle;\n",
              "    }\n",
              "\n",
              "    .dataframe tbody tr th {\n",
              "        vertical-align: top;\n",
              "    }\n",
              "\n",
              "    .dataframe thead th {\n",
              "        text-align: right;\n",
              "    }\n",
              "</style>\n",
              "<table border=\"1\" class=\"dataframe\">\n",
              "  <thead>\n",
              "    <tr style=\"text-align: right;\">\n",
              "      <th></th>\n",
              "      <th>Invoice</th>\n",
              "      <th>StockCode</th>\n",
              "      <th>Description</th>\n",
              "      <th>Quantity</th>\n",
              "      <th>InvoiceDate</th>\n",
              "      <th>Price</th>\n",
              "      <th>Customer ID</th>\n",
              "      <th>Country</th>\n",
              "    </tr>\n",
              "  </thead>\n",
              "  <tbody>\n",
              "    <tr>\n",
              "      <th>34515</th>\n",
              "      <td>492285</td>\n",
              "      <td>21770</td>\n",
              "      <td>OPEN CLOSED METAL SIGN</td>\n",
              "      <td>4</td>\n",
              "      <td>2009-12-16 11:45:00</td>\n",
              "      <td>4.95</td>\n",
              "      <td>13097.0</td>\n",
              "      <td>United Kingdom</td>\n",
              "    </tr>\n",
              "    <tr>\n",
              "      <th>43916</th>\n",
              "      <td>493260</td>\n",
              "      <td>22099</td>\n",
              "      <td>CARAVAN SQUARE TISSUE BOX</td>\n",
              "      <td>1</td>\n",
              "      <td>2009-12-22 14:31:00</td>\n",
              "      <td>2.57</td>\n",
              "      <td>NaN</td>\n",
              "      <td>United Kingdom</td>\n",
              "    </tr>\n",
              "    <tr>\n",
              "      <th>24218</th>\n",
              "      <td>491403</td>\n",
              "      <td>22296</td>\n",
              "      <td>HEART IVORY TRELLIS LARGE</td>\n",
              "      <td>12</td>\n",
              "      <td>2009-12-10 17:27:00</td>\n",
              "      <td>1.65</td>\n",
              "      <td>14030.0</td>\n",
              "      <td>United Kingdom</td>\n",
              "    </tr>\n",
              "    <tr>\n",
              "      <th>522840</th>\n",
              "      <td>537915</td>\n",
              "      <td>22622</td>\n",
              "      <td>BOX OF VINTAGE ALPHABET BLOCKS</td>\n",
              "      <td>2</td>\n",
              "      <td>2010-12-09 10:55:00</td>\n",
              "      <td>9.95</td>\n",
              "      <td>12797.0</td>\n",
              "      <td>Portugal</td>\n",
              "    </tr>\n",
              "    <tr>\n",
              "      <th>350004</th>\n",
              "      <td>C523396</td>\n",
              "      <td>84946</td>\n",
              "      <td>ANTIQUE SILVER TEA GLASS ETCHED</td>\n",
              "      <td>-2</td>\n",
              "      <td>2010-09-21 20:13:00</td>\n",
              "      <td>1.25</td>\n",
              "      <td>13555.0</td>\n",
              "      <td>United Kingdom</td>\n",
              "    </tr>\n",
              "  </tbody>\n",
              "</table>\n",
              "</div>"
            ],
            "text/plain": [
              "        Invoice StockCode  ... Customer ID         Country\n",
              "34515    492285     21770  ...     13097.0  United Kingdom\n",
              "43916    493260     22099  ...         NaN  United Kingdom\n",
              "24218    491403     22296  ...     14030.0  United Kingdom\n",
              "522840   537915     22622  ...     12797.0        Portugal\n",
              "350004  C523396     84946  ...     13555.0  United Kingdom\n",
              "\n",
              "[5 rows x 8 columns]"
            ]
          },
          "metadata": {},
          "execution_count": 5
        }
      ]
    },
    {
      "cell_type": "code",
      "metadata": {
        "colab": {
          "base_uri": "https://localhost:8080/"
        },
        "id": "RR08y0Jjg802",
        "outputId": "4cdf054f-609b-46bb-ffb2-ec85f7e8e9e4"
      },
      "source": [
        "## check the shape of the DataSet\n",
        "df.shape"
      ],
      "execution_count": 6,
      "outputs": [
        {
          "output_type": "execute_result",
          "data": {
            "text/plain": [
              "(525461, 8)"
            ]
          },
          "metadata": {},
          "execution_count": 6
        }
      ]
    },
    {
      "cell_type": "code",
      "metadata": {
        "colab": {
          "base_uri": "https://localhost:8080/"
        },
        "id": "y7nd1UTojNcc",
        "outputId": "cc993577-f46f-4b6f-8dc5-fdfc19a1ffb1"
      },
      "source": [
        "# looking at the overall picture\n",
        "df.info()"
      ],
      "execution_count": 7,
      "outputs": [
        {
          "output_type": "stream",
          "name": "stdout",
          "text": [
            "<class 'pandas.core.frame.DataFrame'>\n",
            "RangeIndex: 525461 entries, 0 to 525460\n",
            "Data columns (total 8 columns):\n",
            " #   Column       Non-Null Count   Dtype         \n",
            "---  ------       --------------   -----         \n",
            " 0   Invoice      525461 non-null  object        \n",
            " 1   StockCode    525461 non-null  object        \n",
            " 2   Description  522533 non-null  object        \n",
            " 3   Quantity     525461 non-null  int64         \n",
            " 4   InvoiceDate  525461 non-null  datetime64[ns]\n",
            " 5   Price        525461 non-null  float64       \n",
            " 6   Customer ID  417534 non-null  float64       \n",
            " 7   Country      525461 non-null  object        \n",
            "dtypes: datetime64[ns](1), float64(2), int64(1), object(4)\n",
            "memory usage: 32.1+ MB\n"
          ]
        }
      ]
    },
    {
      "cell_type": "code",
      "metadata": {
        "colab": {
          "base_uri": "https://localhost:8080/",
          "height": 300
        },
        "id": "LykSasjfjSmF",
        "outputId": "8c8b2d14-2b4b-4a08-e54b-b7391913d3c6"
      },
      "source": [
        "## description of all \n",
        "df.describe()"
      ],
      "execution_count": 8,
      "outputs": [
        {
          "output_type": "execute_result",
          "data": {
            "text/html": [
              "<div>\n",
              "<style scoped>\n",
              "    .dataframe tbody tr th:only-of-type {\n",
              "        vertical-align: middle;\n",
              "    }\n",
              "\n",
              "    .dataframe tbody tr th {\n",
              "        vertical-align: top;\n",
              "    }\n",
              "\n",
              "    .dataframe thead th {\n",
              "        text-align: right;\n",
              "    }\n",
              "</style>\n",
              "<table border=\"1\" class=\"dataframe\">\n",
              "  <thead>\n",
              "    <tr style=\"text-align: right;\">\n",
              "      <th></th>\n",
              "      <th>Quantity</th>\n",
              "      <th>Price</th>\n",
              "      <th>Customer ID</th>\n",
              "    </tr>\n",
              "  </thead>\n",
              "  <tbody>\n",
              "    <tr>\n",
              "      <th>count</th>\n",
              "      <td>525461.000000</td>\n",
              "      <td>525461.000000</td>\n",
              "      <td>417534.000000</td>\n",
              "    </tr>\n",
              "    <tr>\n",
              "      <th>mean</th>\n",
              "      <td>10.337667</td>\n",
              "      <td>4.688834</td>\n",
              "      <td>15360.645478</td>\n",
              "    </tr>\n",
              "    <tr>\n",
              "      <th>std</th>\n",
              "      <td>107.424110</td>\n",
              "      <td>146.126914</td>\n",
              "      <td>1680.811316</td>\n",
              "    </tr>\n",
              "    <tr>\n",
              "      <th>min</th>\n",
              "      <td>-9600.000000</td>\n",
              "      <td>-53594.360000</td>\n",
              "      <td>12346.000000</td>\n",
              "    </tr>\n",
              "    <tr>\n",
              "      <th>25%</th>\n",
              "      <td>1.000000</td>\n",
              "      <td>1.250000</td>\n",
              "      <td>13983.000000</td>\n",
              "    </tr>\n",
              "    <tr>\n",
              "      <th>50%</th>\n",
              "      <td>3.000000</td>\n",
              "      <td>2.100000</td>\n",
              "      <td>15311.000000</td>\n",
              "    </tr>\n",
              "    <tr>\n",
              "      <th>75%</th>\n",
              "      <td>10.000000</td>\n",
              "      <td>4.210000</td>\n",
              "      <td>16799.000000</td>\n",
              "    </tr>\n",
              "    <tr>\n",
              "      <th>max</th>\n",
              "      <td>19152.000000</td>\n",
              "      <td>25111.090000</td>\n",
              "      <td>18287.000000</td>\n",
              "    </tr>\n",
              "  </tbody>\n",
              "</table>\n",
              "</div>"
            ],
            "text/plain": [
              "            Quantity          Price    Customer ID\n",
              "count  525461.000000  525461.000000  417534.000000\n",
              "mean       10.337667       4.688834   15360.645478\n",
              "std       107.424110     146.126914    1680.811316\n",
              "min     -9600.000000  -53594.360000   12346.000000\n",
              "25%         1.000000       1.250000   13983.000000\n",
              "50%         3.000000       2.100000   15311.000000\n",
              "75%        10.000000       4.210000   16799.000000\n",
              "max     19152.000000   25111.090000   18287.000000"
            ]
          },
          "metadata": {},
          "execution_count": 8
        }
      ]
    },
    {
      "cell_type": "code",
      "metadata": {
        "colab": {
          "base_uri": "https://localhost:8080/",
          "height": 483
        },
        "id": "yQSCCcqoIaHl",
        "outputId": "aa477d2c-d969-40d1-f561-97eae7bd4c8c"
      },
      "source": [
        "plt.subplots(figsize=(10, 8))\n",
        "sns.heatmap(df.isnull(), yticklabels = False,cbar = False, cmap='cubehelix')\n",
        "plt.show()"
      ],
      "execution_count": 9,
      "outputs": [
        {
          "output_type": "display_data",
          "data": {
            "image/png": "[encoded data removed]",
            "text/plain": [
              "<Figure size 720x576 with 1 Axes>"
            ]
          },
          "metadata": {
            "needs_background": "light"
          }
        }
      ]
    },
    {
      "cell_type": "code",
      "metadata": {
        "colab": {
          "base_uri": "https://localhost:8080/"
        },
        "id": "2QEaOpkbjkbo",
        "outputId": "09fa8267-37a8-4c47-d1f2-f69905b27026"
      },
      "source": [
        "# checking the number of missing values in each column\n",
        "df.isnull().sum()"
      ],
      "execution_count": 10,
      "outputs": [
        {
          "output_type": "execute_result",
          "data": {
            "text/plain": [
              "Invoice             0\n",
              "StockCode           0\n",
              "Description      2928\n",
              "Quantity            0\n",
              "InvoiceDate         0\n",
              "Price               0\n",
              "Customer ID    107927\n",
              "Country             0\n",
              "dtype: int64"
            ]
          },
          "metadata": {},
          "execution_count": 10
        }
      ]
    },
    {
      "cell_type": "markdown",
      "metadata": {
        "id": "q14YcjonDBD3"
      },
      "source": [
        "## Data Cleaning"
      ]
    },
    {
      "cell_type": "code",
      "metadata": {
        "colab": {
          "base_uri": "https://localhost:8080/"
        },
        "id": "ArP6EIbxCcIz",
        "outputId": "c4aab872-679a-4c76-b033-942c725d0288"
      },
      "source": [
        "# count of duplicated rows in the data\n",
        "df.duplicated().sum()"
      ],
      "execution_count": 11,
      "outputs": [
        {
          "output_type": "execute_result",
          "data": {
            "text/plain": [
              "6865"
            ]
          },
          "metadata": {},
          "execution_count": 11
        }
      ]
    },
    {
      "cell_type": "code",
      "metadata": {
        "colab": {
          "base_uri": "https://localhost:8080/"
        },
        "id": "jciupG3ICgKx",
        "outputId": "98d653f1-4dfb-4372-e208-0351cf170e50"
      },
      "source": [
        "# removing the duplicate rows\n",
        "df = df[~df.duplicated()]\n",
        "df.shape"
      ],
      "execution_count": 12,
      "outputs": [
        {
          "output_type": "execute_result",
          "data": {
            "text/plain": [
              "(518596, 8)"
            ]
          },
          "metadata": {},
          "execution_count": 12
        }
      ]
    },
    {
      "cell_type": "markdown",
      "metadata": {
        "id": "mmrrZsurDhqv"
      },
      "source": [
        "## Features:\n",
        "### Invoice"
      ]
    },
    {
      "cell_type": "code",
      "metadata": {
        "colab": {
          "base_uri": "https://localhost:8080/",
          "height": 423
        },
        "id": "_L2mW9qkCjBA",
        "outputId": "25dc9955-c36c-41be-f570-4f3e80c56c1a"
      },
      "source": [
        "# these are the transactions that have negative quantity which indicates returned or cancelled orders\n",
        "df[df['Invoice'].str.startswith('C')==True]"
      ],
      "execution_count": 13,
      "outputs": [
        {
          "output_type": "execute_result",
          "data": {
            "text/html": [
              "<div>\n",
              "<style scoped>\n",
              "    .dataframe tbody tr th:only-of-type {\n",
              "        vertical-align: middle;\n",
              "    }\n",
              "\n",
              "    .dataframe tbody tr th {\n",
              "        vertical-align: top;\n",
              "    }\n",
              "\n",
              "    .dataframe thead th {\n",
              "        text-align: right;\n",
              "    }\n",
              "</style>\n",
              "<table border=\"1\" class=\"dataframe\">\n",
              "  <thead>\n",
              "    <tr style=\"text-align: right;\">\n",
              "      <th></th>\n",
              "      <th>Invoice</th>\n",
              "      <th>StockCode</th>\n",
              "      <th>Description</th>\n",
              "      <th>Quantity</th>\n",
              "      <th>InvoiceDate</th>\n",
              "      <th>Price</th>\n",
              "      <th>Customer ID</th>\n",
              "      <th>Country</th>\n",
              "    </tr>\n",
              "  </thead>\n",
              "  <tbody>\n",
              "    <tr>\n",
              "      <th>178</th>\n",
              "      <td>C489449</td>\n",
              "      <td>22087</td>\n",
              "      <td>PAPER BUNTING WHITE LACE</td>\n",
              "      <td>-12</td>\n",
              "      <td>2009-12-01 10:33:00</td>\n",
              "      <td>2.95</td>\n",
              "      <td>16321.0</td>\n",
              "      <td>Australia</td>\n",
              "    </tr>\n",
              "    <tr>\n",
              "      <th>179</th>\n",
              "      <td>C489449</td>\n",
              "      <td>85206A</td>\n",
              "      <td>CREAM FELT EASTER EGG BASKET</td>\n",
              "      <td>-6</td>\n",
              "      <td>2009-12-01 10:33:00</td>\n",
              "      <td>1.65</td>\n",
              "      <td>16321.0</td>\n",
              "      <td>Australia</td>\n",
              "    </tr>\n",
              "    <tr>\n",
              "      <th>180</th>\n",
              "      <td>C489449</td>\n",
              "      <td>21895</td>\n",
              "      <td>POTTING SHED SOW 'N' GROW SET</td>\n",
              "      <td>-4</td>\n",
              "      <td>2009-12-01 10:33:00</td>\n",
              "      <td>4.25</td>\n",
              "      <td>16321.0</td>\n",
              "      <td>Australia</td>\n",
              "    </tr>\n",
              "    <tr>\n",
              "      <th>181</th>\n",
              "      <td>C489449</td>\n",
              "      <td>21896</td>\n",
              "      <td>POTTING SHED TWINE</td>\n",
              "      <td>-6</td>\n",
              "      <td>2009-12-01 10:33:00</td>\n",
              "      <td>2.10</td>\n",
              "      <td>16321.0</td>\n",
              "      <td>Australia</td>\n",
              "    </tr>\n",
              "    <tr>\n",
              "      <th>182</th>\n",
              "      <td>C489449</td>\n",
              "      <td>22083</td>\n",
              "      <td>PAPER CHAIN KIT RETRO SPOT</td>\n",
              "      <td>-12</td>\n",
              "      <td>2009-12-01 10:33:00</td>\n",
              "      <td>2.95</td>\n",
              "      <td>16321.0</td>\n",
              "      <td>Australia</td>\n",
              "    </tr>\n",
              "    <tr>\n",
              "      <th>...</th>\n",
              "      <td>...</td>\n",
              "      <td>...</td>\n",
              "      <td>...</td>\n",
              "      <td>...</td>\n",
              "      <td>...</td>\n",
              "      <td>...</td>\n",
              "      <td>...</td>\n",
              "      <td>...</td>\n",
              "    </tr>\n",
              "    <tr>\n",
              "      <th>524695</th>\n",
              "      <td>C538123</td>\n",
              "      <td>22956</td>\n",
              "      <td>36 FOIL HEART CAKE CASES</td>\n",
              "      <td>-2</td>\n",
              "      <td>2010-12-09 15:41:00</td>\n",
              "      <td>2.10</td>\n",
              "      <td>12605.0</td>\n",
              "      <td>Germany</td>\n",
              "    </tr>\n",
              "    <tr>\n",
              "      <th>524696</th>\n",
              "      <td>C538124</td>\n",
              "      <td>M</td>\n",
              "      <td>Manual</td>\n",
              "      <td>-4</td>\n",
              "      <td>2010-12-09 15:43:00</td>\n",
              "      <td>0.50</td>\n",
              "      <td>15329.0</td>\n",
              "      <td>United Kingdom</td>\n",
              "    </tr>\n",
              "    <tr>\n",
              "      <th>524697</th>\n",
              "      <td>C538124</td>\n",
              "      <td>22699</td>\n",
              "      <td>ROSES REGENCY TEACUP AND SAUCER</td>\n",
              "      <td>-1</td>\n",
              "      <td>2010-12-09 15:43:00</td>\n",
              "      <td>2.95</td>\n",
              "      <td>15329.0</td>\n",
              "      <td>United Kingdom</td>\n",
              "    </tr>\n",
              "    <tr>\n",
              "      <th>524698</th>\n",
              "      <td>C538124</td>\n",
              "      <td>22423</td>\n",
              "      <td>REGENCY CAKESTAND 3 TIER</td>\n",
              "      <td>-1</td>\n",
              "      <td>2010-12-09 15:43:00</td>\n",
              "      <td>12.75</td>\n",
              "      <td>15329.0</td>\n",
              "      <td>United Kingdom</td>\n",
              "    </tr>\n",
              "    <tr>\n",
              "      <th>525282</th>\n",
              "      <td>C538164</td>\n",
              "      <td>35004B</td>\n",
              "      <td>SET OF 3 BLACK FLYING DUCKS</td>\n",
              "      <td>-1</td>\n",
              "      <td>2010-12-09 17:32:00</td>\n",
              "      <td>1.95</td>\n",
              "      <td>14031.0</td>\n",
              "      <td>United Kingdom</td>\n",
              "    </tr>\n",
              "  </tbody>\n",
              "</table>\n",
              "<p>10182 rows × 8 columns</p>\n",
              "</div>"
            ],
            "text/plain": [
              "        Invoice StockCode  ... Customer ID         Country\n",
              "178     C489449     22087  ...     16321.0       Australia\n",
              "179     C489449    85206A  ...     16321.0       Australia\n",
              "180     C489449     21895  ...     16321.0       Australia\n",
              "181     C489449     21896  ...     16321.0       Australia\n",
              "182     C489449     22083  ...     16321.0       Australia\n",
              "...         ...       ...  ...         ...             ...\n",
              "524695  C538123     22956  ...     12605.0         Germany\n",
              "524696  C538124         M  ...     15329.0  United Kingdom\n",
              "524697  C538124     22699  ...     15329.0  United Kingdom\n",
              "524698  C538124     22423  ...     15329.0  United Kingdom\n",
              "525282  C538164    35004B  ...     14031.0  United Kingdom\n",
              "\n",
              "[10182 rows x 8 columns]"
            ]
          },
          "metadata": {},
          "execution_count": 13
        }
      ]
    },
    {
      "cell_type": "code",
      "metadata": {
        "colab": {
          "base_uri": "https://localhost:8080/"
        },
        "id": "R0Oh0bJlDF_M",
        "outputId": "0c40c2f6-9a70-4602-b307-6bafcb31e2c8"
      },
      "source": [
        "# removing all the invoice number who starts with 'C' as they are returned orders\n",
        "df = df[df['Invoice'].str.startswith('C')!=True]\n",
        "df.shape"
      ],
      "execution_count": 14,
      "outputs": [
        {
          "output_type": "execute_result",
          "data": {
            "text/plain": [
              "(508414, 8)"
            ]
          },
          "metadata": {},
          "execution_count": 14
        }
      ]
    },
    {
      "cell_type": "code",
      "metadata": {
        "colab": {
          "base_uri": "https://localhost:8080/"
        },
        "id": "frlNATMoDUJI",
        "outputId": "8c7499a3-5249-4a77-dff0-2b318d13ddd2"
      },
      "source": [
        "# checking the number of unique transactions\n",
        "# though there are more than 5 lakh entries but the number of transaction happened is 21892\n",
        "df.Invoice.nunique()"
      ],
      "execution_count": 15,
      "outputs": [
        {
          "output_type": "execute_result",
          "data": {
            "text/plain": [
              "24224"
            ]
          },
          "metadata": {},
          "execution_count": 15
        }
      ]
    },
    {
      "cell_type": "markdown",
      "metadata": {
        "id": "IdxUv-6CDjjw"
      },
      "source": [
        "### StockCode"
      ]
    },
    {
      "cell_type": "code",
      "metadata": {
        "colab": {
          "base_uri": "https://localhost:8080/"
        },
        "id": "81Xc6jGgDWHD",
        "outputId": "0a900c8d-8b45-4cf5-a860-3b41d3f535de"
      },
      "source": [
        "# checking the unique stock ids in the data or number of unqiue item sold by retailer\n",
        "df.StockCode.nunique()"
      ],
      "execution_count": 16,
      "outputs": [
        {
          "output_type": "execute_result",
          "data": {
            "text/plain": [
              "4627"
            ]
          },
          "metadata": {},
          "execution_count": 16
        }
      ]
    },
    {
      "cell_type": "code",
      "metadata": {
        "colab": {
          "base_uri": "https://localhost:8080/"
        },
        "id": "J0y2xzWvDpcT",
        "outputId": "160b51a6-9551-41d4-e77c-e8f4ee333a49"
      },
      "source": [
        "# top 10 stock ids that sold the most\n",
        "df.StockCode.value_counts().head(10)"
      ],
      "execution_count": 17,
      "outputs": [
        {
          "output_type": "execute_result",
          "data": {
            "text/plain": [
              "85123A    3377\n",
              "22423     2045\n",
              "85099B    2003\n",
              "21212     1887\n",
              "21232     1679\n",
              "20725     1558\n",
              "84879     1437\n",
              "84991     1372\n",
              "21754     1349\n",
              "20914     1207\n",
              "Name: StockCode, dtype: int64"
            ]
          },
          "metadata": {},
          "execution_count": 17
        }
      ]
    },
    {
      "cell_type": "code",
      "metadata": {
        "colab": {
          "base_uri": "https://localhost:8080/"
        },
        "id": "wVUVaLb2DsDJ",
        "outputId": "3e373b21-8713-4cdd-effb-af11b693d8bd"
      },
      "source": [
        "# looking at the distribution of the quantity\n",
        "# we seen that there is negative value which might indicate return orders\n",
        "df.Quantity.describe()"
      ],
      "execution_count": 18,
      "outputs": [
        {
          "output_type": "execute_result",
          "data": {
            "text/plain": [
              "count    508414.000000\n",
              "mean         11.066713\n",
              "std         105.046657\n",
              "min       -9600.000000\n",
              "25%           1.000000\n",
              "50%           3.000000\n",
              "75%          12.000000\n",
              "max       19152.000000\n",
              "Name: Quantity, dtype: float64"
            ]
          },
          "metadata": {},
          "execution_count": 18
        }
      ]
    },
    {
      "cell_type": "code",
      "metadata": {
        "colab": {
          "base_uri": "https://localhost:8080/",
          "height": 423
        },
        "id": "1g5bowf6Duf7",
        "outputId": "15d9eedb-d7d4-4ec9-e02f-7f79e42e385a"
      },
      "source": [
        "# looking at the data where quantity is negative and possible explanation is these are return orders or cancelled order\n",
        "df[df['Quantity']<0]"
      ],
      "execution_count": 19,
      "outputs": [
        {
          "output_type": "execute_result",
          "data": {
            "text/html": [
              "<div>\n",
              "<style scoped>\n",
              "    .dataframe tbody tr th:only-of-type {\n",
              "        vertical-align: middle;\n",
              "    }\n",
              "\n",
              "    .dataframe tbody tr th {\n",
              "        vertical-align: top;\n",
              "    }\n",
              "\n",
              "    .dataframe thead th {\n",
              "        text-align: right;\n",
              "    }\n",
              "</style>\n",
              "<table border=\"1\" class=\"dataframe\">\n",
              "  <thead>\n",
              "    <tr style=\"text-align: right;\">\n",
              "      <th></th>\n",
              "      <th>Invoice</th>\n",
              "      <th>StockCode</th>\n",
              "      <th>Description</th>\n",
              "      <th>Quantity</th>\n",
              "      <th>InvoiceDate</th>\n",
              "      <th>Price</th>\n",
              "      <th>Customer ID</th>\n",
              "      <th>Country</th>\n",
              "    </tr>\n",
              "  </thead>\n",
              "  <tbody>\n",
              "    <tr>\n",
              "      <th>263</th>\n",
              "      <td>489464</td>\n",
              "      <td>21733</td>\n",
              "      <td>85123a mixed</td>\n",
              "      <td>-96</td>\n",
              "      <td>2009-12-01 10:52:00</td>\n",
              "      <td>0.0</td>\n",
              "      <td>NaN</td>\n",
              "      <td>United Kingdom</td>\n",
              "    </tr>\n",
              "    <tr>\n",
              "      <th>283</th>\n",
              "      <td>489463</td>\n",
              "      <td>71477</td>\n",
              "      <td>short</td>\n",
              "      <td>-240</td>\n",
              "      <td>2009-12-01 10:52:00</td>\n",
              "      <td>0.0</td>\n",
              "      <td>NaN</td>\n",
              "      <td>United Kingdom</td>\n",
              "    </tr>\n",
              "    <tr>\n",
              "      <th>284</th>\n",
              "      <td>489467</td>\n",
              "      <td>85123A</td>\n",
              "      <td>21733 mixed</td>\n",
              "      <td>-192</td>\n",
              "      <td>2009-12-01 10:53:00</td>\n",
              "      <td>0.0</td>\n",
              "      <td>NaN</td>\n",
              "      <td>United Kingdom</td>\n",
              "    </tr>\n",
              "    <tr>\n",
              "      <th>470</th>\n",
              "      <td>489521</td>\n",
              "      <td>21646</td>\n",
              "      <td>NaN</td>\n",
              "      <td>-50</td>\n",
              "      <td>2009-12-01 11:44:00</td>\n",
              "      <td>0.0</td>\n",
              "      <td>NaN</td>\n",
              "      <td>United Kingdom</td>\n",
              "    </tr>\n",
              "    <tr>\n",
              "      <th>3114</th>\n",
              "      <td>489655</td>\n",
              "      <td>20683</td>\n",
              "      <td>NaN</td>\n",
              "      <td>-44</td>\n",
              "      <td>2009-12-01 17:26:00</td>\n",
              "      <td>0.0</td>\n",
              "      <td>NaN</td>\n",
              "      <td>United Kingdom</td>\n",
              "    </tr>\n",
              "    <tr>\n",
              "      <th>...</th>\n",
              "      <td>...</td>\n",
              "      <td>...</td>\n",
              "      <td>...</td>\n",
              "      <td>...</td>\n",
              "      <td>...</td>\n",
              "      <td>...</td>\n",
              "      <td>...</td>\n",
              "      <td>...</td>\n",
              "    </tr>\n",
              "    <tr>\n",
              "      <th>524458</th>\n",
              "      <td>538092</td>\n",
              "      <td>37467</td>\n",
              "      <td>NaN</td>\n",
              "      <td>-177</td>\n",
              "      <td>2010-12-09 14:49:00</td>\n",
              "      <td>0.0</td>\n",
              "      <td>NaN</td>\n",
              "      <td>United Kingdom</td>\n",
              "    </tr>\n",
              "    <tr>\n",
              "      <th>525231</th>\n",
              "      <td>538159</td>\n",
              "      <td>21324</td>\n",
              "      <td>NaN</td>\n",
              "      <td>-18</td>\n",
              "      <td>2010-12-09 17:17:00</td>\n",
              "      <td>0.0</td>\n",
              "      <td>NaN</td>\n",
              "      <td>United Kingdom</td>\n",
              "    </tr>\n",
              "    <tr>\n",
              "      <th>525232</th>\n",
              "      <td>538158</td>\n",
              "      <td>20892</td>\n",
              "      <td>NaN</td>\n",
              "      <td>-32</td>\n",
              "      <td>2010-12-09 17:17:00</td>\n",
              "      <td>0.0</td>\n",
              "      <td>NaN</td>\n",
              "      <td>United Kingdom</td>\n",
              "    </tr>\n",
              "    <tr>\n",
              "      <th>525234</th>\n",
              "      <td>538161</td>\n",
              "      <td>46000S</td>\n",
              "      <td>Dotcom sales</td>\n",
              "      <td>-100</td>\n",
              "      <td>2010-12-09 17:25:00</td>\n",
              "      <td>0.0</td>\n",
              "      <td>NaN</td>\n",
              "      <td>United Kingdom</td>\n",
              "    </tr>\n",
              "    <tr>\n",
              "      <th>525235</th>\n",
              "      <td>538162</td>\n",
              "      <td>46000M</td>\n",
              "      <td>Dotcom sales</td>\n",
              "      <td>-100</td>\n",
              "      <td>2010-12-09 17:25:00</td>\n",
              "      <td>0.0</td>\n",
              "      <td>NaN</td>\n",
              "      <td>United Kingdom</td>\n",
              "    </tr>\n",
              "  </tbody>\n",
              "</table>\n",
              "<p>2121 rows × 8 columns</p>\n",
              "</div>"
            ],
            "text/plain": [
              "       Invoice StockCode   Description  ...  Price Customer ID         Country\n",
              "263     489464     21733  85123a mixed  ...    0.0         NaN  United Kingdom\n",
              "283     489463     71477         short  ...    0.0         NaN  United Kingdom\n",
              "284     489467    85123A   21733 mixed  ...    0.0         NaN  United Kingdom\n",
              "470     489521     21646           NaN  ...    0.0         NaN  United Kingdom\n",
              "3114    489655     20683           NaN  ...    0.0         NaN  United Kingdom\n",
              "...        ...       ...           ...  ...    ...         ...             ...\n",
              "524458  538092     37467           NaN  ...    0.0         NaN  United Kingdom\n",
              "525231  538159     21324           NaN  ...    0.0         NaN  United Kingdom\n",
              "525232  538158     20892           NaN  ...    0.0         NaN  United Kingdom\n",
              "525234  538161    46000S  Dotcom sales  ...    0.0         NaN  United Kingdom\n",
              "525235  538162    46000M  Dotcom sales  ...    0.0         NaN  United Kingdom\n",
              "\n",
              "[2121 rows x 8 columns]"
            ]
          },
          "metadata": {},
          "execution_count": 19
        }
      ]
    },
    {
      "cell_type": "code",
      "metadata": {
        "colab": {
          "base_uri": "https://localhost:8080/"
        },
        "id": "AaVYrtdXDwfW",
        "outputId": "917dffcb-3aa5-4ac7-909a-f24ec04b2e9b"
      },
      "source": [
        "# keeping only those transactions that have successfully ordered\n",
        "df = df[df['Quantity']>=0]\n",
        "df.shape"
      ],
      "execution_count": 20,
      "outputs": [
        {
          "output_type": "execute_result",
          "data": {
            "text/plain": [
              "(506293, 8)"
            ]
          },
          "metadata": {},
          "execution_count": 20
        }
      ]
    },
    {
      "cell_type": "markdown",
      "metadata": {
        "id": "J6ZG3hKBD3Wv"
      },
      "source": [
        "### InvoiceDate"
      ]
    },
    {
      "cell_type": "code",
      "metadata": {
        "colab": {
          "base_uri": "https://localhost:8080/"
        },
        "id": "pUTvN0X6Dz6r",
        "outputId": "6b46a5fc-a275-4d52-88b4-bf9435dbb36f"
      },
      "source": [
        "print('The minimum date is:',df.InvoiceDate.min())\n",
        "print('The maximum date is:',df.InvoiceDate.max())"
      ],
      "execution_count": 21,
      "outputs": [
        {
          "output_type": "stream",
          "name": "stdout",
          "text": [
            "The minimum date is: 2009-12-01 07:45:00\n",
            "The maximum date is: 2010-12-09 20:01:00\n"
          ]
        }
      ]
    },
    {
      "cell_type": "code",
      "metadata": {
        "colab": {
          "base_uri": "https://localhost:8080/"
        },
        "id": "XrLVQe_dD5ZS",
        "outputId": "9bb31124-73f3-4a51-fe79-2204036596b6"
      },
      "source": [
        "# checking the distribution of unit price\n",
        "df.Price.describe(percentiles=[0.25,0.5,0.75,0.9,0.95,0.99])"
      ],
      "execution_count": 22,
      "outputs": [
        {
          "output_type": "execute_result",
          "data": {
            "text/plain": [
              "count    506293.000000\n",
              "mean          3.991056\n",
              "std         128.813062\n",
              "min      -53594.360000\n",
              "25%           1.250000\n",
              "50%           2.100000\n",
              "75%           4.210000\n",
              "90%           7.950000\n",
              "95%          10.000000\n",
              "99%          19.950000\n",
              "max       25111.090000\n",
              "Name: Price, dtype: float64"
            ]
          },
          "metadata": {},
          "execution_count": 22
        }
      ]
    },
    {
      "cell_type": "markdown",
      "metadata": {
        "id": "JiSEzpn6EAl1"
      },
      "source": [
        "### Country"
      ]
    },
    {
      "cell_type": "code",
      "metadata": {
        "colab": {
          "base_uri": "https://localhost:8080/"
        },
        "id": "lq0USayTD-El",
        "outputId": "088a68ee-9484-4c9b-a929-be39654818d4"
      },
      "source": [
        "# we see that more than 90% have country as UK which is obvious as the retailer is UK based\n",
        "df.Country.value_counts(normalize=True)"
      ],
      "execution_count": 23,
      "outputs": [
        {
          "output_type": "execute_result",
          "data": {
            "text/plain": [
              "United Kingdom          0.924672\n",
              "EIRE                    0.018667\n",
              "Germany                 0.015114\n",
              "France                  0.010891\n",
              "Netherlands             0.005390\n",
              "Spain                   0.002425\n",
              "Switzerland             0.002311\n",
              "Portugal                0.002090\n",
              "Belgium                 0.002048\n",
              "Sweden                  0.001750\n",
              "Channel Islands         0.001622\n",
              "Italy                   0.001398\n",
              "Australia               0.001244\n",
              "Cyprus                  0.001053\n",
              "Austria                 0.001035\n",
              "Greece                  0.001011\n",
              "Denmark                 0.000826\n",
              "United Arab Emirates    0.000788\n",
              "Norway                  0.000721\n",
              "Finland                 0.000685\n",
              "Unspecified             0.000604\n",
              "USA                     0.000454\n",
              "Poland                  0.000359\n",
              "Malta                   0.000336\n",
              "Japan                   0.000324\n",
              "Lithuania               0.000304\n",
              "Singapore               0.000231\n",
              "RSA                     0.000217\n",
              "Bahrain                 0.000209\n",
              "Canada                  0.000152\n",
              "Thailand                0.000150\n",
              "Israel                  0.000146\n",
              "Hong Kong               0.000146\n",
              "Iceland                 0.000140\n",
              "Brazil                  0.000122\n",
              "West Indies             0.000107\n",
              "Korea                   0.000105\n",
              "Bermuda                 0.000067\n",
              "Nigeria                 0.000059\n",
              "Lebanon                 0.000024\n",
              "Name: Country, dtype: float64"
            ]
          },
          "metadata": {},
          "execution_count": 23
        }
      ]
    },
    {
      "cell_type": "code",
      "metadata": {
        "colab": {
          "base_uri": "https://localhost:8080/"
        },
        "id": "qfdwEMP0EB94",
        "outputId": "fe9f88f8-3037-4c71-ec3d-b50a16b95269"
      },
      "source": [
        "# putting UK as one country and combine rest countries into one category\n",
        "df['Country'] = df['Country'].apply(lambda x:'United Kingdom' if x=='United Kingdom' else 'Others')\n",
        "df.Country.value_counts(normalize=True)"
      ],
      "execution_count": 24,
      "outputs": [
        {
          "output_type": "execute_result",
          "data": {
            "text/plain": [
              "United Kingdom    0.924672\n",
              "Others            0.075328\n",
              "Name: Country, dtype: float64"
            ]
          },
          "metadata": {},
          "execution_count": 24
        }
      ]
    },
    {
      "cell_type": "markdown",
      "metadata": {
        "id": "pD4KX6ZQEeCc"
      },
      "source": [
        "### Description"
      ]
    },
    {
      "cell_type": "code",
      "metadata": {
        "colab": {
          "base_uri": "https://localhost:8080/"
        },
        "id": "zouDNt6AEbti",
        "outputId": "b1a46321-b514-4a33-9a7c-0b2bc4e7f749"
      },
      "source": [
        "# checking the number of unique item list\n",
        "df.Description.nunique()"
      ],
      "execution_count": 25,
      "outputs": [
        {
          "output_type": "execute_result",
          "data": {
            "text/plain": [
              "4560"
            ]
          },
          "metadata": {},
          "execution_count": 25
        }
      ]
    },
    {
      "cell_type": "code",
      "metadata": {
        "colab": {
          "base_uri": "https://localhost:8080/"
        },
        "id": "DLidPyB7Ef3O",
        "outputId": "0a1be3dc-c5ab-4346-c10c-a72c114cab1a"
      },
      "source": [
        "# top 10 item sold\n",
        "df.Description.value_counts().head(10)"
      ],
      "execution_count": 26,
      "outputs": [
        {
          "output_type": "execute_result",
          "data": {
            "text/plain": [
              "WHITE HANGING HEART T-LIGHT HOLDER    3410\n",
              "REGENCY CAKESTAND 3 TIER              2036\n",
              "STRAWBERRY CERAMIC TRINKET BOX        1679\n",
              "ASSORTED COLOUR BIRD ORNAMENT         1436\n",
              "PACK OF 72 RETRO SPOT CAKE CASES      1435\n",
              "60 TEATIME FAIRY CAKE CASES           1372\n",
              "HOME BUILDING BLOCK WORD              1349\n",
              "JUMBO BAG RED RETROSPOT               1271\n",
              "LUNCH BAG RED SPOTTY                  1231\n",
              "JUMBO STORAGE BAG SUKI                1194\n",
              "Name: Description, dtype: int64"
            ]
          },
          "metadata": {},
          "execution_count": 26
        }
      ]
    },
    {
      "cell_type": "code",
      "metadata": {
        "colab": {
          "base_uri": "https://localhost:8080/",
          "height": 174
        },
        "id": "MLV5OQPvEiOX",
        "outputId": "8c3feef9-53d1-4953-9820-5a67c6ea4130"
      },
      "source": [
        "# there are cases where the descriptions contains some code/name which are not directly refers to sales\n",
        "# checking the data where description = ? and it is noted that customerid is NaN and unit price is 0\n",
        "df[df['Description'].str.startswith('?')==True]"
      ],
      "execution_count": 27,
      "outputs": [
        {
          "output_type": "execute_result",
          "data": {
            "text/html": [
              "<div>\n",
              "<style scoped>\n",
              "    .dataframe tbody tr th:only-of-type {\n",
              "        vertical-align: middle;\n",
              "    }\n",
              "\n",
              "    .dataframe tbody tr th {\n",
              "        vertical-align: top;\n",
              "    }\n",
              "\n",
              "    .dataframe thead th {\n",
              "        text-align: right;\n",
              "    }\n",
              "</style>\n",
              "<table border=\"1\" class=\"dataframe\">\n",
              "  <thead>\n",
              "    <tr style=\"text-align: right;\">\n",
              "      <th></th>\n",
              "      <th>Invoice</th>\n",
              "      <th>StockCode</th>\n",
              "      <th>Description</th>\n",
              "      <th>Quantity</th>\n",
              "      <th>InvoiceDate</th>\n",
              "      <th>Price</th>\n",
              "      <th>Customer ID</th>\n",
              "      <th>Country</th>\n",
              "    </tr>\n",
              "  </thead>\n",
              "  <tbody>\n",
              "    <tr>\n",
              "      <th>63439</th>\n",
              "      <td>495027</td>\n",
              "      <td>21314</td>\n",
              "      <td>?</td>\n",
              "      <td>1146</td>\n",
              "      <td>2010-01-20 13:48:00</td>\n",
              "      <td>0.0</td>\n",
              "      <td>NaN</td>\n",
              "      <td>United Kingdom</td>\n",
              "    </tr>\n",
              "    <tr>\n",
              "      <th>307123</th>\n",
              "      <td>519373</td>\n",
              "      <td>21900</td>\n",
              "      <td>?</td>\n",
              "      <td>1520</td>\n",
              "      <td>2010-08-16 13:28:00</td>\n",
              "      <td>0.0</td>\n",
              "      <td>NaN</td>\n",
              "      <td>United Kingdom</td>\n",
              "    </tr>\n",
              "    <tr>\n",
              "      <th>309842</th>\n",
              "      <td>519608</td>\n",
              "      <td>48188</td>\n",
              "      <td>?</td>\n",
              "      <td>106</td>\n",
              "      <td>2010-08-18 16:25:00</td>\n",
              "      <td>0.0</td>\n",
              "      <td>NaN</td>\n",
              "      <td>United Kingdom</td>\n",
              "    </tr>\n",
              "    <tr>\n",
              "      <th>451858</th>\n",
              "      <td>532332</td>\n",
              "      <td>84944</td>\n",
              "      <td>?sold individually?</td>\n",
              "      <td>486</td>\n",
              "      <td>2010-11-11 15:43:00</td>\n",
              "      <td>0.0</td>\n",
              "      <td>NaN</td>\n",
              "      <td>United Kingdom</td>\n",
              "    </tr>\n",
              "  </tbody>\n",
              "</table>\n",
              "</div>"
            ],
            "text/plain": [
              "       Invoice StockCode  ... Customer ID         Country\n",
              "63439   495027     21314  ...         NaN  United Kingdom\n",
              "307123  519373     21900  ...         NaN  United Kingdom\n",
              "309842  519608     48188  ...         NaN  United Kingdom\n",
              "451858  532332     84944  ...         NaN  United Kingdom\n",
              "\n",
              "[4 rows x 8 columns]"
            ]
          },
          "metadata": {},
          "execution_count": 27
        }
      ]
    },
    {
      "cell_type": "code",
      "metadata": {
        "colab": {
          "base_uri": "https://localhost:8080/"
        },
        "id": "AOeA83wmEk_n",
        "outputId": "369ed42f-c87e-4d7e-e154-0a699f299527"
      },
      "source": [
        "# removing all the above entries\n",
        "df = df[df['Description'].str.startswith('?')!=True]\n",
        "df.shape"
      ],
      "execution_count": 28,
      "outputs": [
        {
          "output_type": "execute_result",
          "data": {
            "text/plain": [
              "(506289, 8)"
            ]
          },
          "metadata": {},
          "execution_count": 28
        }
      ]
    },
    {
      "cell_type": "code",
      "metadata": {
        "colab": {
          "base_uri": "https://localhost:8080/",
          "height": 143
        },
        "id": "-ZveIIOAEnt7",
        "outputId": "6e59c56a-f0ee-4c9c-91d3-51b310461dfa"
      },
      "source": [
        "# checking the data where description = * and it is noted that customerid is NaN\n",
        "df[df['Description'].str.startswith('*')==True]"
      ],
      "execution_count": 29,
      "outputs": [
        {
          "output_type": "execute_result",
          "data": {
            "text/html": [
              "<div>\n",
              "<style scoped>\n",
              "    .dataframe tbody tr th:only-of-type {\n",
              "        vertical-align: middle;\n",
              "    }\n",
              "\n",
              "    .dataframe tbody tr th {\n",
              "        vertical-align: top;\n",
              "    }\n",
              "\n",
              "    .dataframe thead th {\n",
              "        text-align: right;\n",
              "    }\n",
              "</style>\n",
              "<table border=\"1\" class=\"dataframe\">\n",
              "  <thead>\n",
              "    <tr style=\"text-align: right;\">\n",
              "      <th></th>\n",
              "      <th>Invoice</th>\n",
              "      <th>StockCode</th>\n",
              "      <th>Description</th>\n",
              "      <th>Quantity</th>\n",
              "      <th>InvoiceDate</th>\n",
              "      <th>Price</th>\n",
              "      <th>Customer ID</th>\n",
              "      <th>Country</th>\n",
              "    </tr>\n",
              "  </thead>\n",
              "  <tbody>\n",
              "    <tr>\n",
              "      <th>1898</th>\n",
              "      <td>489597</td>\n",
              "      <td>20739</td>\n",
              "      <td>*USB Office Glitter Lamp</td>\n",
              "      <td>1</td>\n",
              "      <td>2009-12-01 14:28:00</td>\n",
              "      <td>8.65</td>\n",
              "      <td>NaN</td>\n",
              "      <td>United Kingdom</td>\n",
              "    </tr>\n",
              "    <tr>\n",
              "      <th>5374</th>\n",
              "      <td>489856</td>\n",
              "      <td>20954</td>\n",
              "      <td>*USB Office Mirror Ball</td>\n",
              "      <td>1</td>\n",
              "      <td>2009-12-02 14:36:00</td>\n",
              "      <td>8.65</td>\n",
              "      <td>NaN</td>\n",
              "      <td>United Kingdom</td>\n",
              "    </tr>\n",
              "    <tr>\n",
              "      <th>523687</th>\n",
              "      <td>538071</td>\n",
              "      <td>21120</td>\n",
              "      <td>*Boombox Ipod Classic</td>\n",
              "      <td>1</td>\n",
              "      <td>2010-12-09 14:09:00</td>\n",
              "      <td>16.98</td>\n",
              "      <td>NaN</td>\n",
              "      <td>United Kingdom</td>\n",
              "    </tr>\n",
              "  </tbody>\n",
              "</table>\n",
              "</div>"
            ],
            "text/plain": [
              "       Invoice StockCode  ... Customer ID         Country\n",
              "1898    489597     20739  ...         NaN  United Kingdom\n",
              "5374    489856     20954  ...         NaN  United Kingdom\n",
              "523687  538071     21120  ...         NaN  United Kingdom\n",
              "\n",
              "[3 rows x 8 columns]"
            ]
          },
          "metadata": {},
          "execution_count": 29
        }
      ]
    },
    {
      "cell_type": "code",
      "metadata": {
        "id": "MpxnSf8zEs40"
      },
      "source": [
        "# replacing with appropriate name\n",
        "df['Description'] = df['Description'].replace(('*Boombox Ipod Classic','*USB Office Mirror Ball'),\n",
        "                                             ('BOOMBOX IPOD CLASSIC','USB OFFICE MIRROR BALL'))"
      ],
      "execution_count": 30,
      "outputs": []
    },
    {
      "cell_type": "code",
      "metadata": {
        "colab": {
          "base_uri": "https://localhost:8080/"
        },
        "id": "QS_ZTkVVEtjH",
        "outputId": "0a93f840-d3e5-4051-9854-04b8a3baa8d7"
      },
      "source": [
        "# Description have actual entries in uppercase words and those who don't have are some of the noises in the dataset\n",
        "df[df['Description'].str.islower()==True]['Description'].value_counts()"
      ],
      "execution_count": 31,
      "outputs": [
        {
          "output_type": "execute_result",
          "data": {
            "text/plain": [
              "temp                           4\n",
              "checked                        3\n",
              "amazon                         3\n",
              "mailout                        3\n",
              "found                          3\n",
              "amendment                      2\n",
              "update                         2\n",
              "amazon adjustment              2\n",
              "damaged                        2\n",
              "debenhams                      1\n",
              "tk maxx mix up with pink       1\n",
              "found again                    1\n",
              "eurobargain invc/credit        1\n",
              "correct previous adjustment    1\n",
              "wrong invc                     1\n",
              "dotcom email                   1\n",
              "mailout addition               1\n",
              "Name: Description, dtype: int64"
            ]
          },
          "metadata": {},
          "execution_count": 31
        }
      ]
    },
    {
      "cell_type": "code",
      "metadata": {
        "colab": {
          "base_uri": "https://localhost:8080/"
        },
        "id": "xocUH-cxEw7D",
        "outputId": "6e4b9540-7043-4ccb-cfe6-031197a5fbce"
      },
      "source": [
        "# removing all the above noises\n",
        "df = df[df['Description'].str.islower()!=True]\n",
        "df.shape"
      ],
      "execution_count": 32,
      "outputs": [
        {
          "output_type": "execute_result",
          "data": {
            "text/plain": [
              "(506257, 8)"
            ]
          },
          "metadata": {},
          "execution_count": 32
        }
      ]
    },
    {
      "cell_type": "code",
      "metadata": {
        "colab": {
          "base_uri": "https://localhost:8080/"
        },
        "id": "OyZdYsISE0xQ",
        "outputId": "f0127b7f-a83a-4ba0-fb84-77575147f5c0"
      },
      "source": [
        "# Description have actual entries in uppercase words and those who don't have are some of the noises in the dataset\n",
        "df[df['Description'].str.istitle()==True]['Description'].value_counts()\n"
      ],
      "execution_count": 33,
      "outputs": [
        {
          "output_type": "execute_result",
          "data": {
            "text/plain": [
              "Manual                                555\n",
              "Bank Charges                           21\n",
              "Dotcomgiftshop Gift Voucher £30.00     17\n",
              "Dotcomgiftshop Gift Voucher £20.00     17\n",
              "Hypochondriac Pill Stress Ball          9\n",
              "Dotcomgiftshop Gift Voucher £10.00      6\n",
              "Electronic Talking Breath-A-Loser       5\n",
              "Discount                                5\n",
              "Glow In The Dark Shot Glasses           3\n",
              "Dotcomgiftshop Gift Voucher £50.00      2\n",
              "Dotcomgiftshop Gift Voucher £40.00      2\n",
              " Bank Charges                           2\n",
              "Mailout                                 2\n",
              "Dotcomgiftshop Gift Voucher £80.00      1\n",
              "Dotcomgiftshop Gift Voucher £70.00      1\n",
              "Found                                   1\n",
              "Name: Description, dtype: int64"
            ]
          },
          "metadata": {},
          "execution_count": 33
        }
      ]
    },
    {
      "cell_type": "code",
      "metadata": {
        "colab": {
          "base_uri": "https://localhost:8080/"
        },
        "id": "-p4vVHMqE4Ye",
        "outputId": "cdca6688-2624-4a2e-8b50-7bcd76dbf3df"
      },
      "source": [
        "# removing all the above listed noises\n",
        "df = df[df['Description'].str.istitle()!=True]\n",
        "df.shape"
      ],
      "execution_count": 34,
      "outputs": [
        {
          "output_type": "execute_result",
          "data": {
            "text/plain": [
              "(505608, 8)"
            ]
          },
          "metadata": {},
          "execution_count": 34
        }
      ]
    },
    {
      "cell_type": "code",
      "metadata": {
        "id": "Aw4zmDPIE70N"
      },
      "source": [
        "df['Description'] = df['Description'].str.strip()"
      ],
      "execution_count": 35,
      "outputs": []
    },
    {
      "cell_type": "markdown",
      "metadata": {
        "id": "G6gOBKFaE-4O"
      },
      "source": [
        "### CustomerID"
      ]
    },
    {
      "cell_type": "code",
      "metadata": {
        "colab": {
          "base_uri": "https://localhost:8080/"
        },
        "id": "QIGL3-UxE-Zz",
        "outputId": "1f480dff-1595-4aa3-e76d-e3fa9dcf09d7"
      },
      "source": [
        "# count of unique customer\n",
        "df[\"Customer ID\"].nunique() "
      ],
      "execution_count": 36,
      "outputs": [
        {
          "output_type": "execute_result",
          "data": {
            "text/plain": [
              "4300"
            ]
          },
          "metadata": {},
          "execution_count": 36
        }
      ]
    },
    {
      "cell_type": "code",
      "metadata": {
        "colab": {
          "base_uri": "https://localhost:8080/",
          "height": 423
        },
        "id": "viXQOPyXE9kO",
        "outputId": "9034791a-584b-4f7e-a031-87c0c876265b"
      },
      "source": [
        "# checking where customer id is null\n",
        "df[df[\"Customer ID\"].isnull()]"
      ],
      "execution_count": 37,
      "outputs": [
        {
          "output_type": "execute_result",
          "data": {
            "text/html": [
              "<div>\n",
              "<style scoped>\n",
              "    .dataframe tbody tr th:only-of-type {\n",
              "        vertical-align: middle;\n",
              "    }\n",
              "\n",
              "    .dataframe tbody tr th {\n",
              "        vertical-align: top;\n",
              "    }\n",
              "\n",
              "    .dataframe thead th {\n",
              "        text-align: right;\n",
              "    }\n",
              "</style>\n",
              "<table border=\"1\" class=\"dataframe\">\n",
              "  <thead>\n",
              "    <tr style=\"text-align: right;\">\n",
              "      <th></th>\n",
              "      <th>Invoice</th>\n",
              "      <th>StockCode</th>\n",
              "      <th>Description</th>\n",
              "      <th>Quantity</th>\n",
              "      <th>InvoiceDate</th>\n",
              "      <th>Price</th>\n",
              "      <th>Customer ID</th>\n",
              "      <th>Country</th>\n",
              "    </tr>\n",
              "  </thead>\n",
              "  <tbody>\n",
              "    <tr>\n",
              "      <th>577</th>\n",
              "      <td>489525</td>\n",
              "      <td>85226C</td>\n",
              "      <td>BLUE PULL BACK RACING CAR</td>\n",
              "      <td>1</td>\n",
              "      <td>2009-12-01 11:49:00</td>\n",
              "      <td>0.55</td>\n",
              "      <td>NaN</td>\n",
              "      <td>United Kingdom</td>\n",
              "    </tr>\n",
              "    <tr>\n",
              "      <th>578</th>\n",
              "      <td>489525</td>\n",
              "      <td>85227</td>\n",
              "      <td>SET/6 3D KIT CARDS FOR KIDS</td>\n",
              "      <td>1</td>\n",
              "      <td>2009-12-01 11:49:00</td>\n",
              "      <td>0.85</td>\n",
              "      <td>NaN</td>\n",
              "      <td>United Kingdom</td>\n",
              "    </tr>\n",
              "    <tr>\n",
              "      <th>1055</th>\n",
              "      <td>489548</td>\n",
              "      <td>22271</td>\n",
              "      <td>FELTCRAFT DOLL ROSIE</td>\n",
              "      <td>1</td>\n",
              "      <td>2009-12-01 12:32:00</td>\n",
              "      <td>2.95</td>\n",
              "      <td>NaN</td>\n",
              "      <td>United Kingdom</td>\n",
              "    </tr>\n",
              "    <tr>\n",
              "      <th>1056</th>\n",
              "      <td>489548</td>\n",
              "      <td>22254</td>\n",
              "      <td>FELT TOADSTOOL LARGE</td>\n",
              "      <td>12</td>\n",
              "      <td>2009-12-01 12:32:00</td>\n",
              "      <td>1.25</td>\n",
              "      <td>NaN</td>\n",
              "      <td>United Kingdom</td>\n",
              "    </tr>\n",
              "    <tr>\n",
              "      <th>1057</th>\n",
              "      <td>489548</td>\n",
              "      <td>22273</td>\n",
              "      <td>FELTCRAFT DOLL MOLLY</td>\n",
              "      <td>3</td>\n",
              "      <td>2009-12-01 12:32:00</td>\n",
              "      <td>2.95</td>\n",
              "      <td>NaN</td>\n",
              "      <td>United Kingdom</td>\n",
              "    </tr>\n",
              "    <tr>\n",
              "      <th>...</th>\n",
              "      <td>...</td>\n",
              "      <td>...</td>\n",
              "      <td>...</td>\n",
              "      <td>...</td>\n",
              "      <td>...</td>\n",
              "      <td>...</td>\n",
              "      <td>...</td>\n",
              "      <td>...</td>\n",
              "    </tr>\n",
              "    <tr>\n",
              "      <th>525144</th>\n",
              "      <td>538154</td>\n",
              "      <td>84029E</td>\n",
              "      <td>RED WOOLLY HOTTIE WHITE HEART.</td>\n",
              "      <td>5</td>\n",
              "      <td>2010-12-09 16:35:00</td>\n",
              "      <td>8.47</td>\n",
              "      <td>NaN</td>\n",
              "      <td>United Kingdom</td>\n",
              "    </tr>\n",
              "    <tr>\n",
              "      <th>525145</th>\n",
              "      <td>538154</td>\n",
              "      <td>84029G</td>\n",
              "      <td>KNITTED UNION FLAG HOT WATER BOTTLE</td>\n",
              "      <td>4</td>\n",
              "      <td>2010-12-09 16:35:00</td>\n",
              "      <td>8.47</td>\n",
              "      <td>NaN</td>\n",
              "      <td>United Kingdom</td>\n",
              "    </tr>\n",
              "    <tr>\n",
              "      <th>525146</th>\n",
              "      <td>538154</td>\n",
              "      <td>85099B</td>\n",
              "      <td>JUMBO BAG RED RETROSPOT</td>\n",
              "      <td>1</td>\n",
              "      <td>2010-12-09 16:35:00</td>\n",
              "      <td>4.21</td>\n",
              "      <td>NaN</td>\n",
              "      <td>United Kingdom</td>\n",
              "    </tr>\n",
              "    <tr>\n",
              "      <th>525147</th>\n",
              "      <td>538154</td>\n",
              "      <td>DOT</td>\n",
              "      <td>DOTCOM POSTAGE</td>\n",
              "      <td>1</td>\n",
              "      <td>2010-12-09 16:35:00</td>\n",
              "      <td>85.79</td>\n",
              "      <td>NaN</td>\n",
              "      <td>United Kingdom</td>\n",
              "    </tr>\n",
              "    <tr>\n",
              "      <th>525233</th>\n",
              "      <td>538160</td>\n",
              "      <td>20956</td>\n",
              "      <td>NaN</td>\n",
              "      <td>288</td>\n",
              "      <td>2010-12-09 17:18:00</td>\n",
              "      <td>0.00</td>\n",
              "      <td>NaN</td>\n",
              "      <td>United Kingdom</td>\n",
              "    </tr>\n",
              "  </tbody>\n",
              "</table>\n",
              "<p>105107 rows × 8 columns</p>\n",
              "</div>"
            ],
            "text/plain": [
              "       Invoice StockCode  ... Customer ID         Country\n",
              "577     489525    85226C  ...         NaN  United Kingdom\n",
              "578     489525     85227  ...         NaN  United Kingdom\n",
              "1055    489548     22271  ...         NaN  United Kingdom\n",
              "1056    489548     22254  ...         NaN  United Kingdom\n",
              "1057    489548     22273  ...         NaN  United Kingdom\n",
              "...        ...       ...  ...         ...             ...\n",
              "525144  538154    84029E  ...         NaN  United Kingdom\n",
              "525145  538154    84029G  ...         NaN  United Kingdom\n",
              "525146  538154    85099B  ...         NaN  United Kingdom\n",
              "525147  538154       DOT  ...         NaN  United Kingdom\n",
              "525233  538160     20956  ...         NaN  United Kingdom\n",
              "\n",
              "[105107 rows x 8 columns]"
            ]
          },
          "metadata": {},
          "execution_count": 37
        }
      ]
    },
    {
      "cell_type": "code",
      "metadata": {
        "colab": {
          "base_uri": "https://localhost:8080/"
        },
        "id": "tx_SO4y1FL36",
        "outputId": "8658f6c0-17ff-4550-ca44-0444f6483d7f"
      },
      "source": [
        "# removing entries where customer id is null\n",
        "df = df[~df[\"Customer ID\"].isnull()]\n",
        "df.shape"
      ],
      "execution_count": 38,
      "outputs": [
        {
          "output_type": "execute_result",
          "data": {
            "text/plain": [
              "(400501, 8)"
            ]
          },
          "metadata": {},
          "execution_count": 38
        }
      ]
    },
    {
      "cell_type": "code",
      "metadata": {
        "colab": {
          "base_uri": "https://localhost:8080/"
        },
        "id": "h-Mnc_v9FjNH",
        "outputId": "c9d70417-974b-4ade-ec65-04ea5d261d21"
      },
      "source": [
        "df.info()"
      ],
      "execution_count": 39,
      "outputs": [
        {
          "output_type": "stream",
          "name": "stdout",
          "text": [
            "<class 'pandas.core.frame.DataFrame'>\n",
            "Int64Index: 400501 entries, 0 to 525460\n",
            "Data columns (total 8 columns):\n",
            " #   Column       Non-Null Count   Dtype         \n",
            "---  ------       --------------   -----         \n",
            " 0   Invoice      400501 non-null  object        \n",
            " 1   StockCode    400501 non-null  object        \n",
            " 2   Description  400501 non-null  object        \n",
            " 3   Quantity     400501 non-null  int64         \n",
            " 4   InvoiceDate  400501 non-null  datetime64[ns]\n",
            " 5   Price        400501 non-null  float64       \n",
            " 6   Customer ID  400501 non-null  float64       \n",
            " 7   Country      400501 non-null  object        \n",
            "dtypes: datetime64[ns](1), float64(2), int64(1), object(4)\n",
            "memory usage: 27.5+ MB\n"
          ]
        }
      ]
    },
    {
      "cell_type": "code",
      "metadata": {
        "colab": {
          "base_uri": "https://localhost:8080/"
        },
        "id": "edSWCx_QFn76",
        "outputId": "44d8bc87-0a95-4c5f-c161-aa301514e37b"
      },
      "source": [
        "df.isnull().sum()"
      ],
      "execution_count": 40,
      "outputs": [
        {
          "output_type": "execute_result",
          "data": {
            "text/plain": [
              "Invoice        0\n",
              "StockCode      0\n",
              "Description    0\n",
              "Quantity       0\n",
              "InvoiceDate    0\n",
              "Price          0\n",
              "Customer ID    0\n",
              "Country        0\n",
              "dtype: int64"
            ]
          },
          "metadata": {},
          "execution_count": 40
        }
      ]
    },
    {
      "cell_type": "markdown",
      "metadata": {
        "id": "mGejYICRFsCp"
      },
      "source": [
        "### There is no Null value. "
      ]
    },
    {
      "cell_type": "code",
      "metadata": {
        "colab": {
          "base_uri": "https://localhost:8080/",
          "height": 206
        },
        "id": "fwRVsJrRFrIb",
        "outputId": "1cbd7def-a99e-4241-af2c-b6b93965087d"
      },
      "source": [
        "# checking random 5 rows from data\n",
        "df.sample(5)"
      ],
      "execution_count": 41,
      "outputs": [
        {
          "output_type": "execute_result",
          "data": {
            "text/html": [
              "<div>\n",
              "<style scoped>\n",
              "    .dataframe tbody tr th:only-of-type {\n",
              "        vertical-align: middle;\n",
              "    }\n",
              "\n",
              "    .dataframe tbody tr th {\n",
              "        vertical-align: top;\n",
              "    }\n",
              "\n",
              "    .dataframe thead th {\n",
              "        text-align: right;\n",
              "    }\n",
              "</style>\n",
              "<table border=\"1\" class=\"dataframe\">\n",
              "  <thead>\n",
              "    <tr style=\"text-align: right;\">\n",
              "      <th></th>\n",
              "      <th>Invoice</th>\n",
              "      <th>StockCode</th>\n",
              "      <th>Description</th>\n",
              "      <th>Quantity</th>\n",
              "      <th>InvoiceDate</th>\n",
              "      <th>Price</th>\n",
              "      <th>Customer ID</th>\n",
              "      <th>Country</th>\n",
              "    </tr>\n",
              "  </thead>\n",
              "  <tbody>\n",
              "    <tr>\n",
              "      <th>488996</th>\n",
              "      <td>535257</td>\n",
              "      <td>21755</td>\n",
              "      <td>LOVE BUILDING BLOCK WORD</td>\n",
              "      <td>2</td>\n",
              "      <td>2010-11-25 13:13:00</td>\n",
              "      <td>5.95</td>\n",
              "      <td>15044.0</td>\n",
              "      <td>United Kingdom</td>\n",
              "    </tr>\n",
              "    <tr>\n",
              "      <th>242303</th>\n",
              "      <td>512808</td>\n",
              "      <td>37476</td>\n",
              "      <td>CONDIMENT TRAY 4 BOWLS AND 4 SPOONS</td>\n",
              "      <td>1</td>\n",
              "      <td>2010-06-18 11:23:00</td>\n",
              "      <td>9.95</td>\n",
              "      <td>16155.0</td>\n",
              "      <td>United Kingdom</td>\n",
              "    </tr>\n",
              "    <tr>\n",
              "      <th>284010</th>\n",
              "      <td>516964</td>\n",
              "      <td>22384</td>\n",
              "      <td>LUNCH BAG PINK RETROSPOT</td>\n",
              "      <td>10</td>\n",
              "      <td>2010-07-26 09:12:00</td>\n",
              "      <td>1.65</td>\n",
              "      <td>16210.0</td>\n",
              "      <td>United Kingdom</td>\n",
              "    </tr>\n",
              "    <tr>\n",
              "      <th>172061</th>\n",
              "      <td>505709</td>\n",
              "      <td>21100</td>\n",
              "      <td>CHARLIE AND LOLA CHARLOTTE BAG</td>\n",
              "      <td>2</td>\n",
              "      <td>2010-04-25 12:34:00</td>\n",
              "      <td>1.65</td>\n",
              "      <td>13050.0</td>\n",
              "      <td>United Kingdom</td>\n",
              "    </tr>\n",
              "    <tr>\n",
              "      <th>374985</th>\n",
              "      <td>525571</td>\n",
              "      <td>22689</td>\n",
              "      <td>DOORMAT MERRY CHRISTMAS RED</td>\n",
              "      <td>2</td>\n",
              "      <td>2010-10-06 10:04:00</td>\n",
              "      <td>7.95</td>\n",
              "      <td>13707.0</td>\n",
              "      <td>United Kingdom</td>\n",
              "    </tr>\n",
              "  </tbody>\n",
              "</table>\n",
              "</div>"
            ],
            "text/plain": [
              "       Invoice StockCode  ... Customer ID         Country\n",
              "488996  535257     21755  ...     15044.0  United Kingdom\n",
              "242303  512808     37476  ...     16155.0  United Kingdom\n",
              "284010  516964     22384  ...     16210.0  United Kingdom\n",
              "172061  505709     21100  ...     13050.0  United Kingdom\n",
              "374985  525571     22689  ...     13707.0  United Kingdom\n",
              "\n",
              "[5 rows x 8 columns]"
            ]
          },
          "metadata": {},
          "execution_count": 41
        }
      ]
    },
    {
      "cell_type": "markdown",
      "metadata": {
        "id": "vjNZVC-WF7Nm"
      },
      "source": [
        "## **EDA** "
      ]
    },
    {
      "cell_type": "code",
      "metadata": {
        "id": "Ch-u43X8F0Us"
      },
      "source": [
        "# creating some columns for exploratory\n",
        "\n",
        "df['Amount'] = df['Quantity']*df['Price']\n",
        "df['year'] = df['InvoiceDate'].dt.year\n",
        "df['month'] = df['InvoiceDate'].dt.month\n",
        "df['day'] = df['InvoiceDate'].dt.day\n",
        "df['hour'] = df['InvoiceDate'].dt.hour\n",
        "df['day_of_week'] = df['InvoiceDate'].dt.dayofweek"
      ],
      "execution_count": 42,
      "outputs": []
    },
    {
      "cell_type": "code",
      "metadata": {
        "colab": {
          "base_uri": "https://localhost:8080/",
          "height": 310
        },
        "id": "36AYIKtAGIzm",
        "outputId": "5b032898-53f5-4595-c845-af274fc3c1df"
      },
      "source": [
        "df.head()"
      ],
      "execution_count": 43,
      "outputs": [
        {
          "output_type": "execute_result",
          "data": {
            "text/html": [
              "<div>\n",
              "<style scoped>\n",
              "    .dataframe tbody tr th:only-of-type {\n",
              "        vertical-align: middle;\n",
              "    }\n",
              "\n",
              "    .dataframe tbody tr th {\n",
              "        vertical-align: top;\n",
              "    }\n",
              "\n",
              "    .dataframe thead th {\n",
              "        text-align: right;\n",
              "    }\n",
              "</style>\n",
              "<table border=\"1\" class=\"dataframe\">\n",
              "  <thead>\n",
              "    <tr style=\"text-align: right;\">\n",
              "      <th></th>\n",
              "      <th>Invoice</th>\n",
              "      <th>StockCode</th>\n",
              "      <th>Description</th>\n",
              "      <th>Quantity</th>\n",
              "      <th>InvoiceDate</th>\n",
              "      <th>Price</th>\n",
              "      <th>Customer ID</th>\n",
              "      <th>Country</th>\n",
              "      <th>Amount</th>\n",
              "      <th>year</th>\n",
              "      <th>month</th>\n",
              "      <th>day</th>\n",
              "      <th>hour</th>\n",
              "      <th>day_of_week</th>\n",
              "    </tr>\n",
              "  </thead>\n",
              "  <tbody>\n",
              "    <tr>\n",
              "      <th>0</th>\n",
              "      <td>489434</td>\n",
              "      <td>85048</td>\n",
              "      <td>15CM CHRISTMAS GLASS BALL 20 LIGHTS</td>\n",
              "      <td>12</td>\n",
              "      <td>2009-12-01 07:45:00</td>\n",
              "      <td>6.95</td>\n",
              "      <td>13085.0</td>\n",
              "      <td>United Kingdom</td>\n",
              "      <td>83.4</td>\n",
              "      <td>2009</td>\n",
              "      <td>12</td>\n",
              "      <td>1</td>\n",
              "      <td>7</td>\n",
              "      <td>1</td>\n",
              "    </tr>\n",
              "    <tr>\n",
              "      <th>1</th>\n",
              "      <td>489434</td>\n",
              "      <td>79323P</td>\n",
              "      <td>PINK CHERRY LIGHTS</td>\n",
              "      <td>12</td>\n",
              "      <td>2009-12-01 07:45:00</td>\n",
              "      <td>6.75</td>\n",
              "      <td>13085.0</td>\n",
              "      <td>United Kingdom</td>\n",
              "      <td>81.0</td>\n",
              "      <td>2009</td>\n",
              "      <td>12</td>\n",
              "      <td>1</td>\n",
              "      <td>7</td>\n",
              "      <td>1</td>\n",
              "    </tr>\n",
              "    <tr>\n",
              "      <th>2</th>\n",
              "      <td>489434</td>\n",
              "      <td>79323W</td>\n",
              "      <td>WHITE CHERRY LIGHTS</td>\n",
              "      <td>12</td>\n",
              "      <td>2009-12-01 07:45:00</td>\n",
              "      <td>6.75</td>\n",
              "      <td>13085.0</td>\n",
              "      <td>United Kingdom</td>\n",
              "      <td>81.0</td>\n",
              "      <td>2009</td>\n",
              "      <td>12</td>\n",
              "      <td>1</td>\n",
              "      <td>7</td>\n",
              "      <td>1</td>\n",
              "    </tr>\n",
              "    <tr>\n",
              "      <th>3</th>\n",
              "      <td>489434</td>\n",
              "      <td>22041</td>\n",
              "      <td>RECORD FRAME 7\" SINGLE SIZE</td>\n",
              "      <td>48</td>\n",
              "      <td>2009-12-01 07:45:00</td>\n",
              "      <td>2.10</td>\n",
              "      <td>13085.0</td>\n",
              "      <td>United Kingdom</td>\n",
              "      <td>100.8</td>\n",
              "      <td>2009</td>\n",
              "      <td>12</td>\n",
              "      <td>1</td>\n",
              "      <td>7</td>\n",
              "      <td>1</td>\n",
              "    </tr>\n",
              "    <tr>\n",
              "      <th>4</th>\n",
              "      <td>489434</td>\n",
              "      <td>21232</td>\n",
              "      <td>STRAWBERRY CERAMIC TRINKET BOX</td>\n",
              "      <td>24</td>\n",
              "      <td>2009-12-01 07:45:00</td>\n",
              "      <td>1.25</td>\n",
              "      <td>13085.0</td>\n",
              "      <td>United Kingdom</td>\n",
              "      <td>30.0</td>\n",
              "      <td>2009</td>\n",
              "      <td>12</td>\n",
              "      <td>1</td>\n",
              "      <td>7</td>\n",
              "      <td>1</td>\n",
              "    </tr>\n",
              "  </tbody>\n",
              "</table>\n",
              "</div>"
            ],
            "text/plain": [
              "  Invoice StockCode  ... hour  day_of_week\n",
              "0  489434     85048  ...    7            1\n",
              "1  489434    79323P  ...    7            1\n",
              "2  489434    79323W  ...    7            1\n",
              "3  489434     22041  ...    7            1\n",
              "4  489434     21232  ...    7            1\n",
              "\n",
              "[5 rows x 14 columns]"
            ]
          },
          "metadata": {},
          "execution_count": 43
        }
      ]
    },
    {
      "cell_type": "code",
      "metadata": {
        "colab": {
          "base_uri": "https://localhost:8080/",
          "height": 369
        },
        "id": "BmWvCg51GK1O",
        "outputId": "254d2238-a70b-424c-b6bd-a1c90d7e3610"
      },
      "source": [
        "column = ['Invoice','Amount']\n",
        "\n",
        "plt.figure(figsize=(15,5))\n",
        "for i,j in enumerate(column):\n",
        "    plt.subplot(1,2,i+1)\n",
        "    sns.barplot(x = df[df['Country']=='United Kingdom'].groupby('Description')[j].nunique().sort_values(ascending=False).head(10).values,\n",
        "                y = df[df['Country']=='United Kingdom'].groupby('Description')[j].nunique().sort_values(ascending=False).head(10).index,\n",
        "                color='yellow')\n",
        "    plt.ylabel('')\n",
        "    if i==0:\n",
        "        plt.xlabel('Sum of quantity')\n",
        "        plt.title('Top 10 products purchased by customers in UK',size=15)\n",
        "    else:\n",
        "        plt.xlabel('Total Sales')\n",
        "        plt.title('Top 10 products with most sales in UK',size=15)\n",
        "        \n",
        "plt.tight_layout()\n",
        "plt.show()"
      ],
      "execution_count": 44,
      "outputs": [
        {
          "output_type": "display_data",
          "data": {
            "image/png": "[encoded data removed]",
            "text/plain": [
              "<Figure size 1080x360 with 2 Axes>"
            ]
          },
          "metadata": {
            "needs_background": "light"
          }
        }
      ]
    },
    {
      "cell_type": "code",
      "metadata": {
        "colab": {
          "base_uri": "https://localhost:8080/",
          "height": 369
        },
        "id": "mUuZB783GSzK",
        "outputId": "c7869b0f-73d3-4da1-d6d2-d3ee12cef408"
      },
      "source": [
        "column = ['Others','United Kingdom']\n",
        "\n",
        "plt.figure(figsize=(15,5))\n",
        "for i,j in enumerate(column):\n",
        "    plt.subplot(1,2,i+1)\n",
        "    sns.barplot(x = df[df['Country']==j].groupby('Description')['Price'].mean().sort_values(ascending=False).head(10).values,\n",
        "                y = df[df['Country']==j].groupby('Description')['Price'].mean().sort_values(ascending=False).head(10).index,\n",
        "                color='yellow')\n",
        "    plt.ylabel('')\n",
        "    if i==0:\n",
        "        plt.xlabel('Price')\n",
        "        plt.title('Top 10 high value products outside UK',size=15)\n",
        "    else:\n",
        "        plt.xlabel('Price')\n",
        "        plt.title('Top 10 high value products in UK',size=15)\n",
        "        \n",
        "plt.tight_layout()\n",
        "plt.show()"
      ],
      "execution_count": 45,
      "outputs": [
        {
          "output_type": "display_data",
          "data": {
            "image/png": "[encoded data removed]",
            "text/plain": [
              "<Figure size 1080x360 with 2 Axes>"
            ]
          },
          "metadata": {
            "needs_background": "light"
          }
        }
      ]
    },
    {
      "cell_type": "code",
      "metadata": {
        "colab": {
          "base_uri": "https://localhost:8080/",
          "height": 489
        },
        "id": "kjCix7xJGYUW",
        "outputId": "1bd24815-b87e-4423-83b2-1f95ffa373c4"
      },
      "source": [
        "# Looking the distribution of column Quantity\n",
        "plt.figure(figsize=(10,7))\n",
        "\n",
        "skewness = round(df.Quantity.skew(),2)\n",
        "kurtosis = round(df.Quantity.kurtosis(),2)\n",
        "mean = round(np.mean(df.Quantity),0)\n",
        "median = np.median(df.Quantity)\n",
        "\n",
        "plt.subplot(2,2,1)\n",
        "sns.boxplot(y=df.Quantity)\n",
        "plt.title('Boxplot\\n Mean:{}\\n Median:{}\\n Skewness:{}\\n Kurtosis:{}'.format(mean,median,skewness,kurtosis))\n",
        "\n",
        "plt.subplot(2,2,2)\n",
        "sns.boxplot(y=df[df.Quantity<5000]['Quantity'])\n",
        "plt.title('Distribution when Quantity<5000')\n",
        "\n",
        "plt.subplot(2,2,3)\n",
        "sns.boxplot(y=df[df.Quantity<200]['Quantity'])\n",
        "plt.title('Distribution when Quantity<200')\n",
        "\n",
        "plt.subplot(2,2,4)\n",
        "sns.boxplot(y=df[df.Quantity<50]['Quantity'])\n",
        "plt.title('Distribution when Quantity<50')\n",
        "\n",
        "plt.show()\n"
      ],
      "execution_count": 46,
      "outputs": [
        {
          "output_type": "display_data",
          "data": {
            "image/png": "[encoded data removed]",
            "text/plain": [
              "<Figure size 720x504 with 4 Axes>"
            ]
          },
          "metadata": {
            "needs_background": "light"
          }
        }
      ]
    },
    {
      "cell_type": "code",
      "metadata": {
        "id": "2fTnGv6EGjBT"
      },
      "source": [
        "# removing the expectional case where quantity > 70000\n",
        "df = df[df['Quantity']<70000]"
      ],
      "execution_count": 47,
      "outputs": []
    },
    {
      "cell_type": "code",
      "metadata": {
        "colab": {
          "base_uri": "https://localhost:8080/",
          "height": 487
        },
        "id": "UBOBsQecGmQV",
        "outputId": "825d9d6a-0b51-459d-d56a-aaeac23666f4"
      },
      "source": [
        "# Looking the distribution of column Unit Price\n",
        "plt.figure(figsize=(10,7))\n",
        "\n",
        "skewness = round(df.Price.skew(),2)\n",
        "kurtosis = round(df.Price.kurtosis(),2)\n",
        "mean = round(np.mean(df.Price),0)\n",
        "median = np.median(df.Price)\n",
        "\n",
        "plt.subplot(2,2,1)\n",
        "sns.boxplot(y=df.Price)\n",
        "plt.title('Boxplot\\n Mean:{}\\n Median:{}\\n Skewness:{}\\n Kurtosis:{}'.format(mean,median,skewness,kurtosis))\n",
        "\n",
        "plt.subplot(2,2,2)\n",
        "sns.boxplot(y=df[df.Price<300]['Price'])\n",
        "plt.title('Distribution when Price<300')\n",
        "\n",
        "plt.subplot(2,2,3)\n",
        "sns.boxplot(y=df[df.Price<50]['Price'])\n",
        "plt.title('Distribution when Price<50')\n",
        "\n",
        "plt.subplot(2,2,4)\n",
        "sns.boxplot(y=df[df.Price<10]['Price'])\n",
        "plt.title('Distribution when Price<10')\n",
        "\n",
        "plt.show()"
      ],
      "execution_count": 48,
      "outputs": [
        {
          "output_type": "display_data",
          "data": {
            "image/png": "[encoded data removed]",
            "text/plain": [
              "<Figure size 720x504 with 4 Axes>"
            ]
          },
          "metadata": {
            "needs_background": "light"
          }
        }
      ]
    },
    {
      "cell_type": "code",
      "metadata": {
        "colab": {
          "base_uri": "https://localhost:8080/",
          "height": 378
        },
        "id": "hn94xOf3GokY",
        "outputId": "2b6479cd-5a2e-4d7e-e38c-03c4a58110ca"
      },
      "source": [
        "plt.figure(figsize=(15,5))\n",
        "\n",
        "plt.subplot(1,2,1)\n",
        "sns.barplot(y = df[df['Country']=='United Kingdom'].groupby('Customer ID')['Amount'].sum().sort_values(ascending=False).head(10).values,\n",
        "            x = df[df['Country']=='United Kingdom'].groupby('Customer ID')['Amount'].sum().sort_values(ascending=False).head(10).index, \n",
        "            color='green')\n",
        "plt.ylabel('Sales')\n",
        "plt.xlabel('Customer IDs')\n",
        "plt.xticks(rotation=45)\n",
        "plt.title('Top 10 customers in terms of sales in UK',size=15)\n",
        "\n",
        "plt.subplot(1,2,2)\n",
        "sns.barplot(y = df[df['Country']=='United Kingdom'].groupby('Customer ID')['Invoice'].nunique().sort_values(ascending=False).head(10).values,\n",
        "            x = df[df['Country']=='United Kingdom'].groupby('Customer ID')['Invoice'].nunique().sort_values(ascending=False).head(10).index, \n",
        "            color='green')\n",
        "plt.ylabel('Number of visits')\n",
        "plt.xlabel('Customer IDs')\n",
        "plt.xticks(rotation=45)\n",
        "plt.title('Top 10 customers in terms of frequency in UK',size=15)\n",
        "\n",
        "plt.show()"
      ],
      "execution_count": 49,
      "outputs": [
        {
          "output_type": "display_data",
          "data": {
            "image/png": "[encoded data removed]",
            "text/plain": [
              "<Figure size 1080x360 with 2 Axes>"
            ]
          },
          "metadata": {
            "needs_background": "light"
          }
        }
      ]
    },
    {
      "cell_type": "code",
      "metadata": {
        "colab": {
          "base_uri": "https://localhost:8080/",
          "height": 355
        },
        "id": "VYbyYTIYHIF3",
        "outputId": "18ab39d4-3b22-4d80-d25e-0974fbd3993b"
      },
      "source": [
        "plt.figure(figsize=(12,5))\n",
        "df[df['Country']=='United Kingdom'].groupby(['year','month'])['Amount'].sum().plot(kind='line',label='UK',color='blue')\n",
        "df[df['Country']=='Others'].groupby(['year','month'])['Amount'].sum().plot(kind='line',label='Other',color='grey')\n",
        "plt.xlabel('Year-Month',size=12)\n",
        "plt.ylabel('Total Sales', size=12)\n",
        "plt.title('Sales in each month for an year', size=15)\n",
        "plt.legend(fontsize=12)\n",
        "plt.show()"
      ],
      "execution_count": 50,
      "outputs": [
        {
          "output_type": "display_data",
          "data": {
            "image/png": "[encoded data removed]",
            "text/plain": [
              "<Figure size 864x360 with 1 Axes>"
            ]
          },
          "metadata": {
            "needs_background": "light"
          }
        }
      ]
    },
    {
      "cell_type": "code",
      "metadata": {
        "colab": {
          "base_uri": "https://localhost:8080/",
          "height": 355
        },
        "id": "5mmZOx2QHM7-",
        "outputId": "700f0831-c860-4766-f350-d6ab19e772e6"
      },
      "source": [
        "plt.figure(figsize=(12,5))\n",
        "df[df['Country']=='United Kingdom'].groupby(['day'])['Amount'].sum().plot(kind='line',label='UK',color='blue')\n",
        "df[df['Country']=='Others'].groupby(['day'])['Amount'].sum().plot(kind='line',label='Other',color='grey')\n",
        "plt.xlabel('Day',size=12)\n",
        "plt.ylabel('Total Sales', size=12)\n",
        "plt.title('Sales on each day of a month', size=15)\n",
        "plt.legend(fontsize=12)\n",
        "plt.show()"
      ],
      "execution_count": 51,
      "outputs": [
        {
          "output_type": "display_data",
          "data": {
            "image/png": "[encoded data removed]",
            "text/plain": [
              "<Figure size 864x360 with 1 Axes>"
            ]
          },
          "metadata": {
            "needs_background": "light"
          }
        }
      ]
    },
    {
      "cell_type": "code",
      "metadata": {
        "colab": {
          "base_uri": "https://localhost:8080/",
          "height": 355
        },
        "id": "ykc-Tmg8HQJn",
        "outputId": "e6baa474-0899-42d0-ad58-30f3a72736da"
      },
      "source": [
        "plt.figure(figsize=(12,5))\n",
        "df[df['Country']=='United Kingdom'].groupby(['hour'])['Amount'].sum().plot(kind='line',label='UK',color='blue')\n",
        "df[df['Country']=='Others'].groupby(['hour'])['Amount'].sum().plot(kind='line',label='Other',color='grey')\n",
        "plt.xlabel('Hours',size=12)\n",
        "plt.ylabel('Total Sales', size=12)\n",
        "plt.title('Sales in each hour in a day', size=15)\n",
        "plt.legend(fontsize=12)\n",
        "plt.show()"
      ],
      "execution_count": 52,
      "outputs": [
        {
          "output_type": "display_data",
          "data": {
            "image/png": "[encoded data removed]",
            "text/plain": [
              "<Figure size 864x360 with 1 Axes>"
            ]
          },
          "metadata": {
            "needs_background": "light"
          }
        }
      ]
    },
    {
      "cell_type": "markdown",
      "metadata": {
        "id": "d39o-HP5HYdV"
      },
      "source": [
        "### 1. Cohort Analysis"
      ]
    },
    {
      "cell_type": "code",
      "metadata": {
        "colab": {
          "base_uri": "https://localhost:8080/",
          "height": 206
        },
        "id": "6lBu8ia2HSVI",
        "outputId": "04421557-44e7-4e0f-fe60-de58d62c71ec"
      },
      "source": [
        "# copying the data into new df\n",
        "df_cohort = df.copy()\n",
        "# select only limited columns\n",
        "df_cohort = df_cohort.iloc[:,:9]\n",
        "df_cohort.head()"
      ],
      "execution_count": 53,
      "outputs": [
        {
          "output_type": "execute_result",
          "data": {
            "text/html": [
              "<div>\n",
              "<style scoped>\n",
              "    .dataframe tbody tr th:only-of-type {\n",
              "        vertical-align: middle;\n",
              "    }\n",
              "\n",
              "    .dataframe tbody tr th {\n",
              "        vertical-align: top;\n",
              "    }\n",
              "\n",
              "    .dataframe thead th {\n",
              "        text-align: right;\n",
              "    }\n",
              "</style>\n",
              "<table border=\"1\" class=\"dataframe\">\n",
              "  <thead>\n",
              "    <tr style=\"text-align: right;\">\n",
              "      <th></th>\n",
              "      <th>Invoice</th>\n",
              "      <th>StockCode</th>\n",
              "      <th>Description</th>\n",
              "      <th>Quantity</th>\n",
              "      <th>InvoiceDate</th>\n",
              "      <th>Price</th>\n",
              "      <th>Customer ID</th>\n",
              "      <th>Country</th>\n",
              "      <th>Amount</th>\n",
              "    </tr>\n",
              "  </thead>\n",
              "  <tbody>\n",
              "    <tr>\n",
              "      <th>0</th>\n",
              "      <td>489434</td>\n",
              "      <td>85048</td>\n",
              "      <td>15CM CHRISTMAS GLASS BALL 20 LIGHTS</td>\n",
              "      <td>12</td>\n",
              "      <td>2009-12-01 07:45:00</td>\n",
              "      <td>6.95</td>\n",
              "      <td>13085.0</td>\n",
              "      <td>United Kingdom</td>\n",
              "      <td>83.4</td>\n",
              "    </tr>\n",
              "    <tr>\n",
              "      <th>1</th>\n",
              "      <td>489434</td>\n",
              "      <td>79323P</td>\n",
              "      <td>PINK CHERRY LIGHTS</td>\n",
              "      <td>12</td>\n",
              "      <td>2009-12-01 07:45:00</td>\n",
              "      <td>6.75</td>\n",
              "      <td>13085.0</td>\n",
              "      <td>United Kingdom</td>\n",
              "      <td>81.0</td>\n",
              "    </tr>\n",
              "    <tr>\n",
              "      <th>2</th>\n",
              "      <td>489434</td>\n",
              "      <td>79323W</td>\n",
              "      <td>WHITE CHERRY LIGHTS</td>\n",
              "      <td>12</td>\n",
              "      <td>2009-12-01 07:45:00</td>\n",
              "      <td>6.75</td>\n",
              "      <td>13085.0</td>\n",
              "      <td>United Kingdom</td>\n",
              "      <td>81.0</td>\n",
              "    </tr>\n",
              "    <tr>\n",
              "      <th>3</th>\n",
              "      <td>489434</td>\n",
              "      <td>22041</td>\n",
              "      <td>RECORD FRAME 7\" SINGLE SIZE</td>\n",
              "      <td>48</td>\n",
              "      <td>2009-12-01 07:45:00</td>\n",
              "      <td>2.10</td>\n",
              "      <td>13085.0</td>\n",
              "      <td>United Kingdom</td>\n",
              "      <td>100.8</td>\n",
              "    </tr>\n",
              "    <tr>\n",
              "      <th>4</th>\n",
              "      <td>489434</td>\n",
              "      <td>21232</td>\n",
              "      <td>STRAWBERRY CERAMIC TRINKET BOX</td>\n",
              "      <td>24</td>\n",
              "      <td>2009-12-01 07:45:00</td>\n",
              "      <td>1.25</td>\n",
              "      <td>13085.0</td>\n",
              "      <td>United Kingdom</td>\n",
              "      <td>30.0</td>\n",
              "    </tr>\n",
              "  </tbody>\n",
              "</table>\n",
              "</div>"
            ],
            "text/plain": [
              "  Invoice StockCode  ...         Country  Amount\n",
              "0  489434     85048  ...  United Kingdom    83.4\n",
              "1  489434    79323P  ...  United Kingdom    81.0\n",
              "2  489434    79323W  ...  United Kingdom    81.0\n",
              "3  489434     22041  ...  United Kingdom   100.8\n",
              "4  489434     21232  ...  United Kingdom    30.0\n",
              "\n",
              "[5 rows x 9 columns]"
            ]
          },
          "metadata": {},
          "execution_count": 53
        }
      ]
    },
    {
      "cell_type": "markdown",
      "metadata": {
        "id": "F0hWIPVLHhRF"
      },
      "source": [
        "For cohort analysis, there are a few labels that we have to create:\n",
        "\n",
        "* Invoice Month: A string representation of the year and month of a single transaction/invoice.\n",
        "\n",
        "* Cohort Month: A string representation of the the year and month of a customer’s first purchase. This label is common across all invoices for a particular customer.\n",
        "\n",
        "* Cohort period: A integer representation a customer’s stage in its “lifetime”. The number represents the number of months passed since the first purchase.\n",
        "\n",
        "\n",
        "\n"
      ]
    },
    {
      "cell_type": "code",
      "metadata": {
        "id": "LfIWx0vyHcdJ"
      },
      "source": [
        "# creating the first variable 'Invoice Month'\n",
        "# extracting only year-month from Invoice Date and day will be 1 automatically\n",
        "\n",
        "df_cohort['InvoiceMonth'] = df_cohort['InvoiceDate'].dt.strftime('%Y-%m')\n",
        "# converting the variable to datetime format\n",
        "df_cohort['InvoiceMonth'] = pd.to_datetime(df_cohort['InvoiceMonth'])"
      ],
      "execution_count": 54,
      "outputs": []
    },
    {
      "cell_type": "code",
      "metadata": {
        "id": "mq280o3tHvha"
      },
      "source": [
        "# creating the second variable 'Cohort Month'\n",
        "# getting the first time purchase date for each customer\n",
        "\n",
        "df_cohort['CohortMonth'] = df_cohort.groupby('Customer ID')['InvoiceMonth'].transform('min')\n",
        "# converting the variable to datetime format\n",
        "df_cohort['CohortMonth'] = pd.to_datetime(df_cohort['CohortMonth'])"
      ],
      "execution_count": 55,
      "outputs": []
    },
    {
      "cell_type": "code",
      "metadata": {
        "colab": {
          "base_uri": "https://localhost:8080/"
        },
        "id": "8fEw-yWxHwlN",
        "outputId": "95d21baa-6606-441a-f963-8af70ddb187f"
      },
      "source": [
        "df_cohort.info()"
      ],
      "execution_count": 56,
      "outputs": [
        {
          "output_type": "stream",
          "name": "stdout",
          "text": [
            "<class 'pandas.core.frame.DataFrame'>\n",
            "Int64Index: 400501 entries, 0 to 525460\n",
            "Data columns (total 11 columns):\n",
            " #   Column        Non-Null Count   Dtype         \n",
            "---  ------        --------------   -----         \n",
            " 0   Invoice       400501 non-null  object        \n",
            " 1   StockCode     400501 non-null  object        \n",
            " 2   Description   400501 non-null  object        \n",
            " 3   Quantity      400501 non-null  int64         \n",
            " 4   InvoiceDate   400501 non-null  datetime64[ns]\n",
            " 5   Price         400501 non-null  float64       \n",
            " 6   Customer ID   400501 non-null  float64       \n",
            " 7   Country       400501 non-null  object        \n",
            " 8   Amount        400501 non-null  float64       \n",
            " 9   InvoiceMonth  400501 non-null  datetime64[ns]\n",
            " 10  CohortMonth   400501 non-null  datetime64[ns]\n",
            "dtypes: datetime64[ns](3), float64(3), int64(1), object(4)\n",
            "memory usage: 36.7+ MB\n"
          ]
        }
      ]
    },
    {
      "cell_type": "code",
      "metadata": {
        "id": "96ySfzOJH0vw"
      },
      "source": [
        "# creating the third variable 'Cohort Period'\n",
        "# for this we create a function which calculates the number of month between their first purchase date and Invoice date\n",
        "\n",
        "def diff_month(d1, d2):\n",
        "    return((d1.dt.year - d2.dt.year) * 12 + d1.dt.month - d2.dt.month)\n",
        "\n",
        "df_cohort['CohortPeriod'] = diff_month(df_cohort['InvoiceMonth'], df_cohort['CohortMonth'])"
      ],
      "execution_count": 57,
      "outputs": []
    },
    {
      "cell_type": "code",
      "metadata": {
        "colab": {
          "base_uri": "https://localhost:8080/",
          "height": 380
        },
        "id": "QN58ZB9SH3HH",
        "outputId": "d8d9f398-0799-4da2-f3fb-7d89ab40e7e0"
      },
      "source": [
        "df_cohort.sample(5)"
      ],
      "execution_count": 58,
      "outputs": [
        {
          "output_type": "execute_result",
          "data": {
            "text/html": [
              "<div>\n",
              "<style scoped>\n",
              "    .dataframe tbody tr th:only-of-type {\n",
              "        vertical-align: middle;\n",
              "    }\n",
              "\n",
              "    .dataframe tbody tr th {\n",
              "        vertical-align: top;\n",
              "    }\n",
              "\n",
              "    .dataframe thead th {\n",
              "        text-align: right;\n",
              "    }\n",
              "</style>\n",
              "<table border=\"1\" class=\"dataframe\">\n",
              "  <thead>\n",
              "    <tr style=\"text-align: right;\">\n",
              "      <th></th>\n",
              "      <th>Invoice</th>\n",
              "      <th>StockCode</th>\n",
              "      <th>Description</th>\n",
              "      <th>Quantity</th>\n",
              "      <th>InvoiceDate</th>\n",
              "      <th>Price</th>\n",
              "      <th>Customer ID</th>\n",
              "      <th>Country</th>\n",
              "      <th>Amount</th>\n",
              "      <th>InvoiceMonth</th>\n",
              "      <th>CohortMonth</th>\n",
              "      <th>CohortPeriod</th>\n",
              "    </tr>\n",
              "  </thead>\n",
              "  <tbody>\n",
              "    <tr>\n",
              "      <th>109424</th>\n",
              "      <td>499897</td>\n",
              "      <td>22054</td>\n",
              "      <td>MINI CAKE STAND HANGING HEARTS</td>\n",
              "      <td>16</td>\n",
              "      <td>2010-03-03 11:53:00</td>\n",
              "      <td>1.45</td>\n",
              "      <td>14298.0</td>\n",
              "      <td>United Kingdom</td>\n",
              "      <td>23.20</td>\n",
              "      <td>2010-03-01</td>\n",
              "      <td>2009-12-01</td>\n",
              "      <td>3</td>\n",
              "    </tr>\n",
              "    <tr>\n",
              "      <th>454703</th>\n",
              "      <td>532607</td>\n",
              "      <td>22662</td>\n",
              "      <td>LUNCH BAG DOLLY GIRL DESIGN</td>\n",
              "      <td>10</td>\n",
              "      <td>2010-11-12 15:05:00</td>\n",
              "      <td>1.65</td>\n",
              "      <td>16303.0</td>\n",
              "      <td>United Kingdom</td>\n",
              "      <td>16.50</td>\n",
              "      <td>2010-11-01</td>\n",
              "      <td>2010-03-01</td>\n",
              "      <td>8</td>\n",
              "    </tr>\n",
              "    <tr>\n",
              "      <th>498332</th>\n",
              "      <td>535967</td>\n",
              "      <td>22941</td>\n",
              "      <td>CHRISTMAS LIGHTS 10 REINDEER</td>\n",
              "      <td>7</td>\n",
              "      <td>2010-11-29 12:46:00</td>\n",
              "      <td>8.50</td>\n",
              "      <td>14510.0</td>\n",
              "      <td>United Kingdom</td>\n",
              "      <td>59.50</td>\n",
              "      <td>2010-11-01</td>\n",
              "      <td>2010-09-01</td>\n",
              "      <td>2</td>\n",
              "    </tr>\n",
              "    <tr>\n",
              "      <th>175694</th>\n",
              "      <td>506099</td>\n",
              "      <td>21538</td>\n",
              "      <td>DAIRY MAID  PUDDING BOWL</td>\n",
              "      <td>1</td>\n",
              "      <td>2010-04-27 12:46:00</td>\n",
              "      <td>3.75</td>\n",
              "      <td>17991.0</td>\n",
              "      <td>United Kingdom</td>\n",
              "      <td>3.75</td>\n",
              "      <td>2010-04-01</td>\n",
              "      <td>2010-04-01</td>\n",
              "      <td>0</td>\n",
              "    </tr>\n",
              "    <tr>\n",
              "      <th>257836</th>\n",
              "      <td>514310</td>\n",
              "      <td>85017B</td>\n",
              "      <td>ENVELOPE 50 BLOSSOM IMAGES</td>\n",
              "      <td>24</td>\n",
              "      <td>2010-07-01 13:14:00</td>\n",
              "      <td>0.85</td>\n",
              "      <td>12765.0</td>\n",
              "      <td>Others</td>\n",
              "      <td>20.40</td>\n",
              "      <td>2010-07-01</td>\n",
              "      <td>2010-03-01</td>\n",
              "      <td>4</td>\n",
              "    </tr>\n",
              "  </tbody>\n",
              "</table>\n",
              "</div>"
            ],
            "text/plain": [
              "       Invoice StockCode  ... CohortMonth  CohortPeriod\n",
              "109424  499897     22054  ...  2009-12-01             3\n",
              "454703  532607     22662  ...  2010-03-01             8\n",
              "498332  535967     22941  ...  2010-09-01             2\n",
              "175694  506099     21538  ...  2010-04-01             0\n",
              "257836  514310    85017B  ...  2010-03-01             4\n",
              "\n",
              "[5 rows x 12 columns]"
            ]
          },
          "metadata": {},
          "execution_count": 58
        }
      ]
    },
    {
      "cell_type": "code",
      "metadata": {
        "colab": {
          "base_uri": "https://localhost:8080/",
          "height": 488
        },
        "id": "gpSVd81BH5-f",
        "outputId": "f5483088-4a94-41b7-ebfb-81ca50be8416"
      },
      "source": [
        "customer_cohort = df_cohort.pivot_table(index='CohortMonth', columns='CohortPeriod', values='Customer ID', aggfunc='nunique')\n",
        "customer_cohort"
      ],
      "execution_count": 59,
      "outputs": [
        {
          "output_type": "execute_result",
          "data": {
            "text/html": [
              "<div>\n",
              "<style scoped>\n",
              "    .dataframe tbody tr th:only-of-type {\n",
              "        vertical-align: middle;\n",
              "    }\n",
              "\n",
              "    .dataframe tbody tr th {\n",
              "        vertical-align: top;\n",
              "    }\n",
              "\n",
              "    .dataframe thead th {\n",
              "        text-align: right;\n",
              "    }\n",
              "</style>\n",
              "<table border=\"1\" class=\"dataframe\">\n",
              "  <thead>\n",
              "    <tr style=\"text-align: right;\">\n",
              "      <th>CohortPeriod</th>\n",
              "      <th>0</th>\n",
              "      <th>1</th>\n",
              "      <th>2</th>\n",
              "      <th>3</th>\n",
              "      <th>4</th>\n",
              "      <th>5</th>\n",
              "      <th>6</th>\n",
              "      <th>7</th>\n",
              "      <th>8</th>\n",
              "      <th>9</th>\n",
              "      <th>10</th>\n",
              "      <th>11</th>\n",
              "      <th>12</th>\n",
              "    </tr>\n",
              "    <tr>\n",
              "      <th>CohortMonth</th>\n",
              "      <th></th>\n",
              "      <th></th>\n",
              "      <th></th>\n",
              "      <th></th>\n",
              "      <th></th>\n",
              "      <th></th>\n",
              "      <th></th>\n",
              "      <th></th>\n",
              "      <th></th>\n",
              "      <th></th>\n",
              "      <th></th>\n",
              "      <th></th>\n",
              "      <th></th>\n",
              "    </tr>\n",
              "  </thead>\n",
              "  <tbody>\n",
              "    <tr>\n",
              "      <th>2009-12-01</th>\n",
              "      <td>954.0</td>\n",
              "      <td>336.0</td>\n",
              "      <td>317.0</td>\n",
              "      <td>405.0</td>\n",
              "      <td>360.0</td>\n",
              "      <td>342.0</td>\n",
              "      <td>359.0</td>\n",
              "      <td>327.0</td>\n",
              "      <td>321.0</td>\n",
              "      <td>344.0</td>\n",
              "      <td>401.0</td>\n",
              "      <td>472.0</td>\n",
              "      <td>236.0</td>\n",
              "    </tr>\n",
              "    <tr>\n",
              "      <th>2010-01-01</th>\n",
              "      <td>382.0</td>\n",
              "      <td>79.0</td>\n",
              "      <td>119.0</td>\n",
              "      <td>117.0</td>\n",
              "      <td>101.0</td>\n",
              "      <td>115.0</td>\n",
              "      <td>99.0</td>\n",
              "      <td>88.0</td>\n",
              "      <td>107.0</td>\n",
              "      <td>121.0</td>\n",
              "      <td>115.0</td>\n",
              "      <td>38.0</td>\n",
              "      <td>NaN</td>\n",
              "    </tr>\n",
              "    <tr>\n",
              "      <th>2010-02-01</th>\n",
              "      <td>377.0</td>\n",
              "      <td>90.0</td>\n",
              "      <td>85.0</td>\n",
              "      <td>110.0</td>\n",
              "      <td>92.0</td>\n",
              "      <td>74.0</td>\n",
              "      <td>72.0</td>\n",
              "      <td>108.0</td>\n",
              "      <td>96.0</td>\n",
              "      <td>104.0</td>\n",
              "      <td>27.0</td>\n",
              "      <td>NaN</td>\n",
              "      <td>NaN</td>\n",
              "    </tr>\n",
              "    <tr>\n",
              "      <th>2010-03-01</th>\n",
              "      <td>439.0</td>\n",
              "      <td>84.0</td>\n",
              "      <td>102.0</td>\n",
              "      <td>106.0</td>\n",
              "      <td>102.0</td>\n",
              "      <td>90.0</td>\n",
              "      <td>108.0</td>\n",
              "      <td>134.0</td>\n",
              "      <td>122.0</td>\n",
              "      <td>35.0</td>\n",
              "      <td>NaN</td>\n",
              "      <td>NaN</td>\n",
              "      <td>NaN</td>\n",
              "    </tr>\n",
              "    <tr>\n",
              "      <th>2010-04-01</th>\n",
              "      <td>293.0</td>\n",
              "      <td>57.0</td>\n",
              "      <td>57.0</td>\n",
              "      <td>47.0</td>\n",
              "      <td>54.0</td>\n",
              "      <td>66.0</td>\n",
              "      <td>81.0</td>\n",
              "      <td>77.0</td>\n",
              "      <td>20.0</td>\n",
              "      <td>NaN</td>\n",
              "      <td>NaN</td>\n",
              "      <td>NaN</td>\n",
              "      <td>NaN</td>\n",
              "    </tr>\n",
              "    <tr>\n",
              "      <th>2010-05-01</th>\n",
              "      <td>254.0</td>\n",
              "      <td>40.0</td>\n",
              "      <td>43.0</td>\n",
              "      <td>44.0</td>\n",
              "      <td>45.0</td>\n",
              "      <td>65.0</td>\n",
              "      <td>54.0</td>\n",
              "      <td>20.0</td>\n",
              "      <td>NaN</td>\n",
              "      <td>NaN</td>\n",
              "      <td>NaN</td>\n",
              "      <td>NaN</td>\n",
              "      <td>NaN</td>\n",
              "    </tr>\n",
              "    <tr>\n",
              "      <th>2010-06-01</th>\n",
              "      <td>267.0</td>\n",
              "      <td>47.0</td>\n",
              "      <td>50.0</td>\n",
              "      <td>55.0</td>\n",
              "      <td>62.0</td>\n",
              "      <td>76.0</td>\n",
              "      <td>18.0</td>\n",
              "      <td>NaN</td>\n",
              "      <td>NaN</td>\n",
              "      <td>NaN</td>\n",
              "      <td>NaN</td>\n",
              "      <td>NaN</td>\n",
              "      <td>NaN</td>\n",
              "    </tr>\n",
              "    <tr>\n",
              "      <th>2010-07-01</th>\n",
              "      <td>186.0</td>\n",
              "      <td>29.0</td>\n",
              "      <td>34.0</td>\n",
              "      <td>55.0</td>\n",
              "      <td>54.0</td>\n",
              "      <td>19.0</td>\n",
              "      <td>NaN</td>\n",
              "      <td>NaN</td>\n",
              "      <td>NaN</td>\n",
              "      <td>NaN</td>\n",
              "      <td>NaN</td>\n",
              "      <td>NaN</td>\n",
              "      <td>NaN</td>\n",
              "    </tr>\n",
              "    <tr>\n",
              "      <th>2010-08-01</th>\n",
              "      <td>162.0</td>\n",
              "      <td>32.0</td>\n",
              "      <td>47.0</td>\n",
              "      <td>53.0</td>\n",
              "      <td>18.0</td>\n",
              "      <td>NaN</td>\n",
              "      <td>NaN</td>\n",
              "      <td>NaN</td>\n",
              "      <td>NaN</td>\n",
              "      <td>NaN</td>\n",
              "      <td>NaN</td>\n",
              "      <td>NaN</td>\n",
              "      <td>NaN</td>\n",
              "    </tr>\n",
              "    <tr>\n",
              "      <th>2010-09-01</th>\n",
              "      <td>239.0</td>\n",
              "      <td>56.0</td>\n",
              "      <td>56.0</td>\n",
              "      <td>25.0</td>\n",
              "      <td>NaN</td>\n",
              "      <td>NaN</td>\n",
              "      <td>NaN</td>\n",
              "      <td>NaN</td>\n",
              "      <td>NaN</td>\n",
              "      <td>NaN</td>\n",
              "      <td>NaN</td>\n",
              "      <td>NaN</td>\n",
              "      <td>NaN</td>\n",
              "    </tr>\n",
              "    <tr>\n",
              "      <th>2010-10-01</th>\n",
              "      <td>375.0</td>\n",
              "      <td>97.0</td>\n",
              "      <td>35.0</td>\n",
              "      <td>NaN</td>\n",
              "      <td>NaN</td>\n",
              "      <td>NaN</td>\n",
              "      <td>NaN</td>\n",
              "      <td>NaN</td>\n",
              "      <td>NaN</td>\n",
              "      <td>NaN</td>\n",
              "      <td>NaN</td>\n",
              "      <td>NaN</td>\n",
              "      <td>NaN</td>\n",
              "    </tr>\n",
              "    <tr>\n",
              "      <th>2010-11-01</th>\n",
              "      <td>326.0</td>\n",
              "      <td>35.0</td>\n",
              "      <td>NaN</td>\n",
              "      <td>NaN</td>\n",
              "      <td>NaN</td>\n",
              "      <td>NaN</td>\n",
              "      <td>NaN</td>\n",
              "      <td>NaN</td>\n",
              "      <td>NaN</td>\n",
              "      <td>NaN</td>\n",
              "      <td>NaN</td>\n",
              "      <td>NaN</td>\n",
              "      <td>NaN</td>\n",
              "    </tr>\n",
              "    <tr>\n",
              "      <th>2010-12-01</th>\n",
              "      <td>46.0</td>\n",
              "      <td>NaN</td>\n",
              "      <td>NaN</td>\n",
              "      <td>NaN</td>\n",
              "      <td>NaN</td>\n",
              "      <td>NaN</td>\n",
              "      <td>NaN</td>\n",
              "      <td>NaN</td>\n",
              "      <td>NaN</td>\n",
              "      <td>NaN</td>\n",
              "      <td>NaN</td>\n",
              "      <td>NaN</td>\n",
              "      <td>NaN</td>\n",
              "    </tr>\n",
              "  </tbody>\n",
              "</table>\n",
              "</div>"
            ],
            "text/plain": [
              "CohortPeriod     0      1      2      3   ...     9      10     11     12\n",
              "CohortMonth                               ...                            \n",
              "2009-12-01    954.0  336.0  317.0  405.0  ...  344.0  401.0  472.0  236.0\n",
              "2010-01-01    382.0   79.0  119.0  117.0  ...  121.0  115.0   38.0    NaN\n",
              "2010-02-01    377.0   90.0   85.0  110.0  ...  104.0   27.0    NaN    NaN\n",
              "2010-03-01    439.0   84.0  102.0  106.0  ...   35.0    NaN    NaN    NaN\n",
              "2010-04-01    293.0   57.0   57.0   47.0  ...    NaN    NaN    NaN    NaN\n",
              "2010-05-01    254.0   40.0   43.0   44.0  ...    NaN    NaN    NaN    NaN\n",
              "2010-06-01    267.0   47.0   50.0   55.0  ...    NaN    NaN    NaN    NaN\n",
              "2010-07-01    186.0   29.0   34.0   55.0  ...    NaN    NaN    NaN    NaN\n",
              "2010-08-01    162.0   32.0   47.0   53.0  ...    NaN    NaN    NaN    NaN\n",
              "2010-09-01    239.0   56.0   56.0   25.0  ...    NaN    NaN    NaN    NaN\n",
              "2010-10-01    375.0   97.0   35.0    NaN  ...    NaN    NaN    NaN    NaN\n",
              "2010-11-01    326.0   35.0    NaN    NaN  ...    NaN    NaN    NaN    NaN\n",
              "2010-12-01     46.0    NaN    NaN    NaN  ...    NaN    NaN    NaN    NaN\n",
              "\n",
              "[13 rows x 13 columns]"
            ]
          },
          "metadata": {},
          "execution_count": 59
        }
      ]
    },
    {
      "cell_type": "markdown",
      "metadata": {
        "id": "9TGUvHeOIBD0"
      },
      "source": [
        "Observations:\n",
        "* The above table show retention and acquistion of customers.\n",
        "\n",
        "* Vertically i.e. the first column '0' tells how many new customers the business acquired in a particular month. ex: 954 is the number of customers business acquired in Dec'2010, 382 is the number of customers(different from previous month) business acquired in Jan'2011, and so on.\n",
        "\n",
        "* Horizontally i.e the first row tells the number of customers who is continuing to be part of business since their first purchase i.e. Dec'2010. ex: 336 is the number of customers out of 954 that continue to purchase one month after their first purchase, 317 is the number of customers that continue to purchase two months after their first purchase, and so on."
      ]
    },
    {
      "cell_type": "code",
      "metadata": {
        "colab": {
          "base_uri": "https://localhost:8080/",
          "height": 457
        },
        "id": "WFegshrkH7sr",
        "outputId": "4650e59b-854c-4fa3-9ebc-4297cf25560b"
      },
      "source": [
        "# Retention table\n",
        "\n",
        "cohort_size = customer_cohort.iloc[:,0]\n",
        "retention = customer_cohort.divide(cohort_size,axis=0) #axis=0 to ensure the divide along the row axis\n",
        "retention.index = pd.to_datetime(retention.index).date\n",
        "retention.round(3) * 100 #to show the number as percentage"
      ],
      "execution_count": 60,
      "outputs": [
        {
          "output_type": "execute_result",
          "data": {
            "text/html": [
              "<div>\n",
              "<style scoped>\n",
              "    .dataframe tbody tr th:only-of-type {\n",
              "        vertical-align: middle;\n",
              "    }\n",
              "\n",
              "    .dataframe tbody tr th {\n",
              "        vertical-align: top;\n",
              "    }\n",
              "\n",
              "    .dataframe thead th {\n",
              "        text-align: right;\n",
              "    }\n",
              "</style>\n",
              "<table border=\"1\" class=\"dataframe\">\n",
              "  <thead>\n",
              "    <tr style=\"text-align: right;\">\n",
              "      <th>CohortPeriod</th>\n",
              "      <th>0</th>\n",
              "      <th>1</th>\n",
              "      <th>2</th>\n",
              "      <th>3</th>\n",
              "      <th>4</th>\n",
              "      <th>5</th>\n",
              "      <th>6</th>\n",
              "      <th>7</th>\n",
              "      <th>8</th>\n",
              "      <th>9</th>\n",
              "      <th>10</th>\n",
              "      <th>11</th>\n",
              "      <th>12</th>\n",
              "    </tr>\n",
              "  </thead>\n",
              "  <tbody>\n",
              "    <tr>\n",
              "      <th>2009-12-01</th>\n",
              "      <td>100.0</td>\n",
              "      <td>35.2</td>\n",
              "      <td>33.2</td>\n",
              "      <td>42.5</td>\n",
              "      <td>37.7</td>\n",
              "      <td>35.8</td>\n",
              "      <td>37.6</td>\n",
              "      <td>34.3</td>\n",
              "      <td>33.6</td>\n",
              "      <td>36.1</td>\n",
              "      <td>42.0</td>\n",
              "      <td>49.5</td>\n",
              "      <td>24.7</td>\n",
              "    </tr>\n",
              "    <tr>\n",
              "      <th>2010-01-01</th>\n",
              "      <td>100.0</td>\n",
              "      <td>20.7</td>\n",
              "      <td>31.2</td>\n",
              "      <td>30.6</td>\n",
              "      <td>26.4</td>\n",
              "      <td>30.1</td>\n",
              "      <td>25.9</td>\n",
              "      <td>23.0</td>\n",
              "      <td>28.0</td>\n",
              "      <td>31.7</td>\n",
              "      <td>30.1</td>\n",
              "      <td>9.9</td>\n",
              "      <td>NaN</td>\n",
              "    </tr>\n",
              "    <tr>\n",
              "      <th>2010-02-01</th>\n",
              "      <td>100.0</td>\n",
              "      <td>23.9</td>\n",
              "      <td>22.5</td>\n",
              "      <td>29.2</td>\n",
              "      <td>24.4</td>\n",
              "      <td>19.6</td>\n",
              "      <td>19.1</td>\n",
              "      <td>28.6</td>\n",
              "      <td>25.5</td>\n",
              "      <td>27.6</td>\n",
              "      <td>7.2</td>\n",
              "      <td>NaN</td>\n",
              "      <td>NaN</td>\n",
              "    </tr>\n",
              "    <tr>\n",
              "      <th>2010-03-01</th>\n",
              "      <td>100.0</td>\n",
              "      <td>19.1</td>\n",
              "      <td>23.2</td>\n",
              "      <td>24.1</td>\n",
              "      <td>23.2</td>\n",
              "      <td>20.5</td>\n",
              "      <td>24.6</td>\n",
              "      <td>30.5</td>\n",
              "      <td>27.8</td>\n",
              "      <td>8.0</td>\n",
              "      <td>NaN</td>\n",
              "      <td>NaN</td>\n",
              "      <td>NaN</td>\n",
              "    </tr>\n",
              "    <tr>\n",
              "      <th>2010-04-01</th>\n",
              "      <td>100.0</td>\n",
              "      <td>19.5</td>\n",
              "      <td>19.5</td>\n",
              "      <td>16.0</td>\n",
              "      <td>18.4</td>\n",
              "      <td>22.5</td>\n",
              "      <td>27.6</td>\n",
              "      <td>26.3</td>\n",
              "      <td>6.8</td>\n",
              "      <td>NaN</td>\n",
              "      <td>NaN</td>\n",
              "      <td>NaN</td>\n",
              "      <td>NaN</td>\n",
              "    </tr>\n",
              "    <tr>\n",
              "      <th>2010-05-01</th>\n",
              "      <td>100.0</td>\n",
              "      <td>15.7</td>\n",
              "      <td>16.9</td>\n",
              "      <td>17.3</td>\n",
              "      <td>17.7</td>\n",
              "      <td>25.6</td>\n",
              "      <td>21.3</td>\n",
              "      <td>7.9</td>\n",
              "      <td>NaN</td>\n",
              "      <td>NaN</td>\n",
              "      <td>NaN</td>\n",
              "      <td>NaN</td>\n",
              "      <td>NaN</td>\n",
              "    </tr>\n",
              "    <tr>\n",
              "      <th>2010-06-01</th>\n",
              "      <td>100.0</td>\n",
              "      <td>17.6</td>\n",
              "      <td>18.7</td>\n",
              "      <td>20.6</td>\n",
              "      <td>23.2</td>\n",
              "      <td>28.5</td>\n",
              "      <td>6.7</td>\n",
              "      <td>NaN</td>\n",
              "      <td>NaN</td>\n",
              "      <td>NaN</td>\n",
              "      <td>NaN</td>\n",
              "      <td>NaN</td>\n",
              "      <td>NaN</td>\n",
              "    </tr>\n",
              "    <tr>\n",
              "      <th>2010-07-01</th>\n",
              "      <td>100.0</td>\n",
              "      <td>15.6</td>\n",
              "      <td>18.3</td>\n",
              "      <td>29.6</td>\n",
              "      <td>29.0</td>\n",
              "      <td>10.2</td>\n",
              "      <td>NaN</td>\n",
              "      <td>NaN</td>\n",
              "      <td>NaN</td>\n",
              "      <td>NaN</td>\n",
              "      <td>NaN</td>\n",
              "      <td>NaN</td>\n",
              "      <td>NaN</td>\n",
              "    </tr>\n",
              "    <tr>\n",
              "      <th>2010-08-01</th>\n",
              "      <td>100.0</td>\n",
              "      <td>19.8</td>\n",
              "      <td>29.0</td>\n",
              "      <td>32.7</td>\n",
              "      <td>11.1</td>\n",
              "      <td>NaN</td>\n",
              "      <td>NaN</td>\n",
              "      <td>NaN</td>\n",
              "      <td>NaN</td>\n",
              "      <td>NaN</td>\n",
              "      <td>NaN</td>\n",
              "      <td>NaN</td>\n",
              "      <td>NaN</td>\n",
              "    </tr>\n",
              "    <tr>\n",
              "      <th>2010-09-01</th>\n",
              "      <td>100.0</td>\n",
              "      <td>23.4</td>\n",
              "      <td>23.4</td>\n",
              "      <td>10.5</td>\n",
              "      <td>NaN</td>\n",
              "      <td>NaN</td>\n",
              "      <td>NaN</td>\n",
              "      <td>NaN</td>\n",
              "      <td>NaN</td>\n",
              "      <td>NaN</td>\n",
              "      <td>NaN</td>\n",
              "      <td>NaN</td>\n",
              "      <td>NaN</td>\n",
              "    </tr>\n",
              "    <tr>\n",
              "      <th>2010-10-01</th>\n",
              "      <td>100.0</td>\n",
              "      <td>25.9</td>\n",
              "      <td>9.3</td>\n",
              "      <td>NaN</td>\n",
              "      <td>NaN</td>\n",
              "      <td>NaN</td>\n",
              "      <td>NaN</td>\n",
              "      <td>NaN</td>\n",
              "      <td>NaN</td>\n",
              "      <td>NaN</td>\n",
              "      <td>NaN</td>\n",
              "      <td>NaN</td>\n",
              "      <td>NaN</td>\n",
              "    </tr>\n",
              "    <tr>\n",
              "      <th>2010-11-01</th>\n",
              "      <td>100.0</td>\n",
              "      <td>10.7</td>\n",
              "      <td>NaN</td>\n",
              "      <td>NaN</td>\n",
              "      <td>NaN</td>\n",
              "      <td>NaN</td>\n",
              "      <td>NaN</td>\n",
              "      <td>NaN</td>\n",
              "      <td>NaN</td>\n",
              "      <td>NaN</td>\n",
              "      <td>NaN</td>\n",
              "      <td>NaN</td>\n",
              "      <td>NaN</td>\n",
              "    </tr>\n",
              "    <tr>\n",
              "      <th>2010-12-01</th>\n",
              "      <td>100.0</td>\n",
              "      <td>NaN</td>\n",
              "      <td>NaN</td>\n",
              "      <td>NaN</td>\n",
              "      <td>NaN</td>\n",
              "      <td>NaN</td>\n",
              "      <td>NaN</td>\n",
              "      <td>NaN</td>\n",
              "      <td>NaN</td>\n",
              "      <td>NaN</td>\n",
              "      <td>NaN</td>\n",
              "      <td>NaN</td>\n",
              "      <td>NaN</td>\n",
              "    </tr>\n",
              "  </tbody>\n",
              "</table>\n",
              "</div>"
            ],
            "text/plain": [
              "CohortPeriod     0     1     2     3     4   ...    8     9     10    11    12\n",
              "2009-12-01    100.0  35.2  33.2  42.5  37.7  ...  33.6  36.1  42.0  49.5  24.7\n",
              "2010-01-01    100.0  20.7  31.2  30.6  26.4  ...  28.0  31.7  30.1   9.9   NaN\n",
              "2010-02-01    100.0  23.9  22.5  29.2  24.4  ...  25.5  27.6   7.2   NaN   NaN\n",
              "2010-03-01    100.0  19.1  23.2  24.1  23.2  ...  27.8   8.0   NaN   NaN   NaN\n",
              "2010-04-01    100.0  19.5  19.5  16.0  18.4  ...   6.8   NaN   NaN   NaN   NaN\n",
              "2010-05-01    100.0  15.7  16.9  17.3  17.7  ...   NaN   NaN   NaN   NaN   NaN\n",
              "2010-06-01    100.0  17.6  18.7  20.6  23.2  ...   NaN   NaN   NaN   NaN   NaN\n",
              "2010-07-01    100.0  15.6  18.3  29.6  29.0  ...   NaN   NaN   NaN   NaN   NaN\n",
              "2010-08-01    100.0  19.8  29.0  32.7  11.1  ...   NaN   NaN   NaN   NaN   NaN\n",
              "2010-09-01    100.0  23.4  23.4  10.5   NaN  ...   NaN   NaN   NaN   NaN   NaN\n",
              "2010-10-01    100.0  25.9   9.3   NaN   NaN  ...   NaN   NaN   NaN   NaN   NaN\n",
              "2010-11-01    100.0  10.7   NaN   NaN   NaN  ...   NaN   NaN   NaN   NaN   NaN\n",
              "2010-12-01    100.0   NaN   NaN   NaN   NaN  ...   NaN   NaN   NaN   NaN   NaN\n",
              "\n",
              "[13 rows x 13 columns]"
            ]
          },
          "metadata": {},
          "execution_count": 60
        }
      ]
    },
    {
      "cell_type": "markdown",
      "metadata": {
        "id": "8M76jOshJBdI"
      },
      "source": [
        "Observations:¶\n",
        "* The above table is nothing but showing value in percentages.\n",
        "\n",
        "* We can see that over the period of time how the customer interact with the business. ex- In Jan'2011 the business acquire some new customers but after one month only 20.7% are retained or say revisit again. Then the number rise to 31.2% which means some customers back and purchase again and the reason could be an invitation/offers is sent to those group of customers."
      ]
    },
    {
      "cell_type": "code",
      "metadata": {
        "colab": {
          "base_uri": "https://localhost:8080/",
          "height": 515
        },
        "id": "J5XJBGRjI9sV",
        "outputId": "5793cc3a-5634-4af0-f97c-4ddf7d03a427"
      },
      "source": [
        "#Build the heatmap or pictorial representation of above table\n",
        "\n",
        "plt.figure(figsize=(15, 8))\n",
        "plt.title('Retention Rates(in %) over one year period', size=15)\n",
        "sns.heatmap(data=retention, annot = True, fmt = '.0%', cmap=\"summer_r\")\n",
        "plt.show()"
      ],
      "execution_count": 61,
      "outputs": [
        {
          "output_type": "display_data",
          "data": {
            "image/png": "[encoded data removed]",
            "text/plain": [
              "<Figure size 1080x576 with 2 Axes>"
            ]
          },
          "metadata": {
            "needs_background": "light"
          }
        }
      ]
    },
    {
      "cell_type": "code",
      "metadata": {
        "colab": {
          "base_uri": "https://localhost:8080/",
          "height": 488
        },
        "id": "H6fSwMOaJevJ",
        "outputId": "9f9a8669-fd75-4bf0-fac3-f4a9c1d48c74"
      },
      "source": [
        "amount_cohort = df_cohort.pivot_table(index='CohortMonth', columns='CohortPeriod', values='Amount', aggfunc='mean').round(2)\n",
        "amount_cohort"
      ],
      "execution_count": 62,
      "outputs": [
        {
          "output_type": "execute_result",
          "data": {
            "text/html": [
              "<div>\n",
              "<style scoped>\n",
              "    .dataframe tbody tr th:only-of-type {\n",
              "        vertical-align: middle;\n",
              "    }\n",
              "\n",
              "    .dataframe tbody tr th {\n",
              "        vertical-align: top;\n",
              "    }\n",
              "\n",
              "    .dataframe thead th {\n",
              "        text-align: right;\n",
              "    }\n",
              "</style>\n",
              "<table border=\"1\" class=\"dataframe\">\n",
              "  <thead>\n",
              "    <tr style=\"text-align: right;\">\n",
              "      <th>CohortPeriod</th>\n",
              "      <th>0</th>\n",
              "      <th>1</th>\n",
              "      <th>2</th>\n",
              "      <th>3</th>\n",
              "      <th>4</th>\n",
              "      <th>5</th>\n",
              "      <th>6</th>\n",
              "      <th>7</th>\n",
              "      <th>8</th>\n",
              "      <th>9</th>\n",
              "      <th>10</th>\n",
              "      <th>11</th>\n",
              "      <th>12</th>\n",
              "    </tr>\n",
              "    <tr>\n",
              "      <th>CohortMonth</th>\n",
              "      <th></th>\n",
              "      <th></th>\n",
              "      <th></th>\n",
              "      <th></th>\n",
              "      <th></th>\n",
              "      <th></th>\n",
              "      <th></th>\n",
              "      <th></th>\n",
              "      <th></th>\n",
              "      <th></th>\n",
              "      <th></th>\n",
              "      <th></th>\n",
              "      <th></th>\n",
              "    </tr>\n",
              "  </thead>\n",
              "  <tbody>\n",
              "    <tr>\n",
              "      <th>2009-12-01</th>\n",
              "      <td>22.51</td>\n",
              "      <td>31.88</td>\n",
              "      <td>25.76</td>\n",
              "      <td>26.57</td>\n",
              "      <td>24.21</td>\n",
              "      <td>24.28</td>\n",
              "      <td>23.52</td>\n",
              "      <td>27.51</td>\n",
              "      <td>32.23</td>\n",
              "      <td>28.09</td>\n",
              "      <td>28.60</td>\n",
              "      <td>26.18</td>\n",
              "      <td>27.99</td>\n",
              "    </tr>\n",
              "    <tr>\n",
              "      <th>2010-01-01</th>\n",
              "      <td>16.85</td>\n",
              "      <td>21.67</td>\n",
              "      <td>16.25</td>\n",
              "      <td>19.83</td>\n",
              "      <td>21.45</td>\n",
              "      <td>23.54</td>\n",
              "      <td>21.10</td>\n",
              "      <td>18.59</td>\n",
              "      <td>21.65</td>\n",
              "      <td>20.37</td>\n",
              "      <td>21.77</td>\n",
              "      <td>21.52</td>\n",
              "      <td>NaN</td>\n",
              "    </tr>\n",
              "    <tr>\n",
              "      <th>2010-02-01</th>\n",
              "      <td>17.11</td>\n",
              "      <td>17.19</td>\n",
              "      <td>24.46</td>\n",
              "      <td>19.06</td>\n",
              "      <td>17.70</td>\n",
              "      <td>19.51</td>\n",
              "      <td>18.87</td>\n",
              "      <td>18.35</td>\n",
              "      <td>17.00</td>\n",
              "      <td>17.65</td>\n",
              "      <td>19.94</td>\n",
              "      <td>NaN</td>\n",
              "      <td>NaN</td>\n",
              "    </tr>\n",
              "    <tr>\n",
              "      <th>2010-03-01</th>\n",
              "      <td>16.75</td>\n",
              "      <td>21.46</td>\n",
              "      <td>18.79</td>\n",
              "      <td>19.40</td>\n",
              "      <td>17.83</td>\n",
              "      <td>18.77</td>\n",
              "      <td>20.26</td>\n",
              "      <td>17.55</td>\n",
              "      <td>18.06</td>\n",
              "      <td>22.06</td>\n",
              "      <td>NaN</td>\n",
              "      <td>NaN</td>\n",
              "      <td>NaN</td>\n",
              "    </tr>\n",
              "    <tr>\n",
              "      <th>2010-04-01</th>\n",
              "      <td>18.22</td>\n",
              "      <td>18.01</td>\n",
              "      <td>19.38</td>\n",
              "      <td>30.05</td>\n",
              "      <td>19.07</td>\n",
              "      <td>18.60</td>\n",
              "      <td>17.43</td>\n",
              "      <td>17.57</td>\n",
              "      <td>14.27</td>\n",
              "      <td>NaN</td>\n",
              "      <td>NaN</td>\n",
              "      <td>NaN</td>\n",
              "      <td>NaN</td>\n",
              "    </tr>\n",
              "    <tr>\n",
              "      <th>2010-05-01</th>\n",
              "      <td>17.30</td>\n",
              "      <td>17.38</td>\n",
              "      <td>17.98</td>\n",
              "      <td>17.72</td>\n",
              "      <td>23.79</td>\n",
              "      <td>15.47</td>\n",
              "      <td>13.93</td>\n",
              "      <td>10.28</td>\n",
              "      <td>NaN</td>\n",
              "      <td>NaN</td>\n",
              "      <td>NaN</td>\n",
              "      <td>NaN</td>\n",
              "      <td>NaN</td>\n",
              "    </tr>\n",
              "    <tr>\n",
              "      <th>2010-06-01</th>\n",
              "      <td>16.91</td>\n",
              "      <td>15.52</td>\n",
              "      <td>19.36</td>\n",
              "      <td>16.97</td>\n",
              "      <td>17.12</td>\n",
              "      <td>19.62</td>\n",
              "      <td>23.48</td>\n",
              "      <td>NaN</td>\n",
              "      <td>NaN</td>\n",
              "      <td>NaN</td>\n",
              "      <td>NaN</td>\n",
              "      <td>NaN</td>\n",
              "      <td>NaN</td>\n",
              "    </tr>\n",
              "    <tr>\n",
              "      <th>2010-07-01</th>\n",
              "      <td>13.75</td>\n",
              "      <td>16.12</td>\n",
              "      <td>12.25</td>\n",
              "      <td>15.54</td>\n",
              "      <td>14.15</td>\n",
              "      <td>15.09</td>\n",
              "      <td>NaN</td>\n",
              "      <td>NaN</td>\n",
              "      <td>NaN</td>\n",
              "      <td>NaN</td>\n",
              "      <td>NaN</td>\n",
              "      <td>NaN</td>\n",
              "      <td>NaN</td>\n",
              "    </tr>\n",
              "    <tr>\n",
              "      <th>2010-08-01</th>\n",
              "      <td>13.08</td>\n",
              "      <td>14.10</td>\n",
              "      <td>14.78</td>\n",
              "      <td>15.46</td>\n",
              "      <td>19.99</td>\n",
              "      <td>NaN</td>\n",
              "      <td>NaN</td>\n",
              "      <td>NaN</td>\n",
              "      <td>NaN</td>\n",
              "      <td>NaN</td>\n",
              "      <td>NaN</td>\n",
              "      <td>NaN</td>\n",
              "      <td>NaN</td>\n",
              "    </tr>\n",
              "    <tr>\n",
              "      <th>2010-09-01</th>\n",
              "      <td>26.15</td>\n",
              "      <td>22.19</td>\n",
              "      <td>14.82</td>\n",
              "      <td>16.99</td>\n",
              "      <td>NaN</td>\n",
              "      <td>NaN</td>\n",
              "      <td>NaN</td>\n",
              "      <td>NaN</td>\n",
              "      <td>NaN</td>\n",
              "      <td>NaN</td>\n",
              "      <td>NaN</td>\n",
              "      <td>NaN</td>\n",
              "      <td>NaN</td>\n",
              "    </tr>\n",
              "    <tr>\n",
              "      <th>2010-10-01</th>\n",
              "      <td>16.29</td>\n",
              "      <td>13.79</td>\n",
              "      <td>12.78</td>\n",
              "      <td>NaN</td>\n",
              "      <td>NaN</td>\n",
              "      <td>NaN</td>\n",
              "      <td>NaN</td>\n",
              "      <td>NaN</td>\n",
              "      <td>NaN</td>\n",
              "      <td>NaN</td>\n",
              "      <td>NaN</td>\n",
              "      <td>NaN</td>\n",
              "      <td>NaN</td>\n",
              "    </tr>\n",
              "    <tr>\n",
              "      <th>2010-11-01</th>\n",
              "      <td>13.68</td>\n",
              "      <td>15.56</td>\n",
              "      <td>NaN</td>\n",
              "      <td>NaN</td>\n",
              "      <td>NaN</td>\n",
              "      <td>NaN</td>\n",
              "      <td>NaN</td>\n",
              "      <td>NaN</td>\n",
              "      <td>NaN</td>\n",
              "      <td>NaN</td>\n",
              "      <td>NaN</td>\n",
              "      <td>NaN</td>\n",
              "      <td>NaN</td>\n",
              "    </tr>\n",
              "    <tr>\n",
              "      <th>2010-12-01</th>\n",
              "      <td>11.00</td>\n",
              "      <td>NaN</td>\n",
              "      <td>NaN</td>\n",
              "      <td>NaN</td>\n",
              "      <td>NaN</td>\n",
              "      <td>NaN</td>\n",
              "      <td>NaN</td>\n",
              "      <td>NaN</td>\n",
              "      <td>NaN</td>\n",
              "      <td>NaN</td>\n",
              "      <td>NaN</td>\n",
              "      <td>NaN</td>\n",
              "      <td>NaN</td>\n",
              "    </tr>\n",
              "  </tbody>\n",
              "</table>\n",
              "</div>"
            ],
            "text/plain": [
              "CohortPeriod     0      1      2      3   ...     9      10     11     12\n",
              "CohortMonth                               ...                            \n",
              "2009-12-01    22.51  31.88  25.76  26.57  ...  28.09  28.60  26.18  27.99\n",
              "2010-01-01    16.85  21.67  16.25  19.83  ...  20.37  21.77  21.52    NaN\n",
              "2010-02-01    17.11  17.19  24.46  19.06  ...  17.65  19.94    NaN    NaN\n",
              "2010-03-01    16.75  21.46  18.79  19.40  ...  22.06    NaN    NaN    NaN\n",
              "2010-04-01    18.22  18.01  19.38  30.05  ...    NaN    NaN    NaN    NaN\n",
              "2010-05-01    17.30  17.38  17.98  17.72  ...    NaN    NaN    NaN    NaN\n",
              "2010-06-01    16.91  15.52  19.36  16.97  ...    NaN    NaN    NaN    NaN\n",
              "2010-07-01    13.75  16.12  12.25  15.54  ...    NaN    NaN    NaN    NaN\n",
              "2010-08-01    13.08  14.10  14.78  15.46  ...    NaN    NaN    NaN    NaN\n",
              "2010-09-01    26.15  22.19  14.82  16.99  ...    NaN    NaN    NaN    NaN\n",
              "2010-10-01    16.29  13.79  12.78    NaN  ...    NaN    NaN    NaN    NaN\n",
              "2010-11-01    13.68  15.56    NaN    NaN  ...    NaN    NaN    NaN    NaN\n",
              "2010-12-01    11.00    NaN    NaN    NaN  ...    NaN    NaN    NaN    NaN\n",
              "\n",
              "[13 rows x 13 columns]"
            ]
          },
          "metadata": {},
          "execution_count": 62
        }
      ]
    },
    {
      "cell_type": "markdown",
      "metadata": {
        "id": "-3B9jI1AJjmN"
      },
      "source": [
        "Observation:\n",
        "* The above table shows the average amount spent by the group of customers over the period of time.\n",
        "\n",
        "* ex: For the group of customers of Jan'2011 they initially spent 16.85 but after one month they spent 21.67 higher than the previous, then they spend 16.25 after two months and so on."
      ]
    },
    {
      "cell_type": "code",
      "metadata": {
        "colab": {
          "base_uri": "https://localhost:8080/",
          "height": 515
        },
        "id": "7fbNG6ZHJhMt",
        "outputId": "606b91e2-0df2-45b8-9d05-182a503cd5b6"
      },
      "source": [
        "#Build the heatmap or pictorial representation of above table\n",
        "\n",
        "amount_cohort.index = pd.to_datetime(amount_cohort.index).date\n",
        "plt.figure(figsize=(15, 8))\n",
        "plt.title('Average Spending Over Time', size=15)\n",
        "sns.heatmap(data = amount_cohort, annot = True, cmap=\"summer_r\")\n",
        "plt.show()"
      ],
      "execution_count": 63,
      "outputs": [
        {
          "output_type": "display_data",
          "data": {
            "image/png": "[encoded data removed]",
            "text/plain": [
              "<Figure size 1080x576 with 2 Axes>"
            ]
          },
          "metadata": {
            "needs_background": "light"
          }
        }
      ]
    },
    {
      "cell_type": "markdown",
      "metadata": {
        "id": "KwRYEqWrKPIS"
      },
      "source": [
        "### 2. RFM Analysis"
      ]
    },
    {
      "cell_type": "markdown",
      "metadata": {
        "id": "lzwoYIjFKTjA"
      },
      "source": [
        "* Recency: How much time has elapsed since a customer’s last activity or transaction with the brand? Activity is usually a purchase, although variations are sometimes used, e.g., the last visit to a website or use of a mobile app. In most cases, the more recently a customer has interacted or transacted with a brand, the more likely that customer will be responsive to communications from the brand.\n",
        "* Frequency: How often has a customer transacted or interacted with the brand during a particular period of time? Clearly, customers with frequent activities are more engaged, and probably more loyal, than customers who rarely do so. And one-time-only customers are in a class of their own.\n",
        "* Monetary: Also referred to as “monetary value,” this factor reflects how much a customer has spent with the brand during a particular period of time. Big spenders should usually be treated differently than customers who spend little. Looking at monetary divided by frequency indicates the average purchase amount – an important secondary factor to consider when segmenting customers."
      ]
    },
    {
      "cell_type": "code",
      "metadata": {
        "colab": {
          "base_uri": "https://localhost:8080/",
          "height": 206
        },
        "id": "Uwm9z2sdKCk0",
        "outputId": "d282c34e-c6ec-45bb-9662-dfb64b2c2c0d"
      },
      "source": [
        "# copying the data in other df\n",
        "df_rfm = df.copy()\n",
        "# keeping only desired columns\n",
        "df_rfm = df_rfm.iloc[:,:9]\n",
        "df_rfm.head()"
      ],
      "execution_count": 64,
      "outputs": [
        {
          "output_type": "execute_result",
          "data": {
            "text/html": [
              "<div>\n",
              "<style scoped>\n",
              "    .dataframe tbody tr th:only-of-type {\n",
              "        vertical-align: middle;\n",
              "    }\n",
              "\n",
              "    .dataframe tbody tr th {\n",
              "        vertical-align: top;\n",
              "    }\n",
              "\n",
              "    .dataframe thead th {\n",
              "        text-align: right;\n",
              "    }\n",
              "</style>\n",
              "<table border=\"1\" class=\"dataframe\">\n",
              "  <thead>\n",
              "    <tr style=\"text-align: right;\">\n",
              "      <th></th>\n",
              "      <th>Invoice</th>\n",
              "      <th>StockCode</th>\n",
              "      <th>Description</th>\n",
              "      <th>Quantity</th>\n",
              "      <th>InvoiceDate</th>\n",
              "      <th>Price</th>\n",
              "      <th>Customer ID</th>\n",
              "      <th>Country</th>\n",
              "      <th>Amount</th>\n",
              "    </tr>\n",
              "  </thead>\n",
              "  <tbody>\n",
              "    <tr>\n",
              "      <th>0</th>\n",
              "      <td>489434</td>\n",
              "      <td>85048</td>\n",
              "      <td>15CM CHRISTMAS GLASS BALL 20 LIGHTS</td>\n",
              "      <td>12</td>\n",
              "      <td>2009-12-01 07:45:00</td>\n",
              "      <td>6.95</td>\n",
              "      <td>13085.0</td>\n",
              "      <td>United Kingdom</td>\n",
              "      <td>83.4</td>\n",
              "    </tr>\n",
              "    <tr>\n",
              "      <th>1</th>\n",
              "      <td>489434</td>\n",
              "      <td>79323P</td>\n",
              "      <td>PINK CHERRY LIGHTS</td>\n",
              "      <td>12</td>\n",
              "      <td>2009-12-01 07:45:00</td>\n",
              "      <td>6.75</td>\n",
              "      <td>13085.0</td>\n",
              "      <td>United Kingdom</td>\n",
              "      <td>81.0</td>\n",
              "    </tr>\n",
              "    <tr>\n",
              "      <th>2</th>\n",
              "      <td>489434</td>\n",
              "      <td>79323W</td>\n",
              "      <td>WHITE CHERRY LIGHTS</td>\n",
              "      <td>12</td>\n",
              "      <td>2009-12-01 07:45:00</td>\n",
              "      <td>6.75</td>\n",
              "      <td>13085.0</td>\n",
              "      <td>United Kingdom</td>\n",
              "      <td>81.0</td>\n",
              "    </tr>\n",
              "    <tr>\n",
              "      <th>3</th>\n",
              "      <td>489434</td>\n",
              "      <td>22041</td>\n",
              "      <td>RECORD FRAME 7\" SINGLE SIZE</td>\n",
              "      <td>48</td>\n",
              "      <td>2009-12-01 07:45:00</td>\n",
              "      <td>2.10</td>\n",
              "      <td>13085.0</td>\n",
              "      <td>United Kingdom</td>\n",
              "      <td>100.8</td>\n",
              "    </tr>\n",
              "    <tr>\n",
              "      <th>4</th>\n",
              "      <td>489434</td>\n",
              "      <td>21232</td>\n",
              "      <td>STRAWBERRY CERAMIC TRINKET BOX</td>\n",
              "      <td>24</td>\n",
              "      <td>2009-12-01 07:45:00</td>\n",
              "      <td>1.25</td>\n",
              "      <td>13085.0</td>\n",
              "      <td>United Kingdom</td>\n",
              "      <td>30.0</td>\n",
              "    </tr>\n",
              "  </tbody>\n",
              "</table>\n",
              "</div>"
            ],
            "text/plain": [
              "  Invoice StockCode  ...         Country  Amount\n",
              "0  489434     85048  ...  United Kingdom    83.4\n",
              "1  489434    79323P  ...  United Kingdom    81.0\n",
              "2  489434    79323W  ...  United Kingdom    81.0\n",
              "3  489434     22041  ...  United Kingdom   100.8\n",
              "4  489434     21232  ...  United Kingdom    30.0\n",
              "\n",
              "[5 rows x 9 columns]"
            ]
          },
          "metadata": {},
          "execution_count": 64
        }
      ]
    },
    {
      "cell_type": "code",
      "metadata": {
        "colab": {
          "base_uri": "https://localhost:8080/",
          "height": 206
        },
        "id": "MUIjUvSEKZiu",
        "outputId": "8593693a-646f-43ad-d657-33af0138fc1d"
      },
      "source": [
        "# extracting the RECENCY\n",
        "\n",
        "recency = pd.DataFrame(df_rfm.groupby('Customer ID')['InvoiceDate'].max().reset_index())\n",
        "recency['InvoiceDate'] = pd.to_datetime(recency['InvoiceDate']).dt.date\n",
        "recency['MaxDate'] = recency['InvoiceDate'].max()\n",
        "recency['recency'] = (recency['MaxDate'] - recency['InvoiceDate']).dt.days + 1\n",
        "recency = recency[['Customer ID','recency']]\n",
        "recency.head()"
      ],
      "execution_count": 65,
      "outputs": [
        {
          "output_type": "execute_result",
          "data": {
            "text/html": [
              "<div>\n",
              "<style scoped>\n",
              "    .dataframe tbody tr th:only-of-type {\n",
              "        vertical-align: middle;\n",
              "    }\n",
              "\n",
              "    .dataframe tbody tr th {\n",
              "        vertical-align: top;\n",
              "    }\n",
              "\n",
              "    .dataframe thead th {\n",
              "        text-align: right;\n",
              "    }\n",
              "</style>\n",
              "<table border=\"1\" class=\"dataframe\">\n",
              "  <thead>\n",
              "    <tr style=\"text-align: right;\">\n",
              "      <th></th>\n",
              "      <th>Customer ID</th>\n",
              "      <th>recency</th>\n",
              "    </tr>\n",
              "  </thead>\n",
              "  <tbody>\n",
              "    <tr>\n",
              "      <th>0</th>\n",
              "      <td>12346.0</td>\n",
              "      <td>165</td>\n",
              "    </tr>\n",
              "    <tr>\n",
              "      <th>1</th>\n",
              "      <td>12347.0</td>\n",
              "      <td>3</td>\n",
              "    </tr>\n",
              "    <tr>\n",
              "      <th>2</th>\n",
              "      <td>12348.0</td>\n",
              "      <td>74</td>\n",
              "    </tr>\n",
              "    <tr>\n",
              "      <th>3</th>\n",
              "      <td>12349.0</td>\n",
              "      <td>43</td>\n",
              "    </tr>\n",
              "    <tr>\n",
              "      <th>4</th>\n",
              "      <td>12351.0</td>\n",
              "      <td>11</td>\n",
              "    </tr>\n",
              "  </tbody>\n",
              "</table>\n",
              "</div>"
            ],
            "text/plain": [
              "   Customer ID  recency\n",
              "0      12346.0      165\n",
              "1      12347.0        3\n",
              "2      12348.0       74\n",
              "3      12349.0       43\n",
              "4      12351.0       11"
            ]
          },
          "metadata": {},
          "execution_count": 65
        }
      ]
    },
    {
      "cell_type": "code",
      "metadata": {
        "colab": {
          "base_uri": "https://localhost:8080/",
          "height": 206
        },
        "id": "FUVZ5EVqKbw9",
        "outputId": "b14afdf0-1ecd-40d3-f344-ee78c231fda5"
      },
      "source": [
        "# extracting the FREQUENCY\n",
        "\n",
        "frequency = pd.DataFrame(df_rfm.groupby('Customer ID')['Invoice'].nunique().reset_index())\n",
        "frequency.columns = ['fCustomerID','frequency']\n",
        "frequency.head()"
      ],
      "execution_count": 66,
      "outputs": [
        {
          "output_type": "execute_result",
          "data": {
            "text/html": [
              "<div>\n",
              "<style scoped>\n",
              "    .dataframe tbody tr th:only-of-type {\n",
              "        vertical-align: middle;\n",
              "    }\n",
              "\n",
              "    .dataframe tbody tr th {\n",
              "        vertical-align: top;\n",
              "    }\n",
              "\n",
              "    .dataframe thead th {\n",
              "        text-align: right;\n",
              "    }\n",
              "</style>\n",
              "<table border=\"1\" class=\"dataframe\">\n",
              "  <thead>\n",
              "    <tr style=\"text-align: right;\">\n",
              "      <th></th>\n",
              "      <th>fCustomerID</th>\n",
              "      <th>frequency</th>\n",
              "    </tr>\n",
              "  </thead>\n",
              "  <tbody>\n",
              "    <tr>\n",
              "      <th>0</th>\n",
              "      <td>12346.0</td>\n",
              "      <td>11</td>\n",
              "    </tr>\n",
              "    <tr>\n",
              "      <th>1</th>\n",
              "      <td>12347.0</td>\n",
              "      <td>2</td>\n",
              "    </tr>\n",
              "    <tr>\n",
              "      <th>2</th>\n",
              "      <td>12348.0</td>\n",
              "      <td>1</td>\n",
              "    </tr>\n",
              "    <tr>\n",
              "      <th>3</th>\n",
              "      <td>12349.0</td>\n",
              "      <td>3</td>\n",
              "    </tr>\n",
              "    <tr>\n",
              "      <th>4</th>\n",
              "      <td>12351.0</td>\n",
              "      <td>1</td>\n",
              "    </tr>\n",
              "  </tbody>\n",
              "</table>\n",
              "</div>"
            ],
            "text/plain": [
              "   fCustomerID  frequency\n",
              "0      12346.0         11\n",
              "1      12347.0          2\n",
              "2      12348.0          1\n",
              "3      12349.0          3\n",
              "4      12351.0          1"
            ]
          },
          "metadata": {},
          "execution_count": 66
        }
      ]
    },
    {
      "cell_type": "code",
      "metadata": {
        "colab": {
          "base_uri": "https://localhost:8080/",
          "height": 206
        },
        "id": "67zEL_NEKitE",
        "outputId": "86728e2b-59cc-4634-8264-9430e2ef1c03"
      },
      "source": [
        "# extracting the MONETARY\n",
        "\n",
        "monetary = pd.DataFrame(df_rfm.groupby('Customer ID')['Amount'].sum().reset_index())\n",
        "monetary.columns = ['mCustomerID','monetary']\n",
        "monetary.head()"
      ],
      "execution_count": 67,
      "outputs": [
        {
          "output_type": "execute_result",
          "data": {
            "text/html": [
              "<div>\n",
              "<style scoped>\n",
              "    .dataframe tbody tr th:only-of-type {\n",
              "        vertical-align: middle;\n",
              "    }\n",
              "\n",
              "    .dataframe tbody tr th {\n",
              "        vertical-align: top;\n",
              "    }\n",
              "\n",
              "    .dataframe thead th {\n",
              "        text-align: right;\n",
              "    }\n",
              "</style>\n",
              "<table border=\"1\" class=\"dataframe\">\n",
              "  <thead>\n",
              "    <tr style=\"text-align: right;\">\n",
              "      <th></th>\n",
              "      <th>mCustomerID</th>\n",
              "      <th>monetary</th>\n",
              "    </tr>\n",
              "  </thead>\n",
              "  <tbody>\n",
              "    <tr>\n",
              "      <th>0</th>\n",
              "      <td>12346.0</td>\n",
              "      <td>372.86</td>\n",
              "    </tr>\n",
              "    <tr>\n",
              "      <th>1</th>\n",
              "      <td>12347.0</td>\n",
              "      <td>1323.32</td>\n",
              "    </tr>\n",
              "    <tr>\n",
              "      <th>2</th>\n",
              "      <td>12348.0</td>\n",
              "      <td>222.16</td>\n",
              "    </tr>\n",
              "    <tr>\n",
              "      <th>3</th>\n",
              "      <td>12349.0</td>\n",
              "      <td>2671.14</td>\n",
              "    </tr>\n",
              "    <tr>\n",
              "      <th>4</th>\n",
              "      <td>12351.0</td>\n",
              "      <td>300.93</td>\n",
              "    </tr>\n",
              "  </tbody>\n",
              "</table>\n",
              "</div>"
            ],
            "text/plain": [
              "   mCustomerID  monetary\n",
              "0      12346.0    372.86\n",
              "1      12347.0   1323.32\n",
              "2      12348.0    222.16\n",
              "3      12349.0   2671.14\n",
              "4      12351.0    300.93"
            ]
          },
          "metadata": {},
          "execution_count": 67
        }
      ]
    },
    {
      "cell_type": "code",
      "metadata": {
        "colab": {
          "base_uri": "https://localhost:8080/",
          "height": 363
        },
        "id": "L507x9g5KmjE",
        "outputId": "0a00dcc3-6cf0-4227-8f4b-1d6f3b0cc9c2"
      },
      "source": [
        "# combining the three into one table\n",
        "\n",
        "rfm = pd.concat([recency,frequency,monetary], axis=1)\n",
        "rfm.drop(['fCustomerID','mCustomerID'], axis=1, inplace=True)\n",
        "rfm.head(10)"
      ],
      "execution_count": 68,
      "outputs": [
        {
          "output_type": "execute_result",
          "data": {
            "text/html": [
              "<div>\n",
              "<style scoped>\n",
              "    .dataframe tbody tr th:only-of-type {\n",
              "        vertical-align: middle;\n",
              "    }\n",
              "\n",
              "    .dataframe tbody tr th {\n",
              "        vertical-align: top;\n",
              "    }\n",
              "\n",
              "    .dataframe thead th {\n",
              "        text-align: right;\n",
              "    }\n",
              "</style>\n",
              "<table border=\"1\" class=\"dataframe\">\n",
              "  <thead>\n",
              "    <tr style=\"text-align: right;\">\n",
              "      <th></th>\n",
              "      <th>Customer ID</th>\n",
              "      <th>recency</th>\n",
              "      <th>frequency</th>\n",
              "      <th>monetary</th>\n",
              "    </tr>\n",
              "  </thead>\n",
              "  <tbody>\n",
              "    <tr>\n",
              "      <th>0</th>\n",
              "      <td>12346.0</td>\n",
              "      <td>165</td>\n",
              "      <td>11</td>\n",
              "      <td>372.86</td>\n",
              "    </tr>\n",
              "    <tr>\n",
              "      <th>1</th>\n",
              "      <td>12347.0</td>\n",
              "      <td>3</td>\n",
              "      <td>2</td>\n",
              "      <td>1323.32</td>\n",
              "    </tr>\n",
              "    <tr>\n",
              "      <th>2</th>\n",
              "      <td>12348.0</td>\n",
              "      <td>74</td>\n",
              "      <td>1</td>\n",
              "      <td>222.16</td>\n",
              "    </tr>\n",
              "    <tr>\n",
              "      <th>3</th>\n",
              "      <td>12349.0</td>\n",
              "      <td>43</td>\n",
              "      <td>3</td>\n",
              "      <td>2671.14</td>\n",
              "    </tr>\n",
              "    <tr>\n",
              "      <th>4</th>\n",
              "      <td>12351.0</td>\n",
              "      <td>11</td>\n",
              "      <td>1</td>\n",
              "      <td>300.93</td>\n",
              "    </tr>\n",
              "    <tr>\n",
              "      <th>5</th>\n",
              "      <td>12352.0</td>\n",
              "      <td>11</td>\n",
              "      <td>2</td>\n",
              "      <td>343.80</td>\n",
              "    </tr>\n",
              "    <tr>\n",
              "      <th>6</th>\n",
              "      <td>12353.0</td>\n",
              "      <td>44</td>\n",
              "      <td>1</td>\n",
              "      <td>317.76</td>\n",
              "    </tr>\n",
              "    <tr>\n",
              "      <th>7</th>\n",
              "      <td>12355.0</td>\n",
              "      <td>203</td>\n",
              "      <td>1</td>\n",
              "      <td>488.21</td>\n",
              "    </tr>\n",
              "    <tr>\n",
              "      <th>8</th>\n",
              "      <td>12356.0</td>\n",
              "      <td>16</td>\n",
              "      <td>3</td>\n",
              "      <td>3560.30</td>\n",
              "    </tr>\n",
              "    <tr>\n",
              "      <th>9</th>\n",
              "      <td>12357.0</td>\n",
              "      <td>24</td>\n",
              "      <td>2</td>\n",
              "      <td>12079.99</td>\n",
              "    </tr>\n",
              "  </tbody>\n",
              "</table>\n",
              "</div>"
            ],
            "text/plain": [
              "   Customer ID  recency  frequency  monetary\n",
              "0      12346.0      165         11    372.86\n",
              "1      12347.0        3          2   1323.32\n",
              "2      12348.0       74          1    222.16\n",
              "3      12349.0       43          3   2671.14\n",
              "4      12351.0       11          1    300.93\n",
              "5      12352.0       11          2    343.80\n",
              "6      12353.0       44          1    317.76\n",
              "7      12355.0      203          1    488.21\n",
              "8      12356.0       16          3   3560.30\n",
              "9      12357.0       24          2  12079.99"
            ]
          },
          "metadata": {},
          "execution_count": 68
        }
      ]
    },
    {
      "cell_type": "markdown",
      "metadata": {
        "id": "Pvw35F1JKthA"
      },
      "source": [
        ""
      ]
    },
    {
      "cell_type": "code",
      "metadata": {
        "colab": {
          "base_uri": "https://localhost:8080/",
          "height": 206
        },
        "id": "dqvnK3-FKpte",
        "outputId": "2f319cb9-af13-4ccc-cbd2-3fe2d75dd2fa"
      },
      "source": [
        "# extracting SPEED OF VISIT\n",
        "\n",
        "customer_list = list(df_rfm[\"Customer ID\"].unique())\n",
        "c = []\n",
        "v = []\n",
        "for ids in customer_list:\n",
        "    sov = df_rfm[df_rfm['Customer ID']==ids].groupby('InvoiceDate')['Invoice'].count().reset_index()\n",
        "    if sov.shape[0]>3:\n",
        "        sov['InvoiceDate1'] = sov['InvoiceDate'].shift(1)\n",
        "        sov['Difference'] = (sov['InvoiceDate']-sov['InvoiceDate1']).dt.days\n",
        "        mean_days = round(sov.Difference.mean(),0)\n",
        "        c.append(ids)\n",
        "        v.append(mean_days)\n",
        "    else:\n",
        "        c.append(ids)\n",
        "        v.append(0)\n",
        "speed_of_visit = pd.DataFrame()\n",
        "speed_of_visit['sCustomerID'] = c\n",
        "speed_of_visit['sov'] = v\n",
        "speed_of_visit = speed_of_visit.sort_values('sCustomerID').reset_index(drop=True)\n",
        "speed_of_visit.head()"
      ],
      "execution_count": 69,
      "outputs": [
        {
          "output_type": "execute_result",
          "data": {
            "text/html": [
              "<div>\n",
              "<style scoped>\n",
              "    .dataframe tbody tr th:only-of-type {\n",
              "        vertical-align: middle;\n",
              "    }\n",
              "\n",
              "    .dataframe tbody tr th {\n",
              "        vertical-align: top;\n",
              "    }\n",
              "\n",
              "    .dataframe thead th {\n",
              "        text-align: right;\n",
              "    }\n",
              "</style>\n",
              "<table border=\"1\" class=\"dataframe\">\n",
              "  <thead>\n",
              "    <tr style=\"text-align: right;\">\n",
              "      <th></th>\n",
              "      <th>sCustomerID</th>\n",
              "      <th>sov</th>\n",
              "    </tr>\n",
              "  </thead>\n",
              "  <tbody>\n",
              "    <tr>\n",
              "      <th>0</th>\n",
              "      <td>12346.0</td>\n",
              "      <td>19.0</td>\n",
              "    </tr>\n",
              "    <tr>\n",
              "      <th>1</th>\n",
              "      <td>12347.0</td>\n",
              "      <td>0.0</td>\n",
              "    </tr>\n",
              "    <tr>\n",
              "      <th>2</th>\n",
              "      <td>12348.0</td>\n",
              "      <td>0.0</td>\n",
              "    </tr>\n",
              "    <tr>\n",
              "      <th>3</th>\n",
              "      <td>12349.0</td>\n",
              "      <td>0.0</td>\n",
              "    </tr>\n",
              "    <tr>\n",
              "      <th>4</th>\n",
              "      <td>12351.0</td>\n",
              "      <td>0.0</td>\n",
              "    </tr>\n",
              "  </tbody>\n",
              "</table>\n",
              "</div>"
            ],
            "text/plain": [
              "   sCustomerID   sov\n",
              "0      12346.0  19.0\n",
              "1      12347.0   0.0\n",
              "2      12348.0   0.0\n",
              "3      12349.0   0.0\n",
              "4      12351.0   0.0"
            ]
          },
          "metadata": {},
          "execution_count": 69
        }
      ]
    },
    {
      "cell_type": "code",
      "metadata": {
        "colab": {
          "base_uri": "https://localhost:8080/",
          "height": 585
        },
        "id": "VFcfqmuCKuE6",
        "outputId": "9bc08b63-688b-433d-d178-6e49db42c639"
      },
      "source": [
        "# checking the overall highlights. The number of distinct customers are 4334\n",
        "rfm.info()# checking the summary\n",
        "rfm.describe(percentiles=[0.25,0.5,0.75,0.9,0.95,0.99])"
      ],
      "execution_count": 70,
      "outputs": [
        {
          "output_type": "stream",
          "name": "stdout",
          "text": [
            "<class 'pandas.core.frame.DataFrame'>\n",
            "RangeIndex: 4300 entries, 0 to 4299\n",
            "Data columns (total 4 columns):\n",
            " #   Column       Non-Null Count  Dtype  \n",
            "---  ------       --------------  -----  \n",
            " 0   Customer ID  4300 non-null   float64\n",
            " 1   recency      4300 non-null   int64  \n",
            " 2   frequency    4300 non-null   int64  \n",
            " 3   monetary     4300 non-null   float64\n",
            "dtypes: float64(2), int64(2)\n",
            "memory usage: 134.5 KB\n"
          ]
        },
        {
          "output_type": "execute_result",
          "data": {
            "text/html": [
              "<div>\n",
              "<style scoped>\n",
              "    .dataframe tbody tr th:only-of-type {\n",
              "        vertical-align: middle;\n",
              "    }\n",
              "\n",
              "    .dataframe tbody tr th {\n",
              "        vertical-align: top;\n",
              "    }\n",
              "\n",
              "    .dataframe thead th {\n",
              "        text-align: right;\n",
              "    }\n",
              "</style>\n",
              "<table border=\"1\" class=\"dataframe\">\n",
              "  <thead>\n",
              "    <tr style=\"text-align: right;\">\n",
              "      <th></th>\n",
              "      <th>Customer ID</th>\n",
              "      <th>recency</th>\n",
              "      <th>frequency</th>\n",
              "      <th>monetary</th>\n",
              "    </tr>\n",
              "  </thead>\n",
              "  <tbody>\n",
              "    <tr>\n",
              "      <th>count</th>\n",
              "      <td>4300.000000</td>\n",
              "      <td>4300.000000</td>\n",
              "      <td>4300.000000</td>\n",
              "      <td>4300.000000</td>\n",
              "    </tr>\n",
              "    <tr>\n",
              "      <th>mean</th>\n",
              "      <td>15350.424651</td>\n",
              "      <td>91.268837</td>\n",
              "      <td>4.436047</td>\n",
              "      <td>2023.024154</td>\n",
              "    </tr>\n",
              "    <tr>\n",
              "      <th>std</th>\n",
              "      <td>1702.032144</td>\n",
              "      <td>97.098918</td>\n",
              "      <td>7.997083</td>\n",
              "      <td>8828.333816</td>\n",
              "    </tr>\n",
              "    <tr>\n",
              "      <th>min</th>\n",
              "      <td>12346.000000</td>\n",
              "      <td>1.000000</td>\n",
              "      <td>1.000000</td>\n",
              "      <td>0.000000</td>\n",
              "    </tr>\n",
              "    <tr>\n",
              "      <th>25%</th>\n",
              "      <td>13882.500000</td>\n",
              "      <td>18.000000</td>\n",
              "      <td>1.000000</td>\n",
              "      <td>306.525000</td>\n",
              "    </tr>\n",
              "    <tr>\n",
              "      <th>50%</th>\n",
              "      <td>15352.500000</td>\n",
              "      <td>52.000000</td>\n",
              "      <td>2.000000</td>\n",
              "      <td>700.405000</td>\n",
              "    </tr>\n",
              "    <tr>\n",
              "      <th>75%</th>\n",
              "      <td>16835.250000</td>\n",
              "      <td>136.000000</td>\n",
              "      <td>5.000000</td>\n",
              "      <td>1705.540000</td>\n",
              "    </tr>\n",
              "    <tr>\n",
              "      <th>90%</th>\n",
              "      <td>17692.200000</td>\n",
              "      <td>255.000000</td>\n",
              "      <td>9.000000</td>\n",
              "      <td>3735.697000</td>\n",
              "    </tr>\n",
              "    <tr>\n",
              "      <th>95%</th>\n",
              "      <td>17988.050000</td>\n",
              "      <td>304.050000</td>\n",
              "      <td>13.000000</td>\n",
              "      <td>6123.636500</td>\n",
              "    </tr>\n",
              "    <tr>\n",
              "      <th>99%</th>\n",
              "      <td>18231.030000</td>\n",
              "      <td>368.000000</td>\n",
              "      <td>31.010000</td>\n",
              "      <td>19960.795400</td>\n",
              "    </tr>\n",
              "    <tr>\n",
              "      <th>max</th>\n",
              "      <td>18287.000000</td>\n",
              "      <td>374.000000</td>\n",
              "      <td>187.000000</td>\n",
              "      <td>349164.350000</td>\n",
              "    </tr>\n",
              "  </tbody>\n",
              "</table>\n",
              "</div>"
            ],
            "text/plain": [
              "        Customer ID      recency    frequency       monetary\n",
              "count   4300.000000  4300.000000  4300.000000    4300.000000\n",
              "mean   15350.424651    91.268837     4.436047    2023.024154\n",
              "std     1702.032144    97.098918     7.997083    8828.333816\n",
              "min    12346.000000     1.000000     1.000000       0.000000\n",
              "25%    13882.500000    18.000000     1.000000     306.525000\n",
              "50%    15352.500000    52.000000     2.000000     700.405000\n",
              "75%    16835.250000   136.000000     5.000000    1705.540000\n",
              "90%    17692.200000   255.000000     9.000000    3735.697000\n",
              "95%    17988.050000   304.050000    13.000000    6123.636500\n",
              "99%    18231.030000   368.000000    31.010000   19960.795400\n",
              "max    18287.000000   374.000000   187.000000  349164.350000"
            ]
          },
          "metadata": {},
          "execution_count": 70
        }
      ]
    },
    {
      "cell_type": "markdown",
      "metadata": {
        "id": "nxVyRwW4LTci"
      },
      "source": [
        "Approach:\n",
        "* As we got RFM for each customer, now the objective is to label or categorize the customer into different category based upon their value.\n",
        "* For this first we categorize the R,F,M values into the labels 1-5. 1 being the low and 5 being the higest. Here we make cuts at 25%, 50%, 75% and 90% to distribute them into 5 categories.\n",
        "* After that we sum these values for each row and label the column 'score' which have values range from 3-15.\n",
        "* After that we make cuts on 'score' at 25%, 50%, 75% and 90% to categorize the customers into Bad, Bronze, Silver, Gold and Platinum.\n",
        "* These cuts can be done in many ways like by discussion with the client, according to expert advise, business understanding or quartiles cuts(which we did in this) etc."
      ]
    },
    {
      "cell_type": "code",
      "metadata": {
        "id": "jcJfypKgK_On"
      },
      "source": [
        "# assigning the numbers to RFM values. The better the RFM value higher the number\n",
        "# note that this process is reverse for R score as lower the value the better it is\n",
        "\n",
        "rfm['recency_score'] = pd.cut(rfm['recency'], bins=[0,18,51,143,264,375], labels=[5,4,3,2,1])\n",
        "rfm['recency_score'] = rfm['recency_score'].astype('int')\n",
        "rfm['frequency_score'] = pd.cut(rfm['frequency'], bins=[0,1,2,5,9,210], labels=[1,2,3,4,5])\n",
        "rfm['frequency_score'] = rfm['frequency_score'].astype('int')\n",
        "rfm['monetary_score'] = pd.cut(rfm['monetary'], bins=[-1,306,667,1650,3614,290000], labels=[1,2,3,4,5])\n",
        "\n",
        "rfm.dropna(inplace=True)"
      ],
      "execution_count": 71,
      "outputs": []
    },
    {
      "cell_type": "code",
      "metadata": {
        "id": "QPFrpQtEMVM_"
      },
      "source": [
        "rfm['monetary_score'] = rfm['monetary_score'].astype('int')"
      ],
      "execution_count": 72,
      "outputs": []
    },
    {
      "cell_type": "code",
      "metadata": {
        "colab": {
          "base_uri": "https://localhost:8080/"
        },
        "id": "UnaFT2aULCJS",
        "outputId": "450547b4-803a-4436-8c9b-16078aa69188"
      },
      "source": [
        "rfm.info()"
      ],
      "execution_count": 73,
      "outputs": [
        {
          "output_type": "stream",
          "name": "stdout",
          "text": [
            "<class 'pandas.core.frame.DataFrame'>\n",
            "Int64Index: 4299 entries, 0 to 4299\n",
            "Data columns (total 7 columns):\n",
            " #   Column           Non-Null Count  Dtype  \n",
            "---  ------           --------------  -----  \n",
            " 0   Customer ID      4299 non-null   float64\n",
            " 1   recency          4299 non-null   int64  \n",
            " 2   frequency        4299 non-null   int64  \n",
            " 3   monetary         4299 non-null   float64\n",
            " 4   recency_score    4299 non-null   int64  \n",
            " 5   frequency_score  4299 non-null   int64  \n",
            " 6   monetary_score   4299 non-null   int64  \n",
            "dtypes: float64(2), int64(5)\n",
            "memory usage: 268.7 KB\n"
          ]
        }
      ]
    },
    {
      "cell_type": "code",
      "metadata": {
        "colab": {
          "base_uri": "https://localhost:8080/",
          "height": 206
        },
        "id": "ymnqnG5PLEjh",
        "outputId": "75ecf50a-4fbf-4438-e4a1-f12212559707"
      },
      "source": [
        "# summing the R,F,M score to make a one single column that has value range from 3-15\n",
        "\n",
        "def score_rfm(x) : return (x['recency_score']) + (x['frequency_score']) + (x['monetary_score'])\n",
        "rfm['score'] = rfm.apply(score_rfm,axis=1 )\n",
        "rfm.head()"
      ],
      "execution_count": 74,
      "outputs": [
        {
          "output_type": "execute_result",
          "data": {
            "text/html": [
              "<div>\n",
              "<style scoped>\n",
              "    .dataframe tbody tr th:only-of-type {\n",
              "        vertical-align: middle;\n",
              "    }\n",
              "\n",
              "    .dataframe tbody tr th {\n",
              "        vertical-align: top;\n",
              "    }\n",
              "\n",
              "    .dataframe thead th {\n",
              "        text-align: right;\n",
              "    }\n",
              "</style>\n",
              "<table border=\"1\" class=\"dataframe\">\n",
              "  <thead>\n",
              "    <tr style=\"text-align: right;\">\n",
              "      <th></th>\n",
              "      <th>Customer ID</th>\n",
              "      <th>recency</th>\n",
              "      <th>frequency</th>\n",
              "      <th>monetary</th>\n",
              "      <th>recency_score</th>\n",
              "      <th>frequency_score</th>\n",
              "      <th>monetary_score</th>\n",
              "      <th>score</th>\n",
              "    </tr>\n",
              "  </thead>\n",
              "  <tbody>\n",
              "    <tr>\n",
              "      <th>0</th>\n",
              "      <td>12346.0</td>\n",
              "      <td>165</td>\n",
              "      <td>11</td>\n",
              "      <td>372.86</td>\n",
              "      <td>2</td>\n",
              "      <td>5</td>\n",
              "      <td>2</td>\n",
              "      <td>9.0</td>\n",
              "    </tr>\n",
              "    <tr>\n",
              "      <th>1</th>\n",
              "      <td>12347.0</td>\n",
              "      <td>3</td>\n",
              "      <td>2</td>\n",
              "      <td>1323.32</td>\n",
              "      <td>5</td>\n",
              "      <td>2</td>\n",
              "      <td>3</td>\n",
              "      <td>10.0</td>\n",
              "    </tr>\n",
              "    <tr>\n",
              "      <th>2</th>\n",
              "      <td>12348.0</td>\n",
              "      <td>74</td>\n",
              "      <td>1</td>\n",
              "      <td>222.16</td>\n",
              "      <td>3</td>\n",
              "      <td>1</td>\n",
              "      <td>1</td>\n",
              "      <td>5.0</td>\n",
              "    </tr>\n",
              "    <tr>\n",
              "      <th>3</th>\n",
              "      <td>12349.0</td>\n",
              "      <td>43</td>\n",
              "      <td>3</td>\n",
              "      <td>2671.14</td>\n",
              "      <td>4</td>\n",
              "      <td>3</td>\n",
              "      <td>4</td>\n",
              "      <td>11.0</td>\n",
              "    </tr>\n",
              "    <tr>\n",
              "      <th>4</th>\n",
              "      <td>12351.0</td>\n",
              "      <td>11</td>\n",
              "      <td>1</td>\n",
              "      <td>300.93</td>\n",
              "      <td>5</td>\n",
              "      <td>1</td>\n",
              "      <td>1</td>\n",
              "      <td>7.0</td>\n",
              "    </tr>\n",
              "  </tbody>\n",
              "</table>\n",
              "</div>"
            ],
            "text/plain": [
              "   Customer ID  recency  frequency  ...  frequency_score  monetary_score  score\n",
              "0      12346.0      165         11  ...                5               2    9.0\n",
              "1      12347.0        3          2  ...                2               3   10.0\n",
              "2      12348.0       74          1  ...                1               1    5.0\n",
              "3      12349.0       43          3  ...                3               4   11.0\n",
              "4      12351.0       11          1  ...                1               1    7.0\n",
              "\n",
              "[5 rows x 8 columns]"
            ]
          },
          "metadata": {},
          "execution_count": 74
        }
      ]
    },
    {
      "cell_type": "code",
      "metadata": {
        "colab": {
          "base_uri": "https://localhost:8080/"
        },
        "id": "4GMQ-XX_MZ4z",
        "outputId": "d83b92c8-b527-404f-fdf7-d13a3c8b1b34"
      },
      "source": [
        "rfm.score.describe(percentiles=[0.25,0.5,0.75,0.9,0.95,0.99])"
      ],
      "execution_count": 75,
      "outputs": [
        {
          "output_type": "execute_result",
          "data": {
            "text/plain": [
              "count    4299.000000\n",
              "mean        8.504769\n",
              "std         3.282023\n",
              "min         3.000000\n",
              "25%         6.000000\n",
              "50%         8.000000\n",
              "75%        11.000000\n",
              "90%        13.000000\n",
              "95%        14.000000\n",
              "99%        15.000000\n",
              "max        15.000000\n",
              "Name: score, dtype: float64"
            ]
          },
          "metadata": {},
          "execution_count": 75
        }
      ]
    },
    {
      "cell_type": "code",
      "metadata": {
        "colab": {
          "base_uri": "https://localhost:8080/",
          "height": 206
        },
        "id": "WJopdx9WMbQh",
        "outputId": "332f8c38-6b22-4783-c4a5-0c63c7a53d19"
      },
      "source": [
        "# assigning the customers into one of the category Bad, Bronze, Silver, Gold and Platinum based upon the score they get\n",
        "# we make cuts using percentiles. It can be done in many other ways\n",
        "\n",
        "rfm['customer_type'] = pd.cut(rfm['score'], bins=[0,6,8,11,13,16], labels=['Bad','Bronze','Silver','Gold','Platinum'])\n",
        "rfm.head()"
      ],
      "execution_count": 76,
      "outputs": [
        {
          "output_type": "execute_result",
          "data": {
            "text/html": [
              "<div>\n",
              "<style scoped>\n",
              "    .dataframe tbody tr th:only-of-type {\n",
              "        vertical-align: middle;\n",
              "    }\n",
              "\n",
              "    .dataframe tbody tr th {\n",
              "        vertical-align: top;\n",
              "    }\n",
              "\n",
              "    .dataframe thead th {\n",
              "        text-align: right;\n",
              "    }\n",
              "</style>\n",
              "<table border=\"1\" class=\"dataframe\">\n",
              "  <thead>\n",
              "    <tr style=\"text-align: right;\">\n",
              "      <th></th>\n",
              "      <th>Customer ID</th>\n",
              "      <th>recency</th>\n",
              "      <th>frequency</th>\n",
              "      <th>monetary</th>\n",
              "      <th>recency_score</th>\n",
              "      <th>frequency_score</th>\n",
              "      <th>monetary_score</th>\n",
              "      <th>score</th>\n",
              "      <th>customer_type</th>\n",
              "    </tr>\n",
              "  </thead>\n",
              "  <tbody>\n",
              "    <tr>\n",
              "      <th>0</th>\n",
              "      <td>12346.0</td>\n",
              "      <td>165</td>\n",
              "      <td>11</td>\n",
              "      <td>372.86</td>\n",
              "      <td>2</td>\n",
              "      <td>5</td>\n",
              "      <td>2</td>\n",
              "      <td>9.0</td>\n",
              "      <td>Silver</td>\n",
              "    </tr>\n",
              "    <tr>\n",
              "      <th>1</th>\n",
              "      <td>12347.0</td>\n",
              "      <td>3</td>\n",
              "      <td>2</td>\n",
              "      <td>1323.32</td>\n",
              "      <td>5</td>\n",
              "      <td>2</td>\n",
              "      <td>3</td>\n",
              "      <td>10.0</td>\n",
              "      <td>Silver</td>\n",
              "    </tr>\n",
              "    <tr>\n",
              "      <th>2</th>\n",
              "      <td>12348.0</td>\n",
              "      <td>74</td>\n",
              "      <td>1</td>\n",
              "      <td>222.16</td>\n",
              "      <td>3</td>\n",
              "      <td>1</td>\n",
              "      <td>1</td>\n",
              "      <td>5.0</td>\n",
              "      <td>Bad</td>\n",
              "    </tr>\n",
              "    <tr>\n",
              "      <th>3</th>\n",
              "      <td>12349.0</td>\n",
              "      <td>43</td>\n",
              "      <td>3</td>\n",
              "      <td>2671.14</td>\n",
              "      <td>4</td>\n",
              "      <td>3</td>\n",
              "      <td>4</td>\n",
              "      <td>11.0</td>\n",
              "      <td>Silver</td>\n",
              "    </tr>\n",
              "    <tr>\n",
              "      <th>4</th>\n",
              "      <td>12351.0</td>\n",
              "      <td>11</td>\n",
              "      <td>1</td>\n",
              "      <td>300.93</td>\n",
              "      <td>5</td>\n",
              "      <td>1</td>\n",
              "      <td>1</td>\n",
              "      <td>7.0</td>\n",
              "      <td>Bronze</td>\n",
              "    </tr>\n",
              "  </tbody>\n",
              "</table>\n",
              "</div>"
            ],
            "text/plain": [
              "   Customer ID  recency  frequency  ...  monetary_score  score  customer_type\n",
              "0      12346.0      165         11  ...               2    9.0         Silver\n",
              "1      12347.0        3          2  ...               3   10.0         Silver\n",
              "2      12348.0       74          1  ...               1    5.0            Bad\n",
              "3      12349.0       43          3  ...               4   11.0         Silver\n",
              "4      12351.0       11          1  ...               1    7.0         Bronze\n",
              "\n",
              "[5 rows x 9 columns]"
            ]
          },
          "metadata": {},
          "execution_count": 76
        }
      ]
    },
    {
      "cell_type": "code",
      "metadata": {
        "colab": {
          "base_uri": "https://localhost:8080/"
        },
        "id": "AiY5atN8MdMd",
        "outputId": "c0a99edc-cd25-4572-b936-bc88b91ecda9"
      },
      "source": [
        "round(rfm.customer_type.value_counts(normalize=True)*100,0)"
      ],
      "execution_count": 77,
      "outputs": [
        {
          "output_type": "execute_result",
          "data": {
            "text/plain": [
              "Bad         32.0\n",
              "Silver      28.0\n",
              "Bronze      20.0\n",
              "Gold        11.0\n",
              "Platinum     9.0\n",
              "Name: customer_type, dtype: float64"
            ]
          },
          "metadata": {},
          "execution_count": 77
        }
      ]
    },
    {
      "cell_type": "markdown",
      "metadata": {
        "id": "Ex1jdKZrMmib"
      },
      "source": [
        "Observations:\n",
        "* We see that around 9% of customers are in platinum category and these are the customers who score is best in all the three RFM. Combining with the gold 20% customers are those who are genuine and honest with the business.\n",
        "* Silver category are those where the business can target to convert them into gold category by rolling out offers and new strategies for them.\n",
        "* Bad category are those who are less concerned for the business and does not put much efforts to bring them back."
      ]
    },
    {
      "cell_type": "code",
      "metadata": {
        "colab": {
          "base_uri": "https://localhost:8080/",
          "height": 238
        },
        "id": "W-eYXO5YMfjY",
        "outputId": "751978bb-976d-4227-d8fc-a851aea0b645"
      },
      "source": [
        "# looking the RFM value for each of the category\n",
        "rfm.groupby('customer_type')['recency','frequency','monetary'].mean().round(0)\n"
      ],
      "execution_count": 78,
      "outputs": [
        {
          "output_type": "execute_result",
          "data": {
            "text/html": [
              "<div>\n",
              "<style scoped>\n",
              "    .dataframe tbody tr th:only-of-type {\n",
              "        vertical-align: middle;\n",
              "    }\n",
              "\n",
              "    .dataframe tbody tr th {\n",
              "        vertical-align: top;\n",
              "    }\n",
              "\n",
              "    .dataframe thead th {\n",
              "        text-align: right;\n",
              "    }\n",
              "</style>\n",
              "<table border=\"1\" class=\"dataframe\">\n",
              "  <thead>\n",
              "    <tr style=\"text-align: right;\">\n",
              "      <th></th>\n",
              "      <th>recency</th>\n",
              "      <th>frequency</th>\n",
              "      <th>monetary</th>\n",
              "    </tr>\n",
              "    <tr>\n",
              "      <th>customer_type</th>\n",
              "      <th></th>\n",
              "      <th></th>\n",
              "      <th></th>\n",
              "    </tr>\n",
              "  </thead>\n",
              "  <tbody>\n",
              "    <tr>\n",
              "      <th>Bad</th>\n",
              "      <td>184.0</td>\n",
              "      <td>1.0</td>\n",
              "      <td>277.0</td>\n",
              "    </tr>\n",
              "    <tr>\n",
              "      <th>Bronze</th>\n",
              "      <td>80.0</td>\n",
              "      <td>2.0</td>\n",
              "      <td>649.0</td>\n",
              "    </tr>\n",
              "    <tr>\n",
              "      <th>Silver</th>\n",
              "      <td>48.0</td>\n",
              "      <td>4.0</td>\n",
              "      <td>1438.0</td>\n",
              "    </tr>\n",
              "    <tr>\n",
              "      <th>Gold</th>\n",
              "      <td>25.0</td>\n",
              "      <td>8.0</td>\n",
              "      <td>3035.0</td>\n",
              "    </tr>\n",
              "    <tr>\n",
              "      <th>Platinum</th>\n",
              "      <td>10.0</td>\n",
              "      <td>19.0</td>\n",
              "      <td>11160.0</td>\n",
              "    </tr>\n",
              "  </tbody>\n",
              "</table>\n",
              "</div>"
            ],
            "text/plain": [
              "               recency  frequency  monetary\n",
              "customer_type                              \n",
              "Bad              184.0        1.0     277.0\n",
              "Bronze            80.0        2.0     649.0\n",
              "Silver            48.0        4.0    1438.0\n",
              "Gold              25.0        8.0    3035.0\n",
              "Platinum          10.0       19.0   11160.0"
            ]
          },
          "metadata": {},
          "execution_count": 78
        }
      ]
    },
    {
      "cell_type": "code",
      "metadata": {
        "colab": {
          "base_uri": "https://localhost:8080/",
          "height": 310
        },
        "id": "gT4GNGzgMxJa",
        "outputId": "17c21601-558e-4ab3-f760-2a56f621c528"
      },
      "source": [
        "column = ['recency','frequency','monetary']\n",
        "plt.figure(figsize=(15,4))\n",
        "for i,j in enumerate(column):\n",
        "    plt.subplot(1,3,i+1)\n",
        "    rfm.groupby('customer_type')[j].mean().round(0).plot(kind='bar', color='pink')\n",
        "    plt.title('What is the {} of each customer type'.format(j), size=13)\n",
        "    plt.xlabel('')\n",
        "    plt.xticks(rotation=45)\n",
        "\n",
        "plt.show()"
      ],
      "execution_count": 79,
      "outputs": [
        {
          "output_type": "display_data",
          "data": {
            "image/png": "[encoded data removed]",
            "text/plain": [
              "<Figure size 1080x288 with 3 Axes>"
            ]
          },
          "metadata": {
            "needs_background": "light"
          }
        }
      ]
    },
    {
      "cell_type": "code",
      "metadata": {
        "id": "0qiueRgzMz4Q"
      },
      "source": [
        ""
      ],
      "execution_count": 79,
      "outputs": []
    },
    {
      "cell_type": "code",
      "metadata": {
        "id": "Eqq_mx0GM7QZ"
      },
      "source": [
        ""
      ],
      "execution_count": 79,
      "outputs": []
    },
    {
      "cell_type": "markdown",
      "metadata": {
        "id": "DOiwblWXM8ED"
      },
      "source": [
        "K-means clustering is one of the simplest and popular unsupervised machine learning algorithms.\n",
        "\n",
        "The algorithm works as follows:\n",
        "\n",
        "* First we initialize k points, called means, randomly.\n",
        "* We categorize each item to its closest mean and we update the mean’s coordinates, which are the averages of the items categorized in that mean so far.\n",
        "* We repeat the process for a given number of iterations and at the end, we have our clusters."
      ]
    },
    {
      "cell_type": "markdown",
      "metadata": {
        "id": "cn1MiRaRNEDU"
      },
      "source": [
        "## 3. k-Means Clustering"
      ]
    },
    {
      "cell_type": "code",
      "metadata": {
        "colab": {
          "base_uri": "https://localhost:8080/",
          "height": 206
        },
        "id": "8vyvvuiSM7v9",
        "outputId": "a230191f-b3a6-4178-9d86-560c2bcb3d1a"
      },
      "source": [
        "# copying the data into new variable\n",
        "df_kmeans = rfm.copy()\n",
        "# taking only relevant columns\n",
        "df_kmeans = df_kmeans.iloc[:,:4]\n",
        "df_kmeans.head()"
      ],
      "execution_count": 80,
      "outputs": [
        {
          "output_type": "execute_result",
          "data": {
            "text/html": [
              "<div>\n",
              "<style scoped>\n",
              "    .dataframe tbody tr th:only-of-type {\n",
              "        vertical-align: middle;\n",
              "    }\n",
              "\n",
              "    .dataframe tbody tr th {\n",
              "        vertical-align: top;\n",
              "    }\n",
              "\n",
              "    .dataframe thead th {\n",
              "        text-align: right;\n",
              "    }\n",
              "</style>\n",
              "<table border=\"1\" class=\"dataframe\">\n",
              "  <thead>\n",
              "    <tr style=\"text-align: right;\">\n",
              "      <th></th>\n",
              "      <th>Customer ID</th>\n",
              "      <th>recency</th>\n",
              "      <th>frequency</th>\n",
              "      <th>monetary</th>\n",
              "    </tr>\n",
              "  </thead>\n",
              "  <tbody>\n",
              "    <tr>\n",
              "      <th>0</th>\n",
              "      <td>12346.0</td>\n",
              "      <td>165</td>\n",
              "      <td>11</td>\n",
              "      <td>372.86</td>\n",
              "    </tr>\n",
              "    <tr>\n",
              "      <th>1</th>\n",
              "      <td>12347.0</td>\n",
              "      <td>3</td>\n",
              "      <td>2</td>\n",
              "      <td>1323.32</td>\n",
              "    </tr>\n",
              "    <tr>\n",
              "      <th>2</th>\n",
              "      <td>12348.0</td>\n",
              "      <td>74</td>\n",
              "      <td>1</td>\n",
              "      <td>222.16</td>\n",
              "    </tr>\n",
              "    <tr>\n",
              "      <th>3</th>\n",
              "      <td>12349.0</td>\n",
              "      <td>43</td>\n",
              "      <td>3</td>\n",
              "      <td>2671.14</td>\n",
              "    </tr>\n",
              "    <tr>\n",
              "      <th>4</th>\n",
              "      <td>12351.0</td>\n",
              "      <td>11</td>\n",
              "      <td>1</td>\n",
              "      <td>300.93</td>\n",
              "    </tr>\n",
              "  </tbody>\n",
              "</table>\n",
              "</div>"
            ],
            "text/plain": [
              "   Customer ID  recency  frequency  monetary\n",
              "0      12346.0      165         11    372.86\n",
              "1      12347.0        3          2   1323.32\n",
              "2      12348.0       74          1    222.16\n",
              "3      12349.0       43          3   2671.14\n",
              "4      12351.0       11          1    300.93"
            ]
          },
          "metadata": {},
          "execution_count": 80
        }
      ]
    },
    {
      "cell_type": "code",
      "metadata": {
        "colab": {
          "base_uri": "https://localhost:8080/",
          "height": 338
        },
        "id": "t2C7mS4jNHIf",
        "outputId": "cee5678d-d113-45f5-f9fc-42d153d272e0"
      },
      "source": [
        "plt.figure(figsize=(15,5))\n",
        "plt.subplot(1,3,1)\n",
        "plt.scatter(df_kmeans.recency, df_kmeans.frequency, color='grey', alpha=0.3)\n",
        "plt.title('Recency vs Frequency', size=15)\n",
        "plt.subplot(1,3,2)\n",
        "plt.scatter(df_kmeans.monetary, df_kmeans.frequency, color='grey', alpha=0.3)\n",
        "plt.title('Monetary vs Frequency', size=15)\n",
        "plt.subplot(1,3,3)\n",
        "plt.scatter(df_kmeans.recency, df_kmeans.monetary, color='grey', alpha=0.3)\n",
        "plt.title('Recency vs Monetary', size=15)\n",
        "plt.show()"
      ],
      "execution_count": 81,
      "outputs": [
        {
          "output_type": "display_data",
          "data": {
            "image/png": "[encoded data removed]",
            "text/plain": [
              "<Figure size 1080x360 with 3 Axes>"
            ]
          },
          "metadata": {
            "needs_background": "light"
          }
        }
      ]
    },
    {
      "cell_type": "code",
      "metadata": {
        "colab": {
          "base_uri": "https://localhost:8080/",
          "height": 336
        },
        "id": "FKZgjm-iNQ4i",
        "outputId": "7793b151-c2ec-456e-87d4-5c38662bddc0"
      },
      "source": [
        "# checking the distribution of the variables\n",
        "\n",
        "column = ['recency','frequency','monetary']\n",
        "plt.figure(figsize=(15,5))\n",
        "for i,j in enumerate(column):\n",
        "    plt.subplot(1,3,i+1)\n",
        "    sns.boxplot(df_kmeans[j], color='skyblue')\n",
        "    plt.xlabel('')\n",
        "    plt.title('{}'.format(j.upper()), size=13)\n",
        "plt.show()"
      ],
      "execution_count": 82,
      "outputs": [
        {
          "output_type": "display_data",
          "data": {
            "image/png": "[encoded data removed]",
            "text/plain": [
              "<Figure size 1080x360 with 3 Axes>"
            ]
          },
          "metadata": {
            "needs_background": "light"
          }
        }
      ]
    },
    {
      "cell_type": "code",
      "metadata": {
        "id": "rUZ3dmASNTA_"
      },
      "source": [
        "# Removing outliers for Monetary\n",
        "Q1 = df_kmeans.monetary.quantile(0.05)\n",
        "Q3 = df_kmeans.monetary.quantile(0.95)\n",
        "IQR = Q3 - Q1\n",
        "df_kmeans = df_kmeans[(df_kmeans.monetary >= Q1 - 1.5*IQR) & (df_kmeans.monetary <= Q3 + 1.5*IQR)]\n",
        "\n",
        "# Removing outliers for Recency\n",
        "Q1 = df_kmeans.recency.quantile(0.05)\n",
        "Q3 = df_kmeans.recency.quantile(0.95)\n",
        "IQR = Q3 - Q1\n",
        "df_kmeans = df_kmeans[(df_kmeans.recency >= Q1 - 1.5*IQR) & (df_kmeans.recency <= Q3 + 1.5*IQR)]\n",
        "\n",
        "# Removing outliers for Frequency\n",
        "Q1 = df_kmeans.frequency.quantile(0.05)\n",
        "Q3 = df_kmeans.frequency.quantile(0.95)\n",
        "IQR = Q3 - Q1\n",
        "df_kmeans = df_kmeans[(df_kmeans.frequency >= Q1 - 1.5*IQR) & (df_kmeans.frequency <= Q3 + 1.5*IQR)]"
      ],
      "execution_count": 83,
      "outputs": []
    },
    {
      "cell_type": "code",
      "metadata": {
        "colab": {
          "base_uri": "https://localhost:8080/"
        },
        "id": "0sJbSYWUNVTZ",
        "outputId": "c4a1515a-b68d-4d08-b291-47d5c508e464"
      },
      "source": [
        "# resetting the index\n",
        "df_kmeans = df_kmeans.reset_index(drop=True)\n",
        "df_kmeans.info()"
      ],
      "execution_count": 84,
      "outputs": [
        {
          "output_type": "stream",
          "name": "stdout",
          "text": [
            "<class 'pandas.core.frame.DataFrame'>\n",
            "RangeIndex: 4224 entries, 0 to 4223\n",
            "Data columns (total 4 columns):\n",
            " #   Column       Non-Null Count  Dtype  \n",
            "---  ------       --------------  -----  \n",
            " 0   Customer ID  4224 non-null   float64\n",
            " 1   recency      4224 non-null   int64  \n",
            " 2   frequency    4224 non-null   int64  \n",
            " 3   monetary     4224 non-null   float64\n",
            "dtypes: float64(2), int64(2)\n",
            "memory usage: 132.1 KB\n"
          ]
        }
      ]
    },
    {
      "cell_type": "code",
      "metadata": {
        "colab": {
          "base_uri": "https://localhost:8080/",
          "height": 206
        },
        "id": "EsuKacqKNXcH",
        "outputId": "0649f54e-5d78-416a-8994-9bb019687973"
      },
      "source": [
        "# looking at random 5 rows\n",
        "df_kmeans.sample(5)"
      ],
      "execution_count": 85,
      "outputs": [
        {
          "output_type": "execute_result",
          "data": {
            "text/html": [
              "<div>\n",
              "<style scoped>\n",
              "    .dataframe tbody tr th:only-of-type {\n",
              "        vertical-align: middle;\n",
              "    }\n",
              "\n",
              "    .dataframe tbody tr th {\n",
              "        vertical-align: top;\n",
              "    }\n",
              "\n",
              "    .dataframe thead th {\n",
              "        text-align: right;\n",
              "    }\n",
              "</style>\n",
              "<table border=\"1\" class=\"dataframe\">\n",
              "  <thead>\n",
              "    <tr style=\"text-align: right;\">\n",
              "      <th></th>\n",
              "      <th>Customer ID</th>\n",
              "      <th>recency</th>\n",
              "      <th>frequency</th>\n",
              "      <th>monetary</th>\n",
              "    </tr>\n",
              "  </thead>\n",
              "  <tbody>\n",
              "    <tr>\n",
              "      <th>589</th>\n",
              "      <td>13223.0</td>\n",
              "      <td>59</td>\n",
              "      <td>4</td>\n",
              "      <td>805.92</td>\n",
              "    </tr>\n",
              "    <tr>\n",
              "      <th>1347</th>\n",
              "      <td>14302.0</td>\n",
              "      <td>66</td>\n",
              "      <td>3</td>\n",
              "      <td>742.90</td>\n",
              "    </tr>\n",
              "    <tr>\n",
              "      <th>1181</th>\n",
              "      <td>14074.0</td>\n",
              "      <td>259</td>\n",
              "      <td>1</td>\n",
              "      <td>219.40</td>\n",
              "    </tr>\n",
              "    <tr>\n",
              "      <th>1583</th>\n",
              "      <td>14623.0</td>\n",
              "      <td>16</td>\n",
              "      <td>5</td>\n",
              "      <td>1130.28</td>\n",
              "    </tr>\n",
              "    <tr>\n",
              "      <th>2697</th>\n",
              "      <td>16175.0</td>\n",
              "      <td>107</td>\n",
              "      <td>3</td>\n",
              "      <td>798.85</td>\n",
              "    </tr>\n",
              "  </tbody>\n",
              "</table>\n",
              "</div>"
            ],
            "text/plain": [
              "      Customer ID  recency  frequency  monetary\n",
              "589       13223.0       59          4    805.92\n",
              "1347      14302.0       66          3    742.90\n",
              "1181      14074.0      259          1    219.40\n",
              "1583      14623.0       16          5   1130.28\n",
              "2697      16175.0      107          3    798.85"
            ]
          },
          "metadata": {},
          "execution_count": 85
        }
      ]
    },
    {
      "cell_type": "code",
      "metadata": {
        "colab": {
          "base_uri": "https://localhost:8080/",
          "height": 206
        },
        "id": "ySSgpn1LNY5_",
        "outputId": "be06047f-61cb-4a64-db45-875c453b20e6"
      },
      "source": [
        "# removing customer id as it will not used in making cluster\n",
        "df_kmeans = df_kmeans.iloc[:,1:]\n",
        "\n",
        "# scaling the variables and store it in different df\n",
        "standard_scaler = StandardScaler()\n",
        "df_kmeans_norm = standard_scaler.fit_transform(df_kmeans)\n",
        "\n",
        "# converting it into dataframe\n",
        "df_kmeans_norm = pd.DataFrame(df_kmeans_norm)\n",
        "df_kmeans_norm.columns = ['recency','frequency','monetary']\n",
        "df_kmeans_norm.head()"
      ],
      "execution_count": 86,
      "outputs": [
        {
          "output_type": "execute_result",
          "data": {
            "text/html": [
              "<div>\n",
              "<style scoped>\n",
              "    .dataframe tbody tr th:only-of-type {\n",
              "        vertical-align: middle;\n",
              "    }\n",
              "\n",
              "    .dataframe tbody tr th {\n",
              "        vertical-align: top;\n",
              "    }\n",
              "\n",
              "    .dataframe thead th {\n",
              "        text-align: right;\n",
              "    }\n",
              "</style>\n",
              "<table border=\"1\" class=\"dataframe\">\n",
              "  <thead>\n",
              "    <tr style=\"text-align: right;\">\n",
              "      <th></th>\n",
              "      <th>recency</th>\n",
              "      <th>frequency</th>\n",
              "      <th>monetary</th>\n",
              "    </tr>\n",
              "  </thead>\n",
              "  <tbody>\n",
              "    <tr>\n",
              "      <th>0</th>\n",
              "      <td>0.744639</td>\n",
              "      <td>1.916252</td>\n",
              "      <td>-0.530938</td>\n",
              "    </tr>\n",
              "    <tr>\n",
              "      <th>1</th>\n",
              "      <td>-0.920407</td>\n",
              "      <td>-0.452950</td>\n",
              "      <td>-0.020138</td>\n",
              "    </tr>\n",
              "    <tr>\n",
              "      <th>2</th>\n",
              "      <td>-0.190665</td>\n",
              "      <td>-0.716195</td>\n",
              "      <td>-0.611928</td>\n",
              "    </tr>\n",
              "    <tr>\n",
              "      <th>3</th>\n",
              "      <td>-0.509285</td>\n",
              "      <td>-0.189706</td>\n",
              "      <td>0.704213</td>\n",
              "    </tr>\n",
              "    <tr>\n",
              "      <th>4</th>\n",
              "      <td>-0.838183</td>\n",
              "      <td>-0.716195</td>\n",
              "      <td>-0.569595</td>\n",
              "    </tr>\n",
              "  </tbody>\n",
              "</table>\n",
              "</div>"
            ],
            "text/plain": [
              "    recency  frequency  monetary\n",
              "0  0.744639   1.916252 -0.530938\n",
              "1 -0.920407  -0.452950 -0.020138\n",
              "2 -0.190665  -0.716195 -0.611928\n",
              "3 -0.509285  -0.189706  0.704213\n",
              "4 -0.838183  -0.716195 -0.569595"
            ]
          },
          "metadata": {},
          "execution_count": 86
        }
      ]
    },
    {
      "cell_type": "markdown",
      "metadata": {
        "id": "b3E0yAPMNfBJ"
      },
      "source": [
        "* Initially without any knowledge we are clustering the data into 5 clusters. The only intution to do is as in RFM we categorize the data into 5 categories.\n",
        "* Later we look different methods to decide the optimal value for k."
      ]
    },
    {
      "cell_type": "code",
      "metadata": {
        "colab": {
          "base_uri": "https://localhost:8080/"
        },
        "id": "Fu6Qx0nFNb-V",
        "outputId": "1dcf8de1-074c-4248-c76d-fc14567be2b9"
      },
      "source": [
        "# Kmeans with K=5\n",
        "\n",
        "model_clus5 = KMeans(n_clusters = 5)\n",
        "model_clus5.fit(df_kmeans_norm)"
      ],
      "execution_count": 87,
      "outputs": [
        {
          "output_type": "execute_result",
          "data": {
            "text/plain": [
              "KMeans(n_clusters=5)"
            ]
          },
          "metadata": {},
          "execution_count": 87
        }
      ]
    },
    {
      "cell_type": "code",
      "metadata": {
        "colab": {
          "base_uri": "https://localhost:8080/"
        },
        "id": "RQgdd87NNjGc",
        "outputId": "8456f077-1834-4870-9f9b-ed2d0a8d0b04"
      },
      "source": [
        "# checking the labels\n",
        "model_clus5.labels_"
      ],
      "execution_count": 88,
      "outputs": [
        {
          "output_type": "execute_result",
          "data": {
            "text/plain": [
              "array([3, 1, 1, ..., 2, 1, 3], dtype=int32)"
            ]
          },
          "metadata": {},
          "execution_count": 88
        }
      ]
    },
    {
      "cell_type": "code",
      "metadata": {
        "colab": {
          "base_uri": "https://localhost:8080/",
          "height": 206
        },
        "id": "xvDy2l4FNlEV",
        "outputId": "c67a833b-1c9d-4553-9565-8296b2276872"
      },
      "source": [
        "df_kmeans['clusters'] = model_clus5.labels_\n",
        "df_kmeans.head()"
      ],
      "execution_count": 89,
      "outputs": [
        {
          "output_type": "execute_result",
          "data": {
            "text/html": [
              "<div>\n",
              "<style scoped>\n",
              "    .dataframe tbody tr th:only-of-type {\n",
              "        vertical-align: middle;\n",
              "    }\n",
              "\n",
              "    .dataframe tbody tr th {\n",
              "        vertical-align: top;\n",
              "    }\n",
              "\n",
              "    .dataframe thead th {\n",
              "        text-align: right;\n",
              "    }\n",
              "</style>\n",
              "<table border=\"1\" class=\"dataframe\">\n",
              "  <thead>\n",
              "    <tr style=\"text-align: right;\">\n",
              "      <th></th>\n",
              "      <th>recency</th>\n",
              "      <th>frequency</th>\n",
              "      <th>monetary</th>\n",
              "      <th>clusters</th>\n",
              "    </tr>\n",
              "  </thead>\n",
              "  <tbody>\n",
              "    <tr>\n",
              "      <th>0</th>\n",
              "      <td>165</td>\n",
              "      <td>11</td>\n",
              "      <td>372.86</td>\n",
              "      <td>3</td>\n",
              "    </tr>\n",
              "    <tr>\n",
              "      <th>1</th>\n",
              "      <td>3</td>\n",
              "      <td>2</td>\n",
              "      <td>1323.32</td>\n",
              "      <td>1</td>\n",
              "    </tr>\n",
              "    <tr>\n",
              "      <th>2</th>\n",
              "      <td>74</td>\n",
              "      <td>1</td>\n",
              "      <td>222.16</td>\n",
              "      <td>1</td>\n",
              "    </tr>\n",
              "    <tr>\n",
              "      <th>3</th>\n",
              "      <td>43</td>\n",
              "      <td>3</td>\n",
              "      <td>2671.14</td>\n",
              "      <td>3</td>\n",
              "    </tr>\n",
              "    <tr>\n",
              "      <th>4</th>\n",
              "      <td>11</td>\n",
              "      <td>1</td>\n",
              "      <td>300.93</td>\n",
              "      <td>1</td>\n",
              "    </tr>\n",
              "  </tbody>\n",
              "</table>\n",
              "</div>"
            ],
            "text/plain": [
              "   recency  frequency  monetary  clusters\n",
              "0      165         11    372.86         3\n",
              "1        3          2   1323.32         1\n",
              "2       74          1    222.16         1\n",
              "3       43          3   2671.14         3\n",
              "4       11          1    300.93         1"
            ]
          },
          "metadata": {},
          "execution_count": 89
        }
      ]
    },
    {
      "cell_type": "code",
      "metadata": {
        "colab": {
          "base_uri": "https://localhost:8080/",
          "height": 238
        },
        "id": "5rE5oaUwNm6U",
        "outputId": "70559d0f-e762-4481-a853-02620a835d62"
      },
      "source": [
        "df_kmeans.groupby('clusters').mean().round(0)"
      ],
      "execution_count": 90,
      "outputs": [
        {
          "output_type": "execute_result",
          "data": {
            "text/html": [
              "<div>\n",
              "<style scoped>\n",
              "    .dataframe tbody tr th:only-of-type {\n",
              "        vertical-align: middle;\n",
              "    }\n",
              "\n",
              "    .dataframe tbody tr th {\n",
              "        vertical-align: top;\n",
              "    }\n",
              "\n",
              "    .dataframe thead th {\n",
              "        text-align: right;\n",
              "    }\n",
              "</style>\n",
              "<table border=\"1\" class=\"dataframe\">\n",
              "  <thead>\n",
              "    <tr style=\"text-align: right;\">\n",
              "      <th></th>\n",
              "      <th>recency</th>\n",
              "      <th>frequency</th>\n",
              "      <th>monetary</th>\n",
              "    </tr>\n",
              "    <tr>\n",
              "      <th>clusters</th>\n",
              "      <th></th>\n",
              "      <th></th>\n",
              "      <th></th>\n",
              "    </tr>\n",
              "  </thead>\n",
              "  <tbody>\n",
              "    <tr>\n",
              "      <th>0</th>\n",
              "      <td>25.0</td>\n",
              "      <td>11.0</td>\n",
              "      <td>4341.0</td>\n",
              "    </tr>\n",
              "    <tr>\n",
              "      <th>1</th>\n",
              "      <td>54.0</td>\n",
              "      <td>2.0</td>\n",
              "      <td>607.0</td>\n",
              "    </tr>\n",
              "    <tr>\n",
              "      <th>2</th>\n",
              "      <td>251.0</td>\n",
              "      <td>2.0</td>\n",
              "      <td>452.0</td>\n",
              "    </tr>\n",
              "    <tr>\n",
              "      <th>3</th>\n",
              "      <td>36.0</td>\n",
              "      <td>6.0</td>\n",
              "      <td>2026.0</td>\n",
              "    </tr>\n",
              "    <tr>\n",
              "      <th>4</th>\n",
              "      <td>30.0</td>\n",
              "      <td>15.0</td>\n",
              "      <td>9504.0</td>\n",
              "    </tr>\n",
              "  </tbody>\n",
              "</table>\n",
              "</div>"
            ],
            "text/plain": [
              "          recency  frequency  monetary\n",
              "clusters                              \n",
              "0            25.0       11.0    4341.0\n",
              "1            54.0        2.0     607.0\n",
              "2           251.0        2.0     452.0\n",
              "3            36.0        6.0    2026.0\n",
              "4            30.0       15.0    9504.0"
            ]
          },
          "metadata": {},
          "execution_count": 90
        }
      ]
    },
    {
      "cell_type": "markdown",
      "metadata": {
        "id": "bwplyoOWNsU9"
      },
      "source": [
        "Finding the Optimal Number of Clusters\n",
        "\n",
        "\n",
        "Elbow Curve to get the right number of Clusters\n",
        "A fundamental step for any unsupervised algorithm is to determine the optimal number of clusters into which the data may be clustered. The Elbow Method is one of the most popular methods to determine this optimal value of k."
      ]
    },
    {
      "cell_type": "code",
      "metadata": {
        "colab": {
          "base_uri": "https://localhost:8080/",
          "height": 355
        },
        "id": "cUPUPveQNpQc",
        "outputId": "5ee03a10-b7f7-4721-e772-759864af774b"
      },
      "source": [
        "# Elbow-curve/SSD\n",
        "\n",
        "ssd = []\n",
        "for num_clusters in list(range(1,11)):\n",
        "    model_clus = KMeans(n_clusters = num_clusters, max_iter=50)\n",
        "    model_clus.fit(df_kmeans_norm)\n",
        "    ssd.append(model_clus.inertia_)\n",
        "    \n",
        "# plot the SSDs for each n_clusters\n",
        "plt.figure(figsize=(10,5))\n",
        "plt.plot(np.arange(1,11,1), ssd)\n",
        "plt.xlabel('Number of cluster', size=12)\n",
        "plt.ylabel('Sum of Square Distance(SSD)', size=12)\n",
        "plt.title('Elbow Curve for deciding K', size=15)\n",
        "plt.show()"
      ],
      "execution_count": 91,
      "outputs": [
        {
          "output_type": "display_data",
          "data": {
            "image/png": "[encoded data removed]",
            "text/plain": [
              "<Figure size 720x360 with 1 Axes>"
            ]
          },
          "metadata": {
            "needs_background": "light"
          }
        }
      ]
    },
    {
      "cell_type": "code",
      "metadata": {
        "colab": {
          "base_uri": "https://localhost:8080/"
        },
        "id": "U5GxthX8N6wF",
        "outputId": "ec8e08de-037e-4d8e-e1a2-1ee8accb68de"
      },
      "source": [
        "# Silhouette analysis\n",
        "\n",
        "for num_clusters in list(range(2,11)):\n",
        "    # intialise kmeans\n",
        "    model_clus = KMeans(n_clusters = num_clusters, max_iter=50)\n",
        "    model_clus.fit(df_kmeans_norm)\n",
        "    \n",
        "    cluster_labels = model_clus.labels_\n",
        "    \n",
        "    # silhouette score\n",
        "    silhouette_avg = silhouette_score(df_kmeans_norm, cluster_labels)\n",
        "    print(\"For n_clusters={0}, the silhouette score is {1}\".format(num_clusters, silhouette_avg))"
      ],
      "execution_count": 92,
      "outputs": [
        {
          "output_type": "stream",
          "name": "stdout",
          "text": [
            "For n_clusters=2, the silhouette score is 0.5293456062629296\n",
            "For n_clusters=3, the silhouette score is 0.5069189629891666\n",
            "For n_clusters=4, the silhouette score is 0.48561951234024764\n",
            "For n_clusters=5, the silhouette score is 0.4373324553829841\n",
            "For n_clusters=6, the silhouette score is 0.4122172412384529\n",
            "For n_clusters=7, the silhouette score is 0.41612802988106434\n",
            "For n_clusters=8, the silhouette score is 0.38633034188256693\n",
            "For n_clusters=9, the silhouette score is 0.3518285496619462\n",
            "For n_clusters=10, the silhouette score is 0.35693274241406237\n"
          ]
        }
      ]
    },
    {
      "cell_type": "markdown",
      "metadata": {
        "id": "37DaqRQAOFXU"
      },
      "source": [
        "* From the elbow curve we observe the elbow at cluster 3 and cluster 4.\n",
        "* Also from Silhouette analysis we see the value is better when number of cluster will be 3 rather than 4.\n",
        "* So we now categorize the data into 3 clusters and check their RFM values and its distribution."
      ]
    },
    {
      "cell_type": "code",
      "metadata": {
        "colab": {
          "base_uri": "https://localhost:8080/"
        },
        "id": "pErdx990OCbE",
        "outputId": "eabe0a51-e956-4f5e-fc98-70ab811f2b53"
      },
      "source": [
        "# Kmeans with K=3\n",
        "model_clus3 = KMeans(n_clusters = 3)\n",
        "model_clus3.fit(df_kmeans_norm)"
      ],
      "execution_count": 93,
      "outputs": [
        {
          "output_type": "execute_result",
          "data": {
            "text/plain": [
              "KMeans(n_clusters=3)"
            ]
          },
          "metadata": {},
          "execution_count": 93
        }
      ]
    },
    {
      "cell_type": "code",
      "metadata": {
        "colab": {
          "base_uri": "https://localhost:8080/",
          "height": 206
        },
        "id": "MkkA_IlEOS24",
        "outputId": "438ce242-abd5-4145-bc69-a905e2c8f709"
      },
      "source": [
        "df_kmeans['clusters'] = model_clus3.labels_\n",
        "df_kmeans.head()"
      ],
      "execution_count": 94,
      "outputs": [
        {
          "output_type": "execute_result",
          "data": {
            "text/html": [
              "<div>\n",
              "<style scoped>\n",
              "    .dataframe tbody tr th:only-of-type {\n",
              "        vertical-align: middle;\n",
              "    }\n",
              "\n",
              "    .dataframe tbody tr th {\n",
              "        vertical-align: top;\n",
              "    }\n",
              "\n",
              "    .dataframe thead th {\n",
              "        text-align: right;\n",
              "    }\n",
              "</style>\n",
              "<table border=\"1\" class=\"dataframe\">\n",
              "  <thead>\n",
              "    <tr style=\"text-align: right;\">\n",
              "      <th></th>\n",
              "      <th>recency</th>\n",
              "      <th>frequency</th>\n",
              "      <th>monetary</th>\n",
              "      <th>clusters</th>\n",
              "    </tr>\n",
              "  </thead>\n",
              "  <tbody>\n",
              "    <tr>\n",
              "      <th>0</th>\n",
              "      <td>165</td>\n",
              "      <td>11</td>\n",
              "      <td>372.86</td>\n",
              "      <td>0</td>\n",
              "    </tr>\n",
              "    <tr>\n",
              "      <th>1</th>\n",
              "      <td>3</td>\n",
              "      <td>2</td>\n",
              "      <td>1323.32</td>\n",
              "      <td>0</td>\n",
              "    </tr>\n",
              "    <tr>\n",
              "      <th>2</th>\n",
              "      <td>74</td>\n",
              "      <td>1</td>\n",
              "      <td>222.16</td>\n",
              "      <td>0</td>\n",
              "    </tr>\n",
              "    <tr>\n",
              "      <th>3</th>\n",
              "      <td>43</td>\n",
              "      <td>3</td>\n",
              "      <td>2671.14</td>\n",
              "      <td>0</td>\n",
              "    </tr>\n",
              "    <tr>\n",
              "      <th>4</th>\n",
              "      <td>11</td>\n",
              "      <td>1</td>\n",
              "      <td>300.93</td>\n",
              "      <td>0</td>\n",
              "    </tr>\n",
              "  </tbody>\n",
              "</table>\n",
              "</div>"
            ],
            "text/plain": [
              "   recency  frequency  monetary  clusters\n",
              "0      165         11    372.86         0\n",
              "1        3          2   1323.32         0\n",
              "2       74          1    222.16         0\n",
              "3       43          3   2671.14         0\n",
              "4       11          1    300.93         0"
            ]
          },
          "metadata": {},
          "execution_count": 94
        }
      ]
    },
    {
      "cell_type": "code",
      "metadata": {
        "colab": {
          "base_uri": "https://localhost:8080/",
          "height": 174
        },
        "id": "VlrW20-7OUTc",
        "outputId": "cfff88d3-08b5-48ef-edfe-a6c685c68dc5"
      },
      "source": [
        "df_kmeans.groupby('clusters').mean().round(0)"
      ],
      "execution_count": 95,
      "outputs": [
        {
          "output_type": "execute_result",
          "data": {
            "text/html": [
              "<div>\n",
              "<style scoped>\n",
              "    .dataframe tbody tr th:only-of-type {\n",
              "        vertical-align: middle;\n",
              "    }\n",
              "\n",
              "    .dataframe tbody tr th {\n",
              "        vertical-align: top;\n",
              "    }\n",
              "\n",
              "    .dataframe thead th {\n",
              "        text-align: right;\n",
              "    }\n",
              "</style>\n",
              "<table border=\"1\" class=\"dataframe\">\n",
              "  <thead>\n",
              "    <tr style=\"text-align: right;\">\n",
              "      <th></th>\n",
              "      <th>recency</th>\n",
              "      <th>frequency</th>\n",
              "      <th>monetary</th>\n",
              "    </tr>\n",
              "    <tr>\n",
              "      <th>clusters</th>\n",
              "      <th></th>\n",
              "      <th></th>\n",
              "      <th></th>\n",
              "    </tr>\n",
              "  </thead>\n",
              "  <tbody>\n",
              "    <tr>\n",
              "      <th>0</th>\n",
              "      <td>48.0</td>\n",
              "      <td>3.0</td>\n",
              "      <td>1000.0</td>\n",
              "    </tr>\n",
              "    <tr>\n",
              "      <th>1</th>\n",
              "      <td>246.0</td>\n",
              "      <td>2.0</td>\n",
              "      <td>450.0</td>\n",
              "    </tr>\n",
              "    <tr>\n",
              "      <th>2</th>\n",
              "      <td>26.0</td>\n",
              "      <td>12.0</td>\n",
              "      <td>5357.0</td>\n",
              "    </tr>\n",
              "  </tbody>\n",
              "</table>\n",
              "</div>"
            ],
            "text/plain": [
              "          recency  frequency  monetary\n",
              "clusters                              \n",
              "0            48.0        3.0    1000.0\n",
              "1           246.0        2.0     450.0\n",
              "2            26.0       12.0    5357.0"
            ]
          },
          "metadata": {},
          "execution_count": 95
        }
      ]
    },
    {
      "cell_type": "code",
      "metadata": {
        "colab": {
          "base_uri": "https://localhost:8080/",
          "height": 281
        },
        "id": "aGWaFbwaOWu6",
        "outputId": "0b48dfc1-4fce-41b9-8fb0-02947e90a806"
      },
      "source": [
        "column = ['recency','frequency','monetary']\n",
        "plt.figure(figsize=(15,4))\n",
        "for i,j in enumerate(column):\n",
        "    plt.subplot(1,3,i+1)\n",
        "    sns.boxplot(y=df_kmeans[j], x=df_kmeans['clusters'], palette='spring')\n",
        "    plt.title('{} wrt clusters'.format(j.upper()), size=13)\n",
        "    plt.ylabel('')\n",
        "    plt.xlabel('')\n",
        "\n",
        "plt.show()"
      ],
      "execution_count": 96,
      "outputs": [
        {
          "output_type": "display_data",
          "data": {
            "image/png": "[encoded data removed]",
            "text/plain": [
              "<Figure size 1080x288 with 3 Axes>"
            ]
          },
          "metadata": {
            "needs_background": "light"
          }
        }
      ]
    },
    {
      "cell_type": "code",
      "metadata": {
        "colab": {
          "base_uri": "https://localhost:8080/",
          "height": 303
        },
        "id": "gjARRgQjOYyv",
        "outputId": "f8c6de95-a9dd-4a82-9f65-3b01d01ac731"
      },
      "source": [
        "# Creating figure\n",
        "fig = plt.figure(figsize = (8, 5))\n",
        "ax = plt.axes(projection =\"3d\")\n",
        "\n",
        "# Creating plot\n",
        "ax.scatter3D(df_kmeans.recency, df_kmeans.frequency, df_kmeans.monetary, c=df_kmeans.clusters, cmap='Accent')\n",
        "ax.set_xlabel('Recency')\n",
        "ax.set_ylabel('Frequency')\n",
        "ax.set_zlabel('Monetary')\n",
        "plt.title('RFM in 3D with Clusters', size=15)\n",
        "ax.set(facecolor='white')\n",
        "plt.show()"
      ],
      "execution_count": 97,
      "outputs": [
        {
          "output_type": "display_data",
          "data": {
            "image/png": "[encoded data removed]",
            "text/plain": [
              "<Figure size 576x360 with 1 Axes>"
            ]
          },
          "metadata": {
            "needs_background": "light"
          }
        }
      ]
    },
    {
      "cell_type": "markdown",
      "metadata": {
        "id": "LA4VXFkHOeVr"
      },
      "source": [
        "Observations:\n",
        "* In the above 3D graph, I put all the three variable into 3 axis and added the cluster variable to differentiate the points.\n",
        "* Grey points is the group of customers whose Recency is high, Frequency is low and Monetary value is also low.\n",
        "* Green points are the group of customers whose Recency is low, Frequency is better than grey ones and Monetary is good.\n",
        "* Blue points are the group of customers whose Recency is low(that is good), Frequency is better than the other two and Monetary is high."
      ]
    }
  ]
}